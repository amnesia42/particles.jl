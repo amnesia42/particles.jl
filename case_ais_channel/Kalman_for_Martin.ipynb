{
 "cells": [
  {
   "cell_type": "code",
   "execution_count": null,
   "metadata": {},
   "outputs": [],
   "source": [
    "#Kalman filter function\n",
    "function Kalman_filter(i,t,u1,v1)\n",
    "\n",
    "\n",
    "R=6371000.0;#Earth radius in meters\n",
    "nt=length(t[i].Times)\n",
    "\n",
    "\n",
    "#Create the time series of the model \n",
    "t_model=t[i].Times[1]:Second(1):t[i].Times[nt]\n",
    "mt=length(t_model)\n",
    "\n",
    "dt=1.0;\n",
    "count1=1;\n",
    "\n",
    "Kalman_sec=zeros(length(t[i].Times)-1)\n",
    "\n",
    "x_k=zeros(6,mt)\n",
    "\n",
    "C=zeros(2,mt)\n",
    "\n",
    "#Initial conditions from AIS data\n",
    "x_k[1,1]=t[i].Lon[1]\n",
    "x_k[2,1]=t[i].Lat[1]\n",
    "t_current=(t[i].Times[1]-t0).value/1000\n",
    "\n",
    "current_x=u1(x_k[1,1],x_k[2,1],0.0,t_current)\n",
    "current_y=v1(x_k[1,1],x_k[2,1],0.0,t_current)\n",
    "C[1,1]=current_x\n",
    "C[2,1]=current_y\n",
    "\n",
    "#current in direction of heading\n",
    "current_along=sind(t[i].HDG[1])*(current_x)+cosd(t[i].HDG[1])*(current_y)                #Calculate the the current along the heading of the ship\n",
    "u_ship=(0.514444*(t[i].SOG[1])*(cosd(t[i].COG[1]-t[i].HDG[1])))-current_along   \n",
    "x_k[3,1]=(u_ship*sind(t[i].HDG[1]))   # u ship clws\n",
    "x_k[4,1]=(u_ship*cosd(t[i].HDG[1]))   # v ship clws\n",
    "x_k[5,1]=0.0;\n",
    "x_k[6,1]=0.0;\n",
    "\n",
    "\n",
    "#Total velocity vectors - saving for output\n",
    "stat=zeros(5,mt)\n",
    "fill!(stat,NaN)\n",
    "utot=zeros(mt)\n",
    "vtot=zeros(mt)\n",
    "inn_squared=zeros(5,mt)\n",
    "fill!(inn_squared,NaN)\n",
    "model_stat=zeros(5,mt)\n",
    "fill!(model_stat,NaN)\n",
    "\n",
    "ttrack1=zeros(mt)\n",
    "ttrack1[1]=t_current\n",
    "utot[1]=current_x+x_k[3,1]+x_k[5,1]\n",
    "vtot[1]=current_y+x_k[4,1]+x_k[6,1]\n",
    "coslat=zeros(mt)\n",
    "fill!(coslat,NaN)\n",
    "#Identity matrix\n",
    "Id =1.0* Matrix(I,6, 6)\n",
    "a=1-(dt/(3600*3));\n",
    "sigma_x=sqrt(((1-a^2)*0.3^2)/dt)\n",
    "sigma_y=sqrt(((1-a^2)*0.3^2)/dt)\n",
    "beta=1;\n",
    "#Initial Error Covariance matrix\n",
    "P=Diagonal([0.00021^2,0.00013^2,0.0001^2,0.0001^2,0^2,0^2])\n",
    "\n",
    "#Measurement uncertainty matrix R\n",
    "# Lon Lat SOG COG HDG\n",
    "Rs= Diagonal([0.00021^2,0.00013^2,(1.7e-2*(180/pi))^2,0.051^2,(1.7e-2*(180/pi))^2])\n",
    "\n",
    "\n",
    "\n",
    "\n",
    "#Calm water speed of the ship\n",
    "for ti=1:mt-1\n",
    "    \n",
    "   #Linearized model x(k+1)=A*x(k)+B*c(k)\n",
    "   A=[[1 0 (180/(pi*R*cosd(x_k[2,ti])))*dt 0 (180/(pi*R*cosd(x_k[2,ti])))*dt 0]; [0 1 0 (180/(pi*R))*dt 0 (180/(pi*R))*dt];\n",
    "    [ 0 0 1 0 0 0]; [0 0 0 1 0 0];[0 0 0 0 a 0 ];[0 0 0 0 0 a] ]\n",
    "   B=[[(180/(pi*R*cosd(x_k[2,ti])))*dt 0];[0  (180/(pi*R))*dt];[0 0]; [0 0];[0 0];[0 0]]\n",
    "   \n",
    "    Z=Diagonal([0,0,sqrt(dt),sqrt(dt),sqrt(dt),sqrt(dt)])\n",
    "       \n",
    "   \n",
    "    \n",
    "   #Forecast    \n",
    "   x_k[:,ti+1]=A*x_k[:,ti]+B*C[:,ti]\n",
    "    \n",
    "        \n",
    "    #Noise covariance matrix\n",
    "    beta1=beta^2*(x_k[3,ti+1]-x_k[3,ti])^2\n",
    "    beta2=beta^2*(x_k[4,ti+1]-x_k[4,ti])^2\n",
    "    Qs=Diagonal([0,0,(0.0001^2),(0.0001^2),((sigma_x*5)^2+beta1),((sigma_y*5)^2+beta2)])\n",
    "    \n",
    "    P=(A*P*A')+(Z*Qs*Z')\n",
    "   \n",
    "   \n",
    "    \n",
    "  \n",
    "   \n",
    "   # Measurement update at ti+1\n",
    "   time=(t_model[ti+1]-t0).value/1000 #convert to seconds relative to t0\n",
    "   ttrack1[ti+1]=time    \n",
    "   C[1,ti+1]=u1(x_k[1,ti+1],x_k[2,ti+1],0.0,ttrack1[ti+1])\n",
    "   C[2,ti+1]=v1(x_k[1,ti+1],x_k[2,ti+1],0.0,ttrack1[ti+1])    \n",
    "   utot[ti+1]=C[1,ti+1]+x_k[3,ti+1]+x_k[5,ti+1]                 # u total velocity (calm water+current+ducurrent)\n",
    "   vtot[ti+1]=C[2,ti+1]+x_k[4,ti+1]+x_k[6,ti+1]               # v total velocity (calm water+current+dvcurrent)\n",
    "    \n",
    "    \n",
    "     \n",
    "    \n",
    "   # H Matrix   \n",
    "   H=[[1 0 0 0 0 0 ];[0 1 0 0 0 0]; \n",
    "      [0 0 x_k[4,ti+1]/(x_k[3,ti+1]^2+x_k[4,ti+1]^2)  -x_k[3,ti+1]/(x_k[3,ti+1]^2+x_k[4,ti+1]^2) 0 0];\n",
    "    [0 0 utot[ti+1]/(sqrt(utot[ti+1]^2+vtot[ti+1]^2)) vtot[ti+1]/(sqrt(utot[ti+1]^2+vtot[ti+1]^2)) utot[ti+1]/(sqrt(utot[ti+1]^2+vtot[ti+1]^2)) vtot[ti+1]/(sqrt(utot[ti+1]^2+vtot[ti+1]^2))]; \n",
    "      [0 0 vtot[ti+1]/(utot[ti+1]^2+vtot[ti+1]^2) -utot[ti+1]/(utot[ti+1]^2+vtot[ti+1]^2)  vtot[ti+1]/(utot[ti+1]^2+vtot[ti+1]^2) -utot[ti+1]/(utot[ti+1]^2+vtot[ti+1]^2)]]\n",
    "     \n",
    "   #Kalman Gain\n",
    "   KG=(P*H')*inv((H*P*H'+Rs))\n",
    "       \n",
    "   statistics=H*P*H'+Rs\n",
    "   model_statistics=H*P*H'\n",
    "    P=0.5*(P+P')\n",
    "    \n",
    "   \n",
    "   F=[[x_k[1,ti+1]]; \n",
    "      [x_k[2,ti+1]];\n",
    "      [atand(x_k[3,ti+1],x_k[4,ti+1])];\n",
    "      [sqrt(utot[ti+1]^2+vtot[ti+1]^2)];\n",
    "      [atand(utot[ti+1],vtot[ti+1])]]\n",
    "    \n",
    "   # Analysis-correction\n",
    "    count2=1\n",
    "    #Check if the model time matches the observations time\n",
    "    for count=1:nt \n",
    "    if (t_model[ti+1]==t[i].Times[count])& (count2==1)\n",
    "     Y=[[t[i].Lon[count]];\n",
    "      [t[i].Lat[count]];\n",
    "      [t[i].HDG[count]];\n",
    "    [0.51444.*t[i].SOG[count]];\n",
    "      [t[i].COG[count]]]\n",
    "            \n",
    "    \n",
    "       #Create a Date time Series for Kalman (t_model=t_AIS)     \n",
    "      Kalman_sec[count1]=(t_model[ti+1]-t0).value/1000\n",
    "       #Save the cos of Latitude\n",
    "      coslat[count1]=cosd(t[i].Lat[count]) \n",
    "        \n",
    "      #Save the innovations and the statistics           \n",
    "      innov_squared=(Y-F).^2\n",
    "            for s=1:5\n",
    "                stat[s,ti+1]=statistics[s,s]\n",
    "                inn_squared[s,ti+1]=innov_squared[s]\n",
    "                model_stat[s,ti+1]=model_statistics[s,s]\n",
    "            end\n",
    "        \n",
    "            \n",
    "     #Convert from degrees to meters  \n",
    "            \n",
    "     inn_squared[1,ti+1]=((pi.*R.*coslat[count1])./180).^2*inn_squared[1,ti+1]\n",
    "     inn_squared[2,ti+1]=((pi.*R)./180).^2*inn_squared[2,ti+1]\n",
    "     stat[1,ti+1]=((pi.*R.*coslat[count1])./180)^2*stat[1,ti+1]\n",
    "     stat[2,ti+1]=((pi.*R)./180)^2*stat[2,ti+1]\n",
    "     model_stat[1,ti+1]=((pi.*R.*coslat[count1])./180)^2*model_stat[1,ti+1]\n",
    "     model_stat[2,ti+1]=((pi.*R)./180)^2*model_stat[2,ti+1]  \n",
    "           \n",
    "      \n",
    "    #Update the measurement        \n",
    "   x_k[:,ti+1]=x_k[:,ti+1]+KG*(Y-F) #overwrite x_k\n",
    "             \n",
    "   P=(Id-KG*H)*P\n",
    "            \n",
    "   \n",
    " \n",
    "     count1=count1+1\n",
    "     count2=0\n",
    "            \n",
    "    end \n",
    "    end\n",
    "    \n",
    "end\n",
    "\n",
    "return (x_k,model_stat,stat,inn_squared,utot,vtot,t_model,Kalman_sec,C)\n",
    "    \n",
    "end"
   ]
  },
  {
   "cell_type": "code",
   "execution_count": null,
   "metadata": {},
   "outputs": [],
   "source": [
    "using Pkg\n",
    "\n",
    "Pkg.activate(\"..\")\n",
    "\n",
    "using Particles\n",
    "using NetCDF\n",
    "using DataFrames\n",
    "using CSV\n",
    "using Plots\n",
    "using Dates\n",
    "using Distributions\n",
    "using LinearAlgebra"
   ]
  },
  {
   "cell_type": "code",
   "execution_count": null,
   "metadata": {},
   "outputs": [],
   "source": [
    "t=[]\n",
    "#I use only the new Eastbound data here/Change absolute path\n",
    "push!(t,CSV.read(\"C:\\\\Users\\\\panagiot\\\\.julia\\\\Particles\\\\case_ais_channel\\\\English Channel Set Oct 2019 Eastbound.txt\",header=1));"
   ]
  },
  {
   "cell_type": "code",
   "execution_count": null,
   "metadata": {},
   "outputs": [],
   "source": [
    "#Change format of data headers\n",
    "for s=1:1\n",
    "rename!(t[s], Symbol(\"Latitude (°)\")=>Symbol(\"Lat\")) ;\n",
    "rename!(t[s], Symbol(\"Longitude (°)\")=>Symbol(\"Lon\"));\n",
    "rename!(t[s], Symbol(\"SOG (kts)\")=>Symbol(\"SOG\"));\n",
    "rename!(t[s], Symbol(\"COG (°)\")=>Symbol(\"COG\"));\n",
    "rename!(t[s], Symbol(\"HDG (°)\")=>Symbol(\"HDG\"));\n",
    "rename!(t[s], Symbol(\"ROT (°/min)\")=>Symbol(\"ROT\"));\n",
    "#Choose random ship from data\n",
    "    t[1]=t[1][t[1][:MMSI] .==t[1].MMSI[18], : ];\n",
    "end"
   ]
  },
  {
   "cell_type": "code",
   "execution_count": null,
   "metadata": {},
   "outputs": [],
   "source": [
    "\n",
    "#Plot heading and then choose manually period with steady heading\n",
    "plot(t[1].HDG)"
   ]
  },
  {
   "cell_type": "code",
   "execution_count": null,
   "metadata": {},
   "outputs": [],
   "source": [
    "\n",
    "#Choose manually period with steady heading\n",
    "t[1]=t[1][1:250,:];"
   ]
  },
  {
   "cell_type": "code",
   "execution_count": null,
   "metadata": {},
   "outputs": [],
   "source": [
    "for ti=1:length(t)\n",
    "\n",
    "   times=t[ti][1]\n",
    "\n",
    "   ts=[DateTime(t,\"dd-mm-yyyy HH:MM:SS\") for t=times]\n",
    "\n",
    "   t[ti].Times=ts\n",
    "\n",
    "end"
   ]
  },
  {
   "cell_type": "code",
   "execution_count": null,
   "metadata": {},
   "outputs": [],
   "source": [
    "#Fix Time format \n",
    "\n",
    "t[1].Times=t[1].Times.+Year(2000);"
   ]
  },
  {
   "cell_type": "code",
   "execution_count": null,
   "metadata": {},
   "outputs": [],
   "source": [
    "cd(\"P:\\\\1230882-emodnet_hrsm\\\\fromPanos\\\\gtsm3_newdata\")\n",
    "dflow_map=load_nc_info(\".\",r\"gtsm_fine_0002_map.nc\")\n",
    "t0=get_reftime(dflow_map)\n",
    "interp=load_dflow_grid(dflow_map,50,false);\n",
    "u1,v1=initialize_interpolation(dflow_map,interp,t0);\n",
    "\n",
    "t1=get_times(dflow_map,t0);\n",
    "t0=get_reftime(dflow_map);"
   ]
  },
  {
   "cell_type": "code",
   "execution_count": null,
   "metadata": {},
   "outputs": [],
   "source": [
    "cd(\"C:\\\\Users\\\\panagiot\\\\.julia\\\\Particles\")"
   ]
  },
  {
   "cell_type": "code",
   "execution_count": null,
   "metadata": {},
   "outputs": [],
   "source": [
    "i=1\n",
    "x_k,model_stat,stat,inn_squared,utot,vtot,t_model,Kalman_sec,C=Kalman_filter(i,t,u1,v1);"
   ]
  },
  {
   "cell_type": "code",
   "execution_count": null,
   "metadata": {
    "scrolled": true
   },
   "outputs": [],
   "source": [
    "width=1000\n",
    "\n",
    "height=1000\n",
    "\n",
    "Plots.default(:size,[width,height])\n",
    "\n",
    "gebco_server=WmsServer(\"emodnet-bathymetry\") #gebco or emodnet-bathymetry or open-streetmap\n",
    "\n",
    "bbox=[0.1,49.5,1.5,50.6]  #area to plot min(Lon), min(Lat), max(Lon), max(Lat)\n",
    "\n",
    "\n",
    "\n",
    "img=get_map(gebco_server,bbox,width,height)\n",
    "\n",
    "\n",
    "\n",
    "plot_image(img,bbox)\n",
    "\n",
    "\n",
    "#plot!(t[2].Lon,t[2].Lat)\n",
    "plot!(t[1].Lon,t[1].Lat)\n",
    "plot!(x_k[1,:],x_k[2,:])"
   ]
  },
  {
   "cell_type": "code",
   "execution_count": null,
   "metadata": {},
   "outputs": [],
   "source": [
    "plot(t_model,atand.(x_k[3,:],x_k[4,:]),label=\"HDG Kalman\")\n",
    "plot!(t[i].Times,t[i].HDG,label=\"HDG AIS\")\n",
    "title!(\"Kalman filter\")"
   ]
  },
  {
   "cell_type": "code",
   "execution_count": null,
   "metadata": {},
   "outputs": [],
   "source": [
    "plot(t_model,atand.(utot,vtot),label=\"COG Kalman\")\n",
    "plot!(t[i].Times,t[i].COG,label=\"COG AIS\")\n",
    "title!(\"Kalman filter\")"
   ]
  },
  {
   "cell_type": "code",
   "execution_count": null,
   "metadata": {},
   "outputs": [],
   "source": [
    "plot(t_model,sqrt.(utot.^2+vtot.^2),label=\"SOG Kalman\")\n",
    "plot!(t[i].Times,0.514444.*t[i].SOG,label=\"SOG AIS\")\n",
    "title!(\"Kalman filter\")"
   ]
  },
  {
   "cell_type": "code",
   "execution_count": null,
   "metadata": {},
   "outputs": [],
   "source": [
    "#Statistics and innovations of Kalman filter\n",
    "\n",
    "\n",
    "Rmse=zeros(5)\n",
    "sqrtmean=zeros(5)\n",
    "model_rmse=zeros(5)\n",
    "\n",
    "\n",
    "for s=1:5\n",
    "Rmse[s]=sqrt(sum(filter(!isnan,((inn_squared[s,:]))))/length(filter(!isnan,((inn_squared[s,:])))))\n",
    "sqrtmean[s]=mean(filter(!isnan,sqrt.((stat[s,:]))))\n",
    "model_rmse[s]=mean(filter(!isnan,sqrt.((model_stat[s,:]))))\n",
    "end\n",
    "\n",
    "\n",
    "#Create the Kalman timeseries\n",
    "Kalman_sec=filter(!iszero,Kalman_sec);\n",
    "Kalman_time=t0+Kalman_sec.*Second(1);"
   ]
  },
  {
   "cell_type": "code",
   "execution_count": null,
   "metadata": {},
   "outputs": [],
   "source": [
    "#Plot dcurrent\n",
    "plot(t_model,x_k[5,:],label=\"du_c\")\n",
    "plot!(t_model,x_k[6,:],label=\"dv_c\")\n",
    "ylabel!(\"[m/s]\")"
   ]
  },
  {
   "cell_type": "code",
   "execution_count": null,
   "metadata": {},
   "outputs": [],
   "source": [
    "#Plot the longitude RMSE-Predicted RMSE\n",
    "\n",
    "plot(Kalman_time,filter(!isnan,sqrt.(inn_squared[1,:])),label=\"RMSE\")\n",
    "plot!(Kalman_time,filter(!isnan,sqrt.(stat[1,:])),label=\"predicted RMSE\")\n",
    "plot!(Kalman_time,filter(!isnan,sqrt.(model_stat[1,:])),label=\"model uncertainty\")\n",
    "ylabel!(\"[meters]\")\n",
    "title!(\"Longitude\")"
   ]
  },
  {
   "cell_type": "code",
   "execution_count": null,
   "metadata": {},
   "outputs": [],
   "source": [
    "#Plot the latitude RMSE-Predicted RMSE\n",
    "\n",
    "plot(Kalman_time,filter(!isnan,sqrt.(inn_squared[2,:])),label=\"RMSE\")\n",
    "plot!(Kalman_time,filter(!isnan,sqrt.(stat[2,:])),label=\"Predicted RMSE\")\n",
    "plot!(Kalman_time,filter(!isnan,sqrt.(model_stat[2,:])),label=\"model uncertainty\")\n",
    "ylabel!(\"[meters]\")\n",
    "title!(\"Latitude\")"
   ]
  },
  {
   "cell_type": "code",
   "execution_count": null,
   "metadata": {},
   "outputs": [],
   "source": [
    "#Plot the SOG RMSE-Predicted RMSE\n",
    "\n",
    "plot(Kalman_time,filter(!isnan,sqrt.(inn_squared[4,:])),label=\"RMSE\")\n",
    "plot!(Kalman_time,filter(!isnan,sqrt.(stat[4,:])),label=\"Predicted RMSE\")\n",
    "plot!(Kalman_time,filter(!isnan,sqrt.(model_stat[4,:])),label=\" model uncertainty\")\n",
    "ylabel!(\"[m/s]\")\n",
    "title!(\"SOG\")"
   ]
  },
  {
   "cell_type": "code",
   "execution_count": null,
   "metadata": {},
   "outputs": [],
   "source": [
    "#Plot the COG RMSE-Predicted RMSE\n",
    "\n",
    "\n",
    "plot(Kalman_time,filter(!isnan,sqrt.(inn_squared[5,:])),label=\"RMSE\")\n",
    "plot!(Kalman_time,filter(!isnan,sqrt.(stat[5,:])),label=\"Predicted RMSE\")\n",
    "plot!(Kalman_time,filter(!isnan,sqrt.(model_stat[5,:])),label=\"model uncertainty\")\n",
    "ylabel!(\"[degrees]\")\n",
    "title!(\"COG\")"
   ]
  },
  {
   "cell_type": "code",
   "execution_count": null,
   "metadata": {},
   "outputs": [],
   "source": [
    "#Plot the HDG RMSE-Predicted RMSE\n",
    "\n",
    "plot(Kalman_time,filter(!isnan,sqrt.(inn_squared[3,:])),label=\"RMSE\")\n",
    "plot!(Kalman_time,filter(!isnan,sqrt.(stat[3,:])),label=\"Predicted RMSE\")\n",
    "ylabel!(\"[degrees]\")\n",
    "title!(\"HDG\")\n",
    "plot!(Kalman_time,filter(!isnan,sqrt.(model_stat[3,:])),label=\"model uncertainty\")"
   ]
  },
  {
   "cell_type": "code",
   "execution_count": null,
   "metadata": {},
   "outputs": [],
   "source": [
    "#Overview of the innovations statistics\n",
    "\n",
    "Name=[\"Lon\" ;\"Lat\";\"HDG\";\"SOG\";\"COG\"]\n",
    "Units=[\"meters\" ;\"meters\"; \"degrees\";\"m/s\";\"degrees\"]\n",
    "Uncertainty=[0.00021^2;0.00013^2;(1.7e-2*(180/pi))^2;0.051^2;(1.7*(180/pi))^2]\n",
    "table=[\"Type\" \"RMSE\" \"Predicted RMSE\" \"Model Uncertainty\" \"Measurement Uncertainty\" \"Units\"; Name Rmse sqrtmean model_rmse Uncertainty Units ]"
   ]
  },
  {
   "cell_type": "code",
   "execution_count": null,
   "metadata": {
    "scrolled": true
   },
   "outputs": [],
   "source": [
    "#Plot data gaps\n",
    "\n",
    "data_gaps=zeros(length(Kalman_sec)-1)\n",
    "\n",
    "for dg=1:length(Kalman_sec)-1\n",
    "    data_gaps[dg]=Kalman_sec[dg+1]-Kalman_sec[dg]\n",
    "end\n",
    "plot(log10.(data_gaps),label=\"Data gaps\")\n",
    "ylabel!(\"[log seconds]\")\n"
   ]
  },
  {
   "cell_type": "code",
   "execution_count": null,
   "metadata": {},
   "outputs": [],
   "source": [
    "HDG_k=atand.(x_k[3,:],x_k[4,:])\n",
    "COG_k=atand.(utot,vtot);\n",
    "SOG_k=sqrt.(utot.^2+vtot.^2);"
   ]
  },
  {
   "cell_type": "code",
   "execution_count": null,
   "metadata": {},
   "outputs": [],
   "source": [
    "Calong=sind.(HDG_k).*C[1,:]+cosd.(HDG_k).*C[2,:];\n",
    "Ccross=cosd.(HDG_k).*C[1,:]-sind.(HDG_k).*C[2,:];\n",
    "\n",
    "Calong_c=sind.(HDG_k).*x_k[5,:]+cosd.(HDG_k).*x_k[6,:];\n",
    "Ccross_c=cosd.(HDG_k).*x_k[5,:]-sind.(HDG_k).*x_k[6,:];\n",
    "\n",
    "vb=sind.(COG_k.-HDG_k).*((SOG_k));\n",
    "ub=cosd.(COG_k.-HDG_k).*((SOG_k));\n",
    "\n",
    "uboat_k=sind.(HDG_k).*x_k[3,:]+cosd.(HDG_k).*x_k[4,:];\n",
    "vboat_k=cosd.(HDG_k).*x_k[3,:]-sind.(HDG_k).*x_k[4,:];"
   ]
  },
  {
   "cell_type": "code",
   "execution_count": null,
   "metadata": {},
   "outputs": [],
   "source": [
    "plot(t_model,Ccross,label=\"current\")\n",
    "plot!(t_model,Ccross_c,label=\"dcurrent\")\n",
    "plot!(t_model,vboat_k,label=\"ship\")\n",
    "plot!(t_model,vb,label=\" Kalman (ship+dcurrent+current))\")\n",
    "plot!(t[i].Times,sind.(t[i].COG.-t[i].HDG).*((t[i].SOG.*0.51444)),label=\"No Kalman-AIS\",legend=:topright)\n",
    "\n",
    "#plot!(t[i].Times,Ccross_DSCM,label=\"current_DSCM\")\n",
    "\n",
    "ylabel!(\"[m/s]\")\n",
    "title!(\"cross\")"
   ]
  },
  {
   "cell_type": "code",
   "execution_count": null,
   "metadata": {},
   "outputs": [],
   "source": []
  }
 ],
 "metadata": {
  "kernelspec": {
   "display_name": "Julia 1.2.0",
   "language": "julia",
   "name": "julia-1.2"
  },
  "language_info": {
   "file_extension": ".jl",
   "mimetype": "application/julia",
   "name": "julia",
   "version": "1.2.0"
  }
 },
 "nbformat": 4,
 "nbformat_minor": 2
}
