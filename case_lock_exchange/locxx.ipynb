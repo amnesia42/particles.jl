{
 "cells": [
  {
   "cell_type": "markdown",
   "metadata": {},
   "source": [
    "# Lock exchange flow example\n",
    "This is a test case with particles released in a simple looping flow field \n",
    "The background flow velocity is given by a lock exchange flow."
   ]
  },
  {
   "cell_type": "code",
   "execution_count": 1,
   "metadata": {},
   "outputs": [
    {
     "name": "stderr",
     "output_type": "stream",
     "text": [
      "\u001b[32m\u001b[1m  Activating\u001b[22m\u001b[39m project at `e:\\Master_Thesis\\particles.jl`\n"
     ]
    }
   ],
   "source": [
    "# Load required libraries\n",
    "using Pkg\n",
    "Pkg.instantiate()\n",
    "Pkg.activate(\"..\")\n",
    "using Particles\n",
    "using Plots\n",
    "gr()\n",
    "using Random\n",
    "\n",
    "randpool = MersenneTwister(0) #Generate same random numbers every time\n",
    "\n",
    "nothing"
   ]
  },
  {
   "cell_type": "code",
   "execution_count": 34,
   "metadata": {},
   "outputs": [
    {
     "name": "stderr",
     "output_type": "stream",
     "text": [
      "┌ Info: e:\\Master_Thesis\\particles.jl\\case_lock_exchange\\locxx_map.nc\n",
      "└ @ Particles e:\\Master_Thesis\\particles.jl\\src\\dflow.jl:27\n"
     ]
    },
    {
     "ename": "ErrorException",
     "evalue": "type Array has no field variables",
     "output_type": "error",
     "traceback": [
      "type Array has no field variables\n",
      "\n",
      "Stacktrace:\n",
      " [1] getproperty(x::Vector{Any}, f::Symbol)\n",
      "   @ Base .\\Base.jl:38\n",
      " [2] top-level scope\n",
      "   @ e:\\Master_Thesis\\particles.jl\\case_lock_exchange\\locxx.ipynb:2"
     ]
    }
   ],
   "source": [
    "dflow_map = load_nc_info(@__DIR__, r\"locxx_map.nc\")\n",
    "dflow_map.variables"
   ]
  },
  {
   "cell_type": "code",
   "execution_count": 17,
   "metadata": {},
   "outputs": [
    {
     "name": "stdout",
     "output_type": "stream",
     "text": [
      "compute index:\n",
      "- e:\\Master_Thesis\\particles.jl\\case_lock_exchange\\locxx_map.nc\n"
     ]
    },
    {
     "name": "stderr",
     "output_type": "stream",
     "text": [
      "┌ Info: e:\\Master_Thesis\\particles.jl\\case_lock_exchange\\locxx_map.nc\n",
      "└ @ Particles e:\\Master_Thesis\\particles.jl\\src\\dflow.jl:27\n"
     ]
    },
    {
     "data": {
      "text/plain": [
       "true"
      ]
     },
     "metadata": {},
     "output_type": "display_data"
    }
   ],
   "source": [
    "# load useful default settings \n",
    "d=default_userdata()\n",
    "n=10 #number of particles\n",
    "\n",
    "# general setting\n",
    "d[\"coordinates\"] = \"projected\"\n",
    "d[\"time_direction\"] = :forwards # :forwards or :backwards\n",
    "d[\"variables\"] = [\"x\",\"y\", \"z\", \"age\"]\n",
    "\n",
    "# load data from nc file \n",
    "dflow_map = load_nc_info(@__DIR__, r\"locxx_map.nc\")\n",
    "# construct a grid for interpolation\n",
    "# 2nd argument is number of grid points per dimension\n",
    "# 3rd argument to supress spherical coordinates\n",
    "interp = load_dflow_grid(dflow_map, 50, false); \n",
    "\n",
    "# read the reftime from the file\n",
    "d[\"reftime\"] = get_reftime(dflow_map)\n",
    "t_ref = get_reftime(dflow_map)\n",
    "rel_times = get_times(dflow_map, t_ref)\n",
    "d[\"dt\"] = rel_times[2] - rel_times[1]\n",
    "\n",
    "# plot maps\n",
    "d[\"plot_maps_times\"] = rel_times                        # Time at which plot should be made\n",
    "d[\"plot_maps\"] = true\n",
    "\n",
    "# particle settings\n",
    "d[\"nparticles\"]= 10 #number of particles\n",
    "p0 = zeros(length(d[\"variables\"]), length(d[\"nparticles\"]))\n",
    "p0[1, :] = \n"
   ]
  },
  {
   "cell_type": "code",
   "execution_count": 1,
   "metadata": {},
   "outputs": [
    {
     "ename": "UndefVarError",
     "evalue": "UndefVarError: dflow_map not defined",
     "output_type": "error",
     "traceback": [
      "UndefVarError: dflow_map not defined\n",
      "\n",
      "Stacktrace:\n",
      " [1] top-level scope\n",
      "   @ e:\\Master_Thesis\\particles.jl\\case_lock_exchange\\locxx.ipynb:1"
     ]
    }
   ],
   "source": [
    "display(dflow_map)\n",
    "display(d[\"variables\"])"
   ]
  },
  {
   "cell_type": "code",
   "execution_count": 19,
   "metadata": {},
   "outputs": [],
   "source": [
    "# # check default reftime\n",
    "# println(d[\"reftime\"])\n",
    "# # read reftime and times using lib functions\n",
    "# t_ref = get_reftime(dflow_map)\n",
    "# println(t_ref)\n",
    "# println(d[\"reftime\"] == t_ref)\n",
    "# times = get_times(dflow_map, t_ref)\n",
    "# # read times, equivalent to using lib functions\n",
    "# time_relative = dflow_map[1].vars[\"time\"]\n",
    "# units = time_relative.atts[\"units\"]\n",
    "# println(time_relative == times)\n",
    "# println(time_relative == dflow_map[1][\"time\"][:])"
   ]
  },
  {
   "cell_type": "code",
   "execution_count": 20,
   "metadata": {},
   "outputs": [
    {
     "data": {
      "text/plain": [
       "Particles.var\"#f#20\"{Interpolator, Float64, Symbol, Particles.var\"#weights#19\", Particles.var\"#update_cache_backwards#17\"{Vector{Any}}, Particles.var\"#update_cache_forwards#14\"{Vector{Int64}, Vector{Any}, Bool, Int64}, Vector{Any}}"
      ]
     },
     "metadata": {},
     "output_type": "display_data"
    },
    {
     "name": "stdout",
     "output_type": "stream",
     "text": [
      "initialize caching for e:\\Master_Thesis\\particles.jl\\case_lock_exchange\\locxx_map.nc mesh2d_ucx...\n",
      "initialize caching for e:\\Master_Thesis\\particles.jl\\case_lock_exchange\\locxx_map.nc mesh2d_ucy...\n"
     ]
    }
   ],
   "source": [
    "# prepare the interpolator for velocity field\n",
    "# no need for the 3rd dimension \n",
    "u = initialize_interpolation(dflow_map, interp, \"mesh2d_ucx\", d[\"reftime\"], 0.0, d[\"time_direction\"]);\n",
    "v = initialize_interpolation(dflow_map, interp, \"mesh2d_ucy\", d[\"reftime\"], 0.0, d[\"time_direction\"]);\n",
    "display(typeof(u))\n"
   ]
  },
  {
   "cell_type": "code",
   "execution_count": 21,
   "metadata": {},
   "outputs": [
    {
     "data": {
      "text/plain": [
       "\"e:\\\\Master_Thesis\\\\particles.jl\\\\case_lock_exchange\\\\bkimg.png\""
      ]
     },
     "metadata": {},
     "output_type": "display_data"
    }
   ],
   "source": [
    "# explicitly prepare the grid for ploting\n",
    "scale = 10\n",
    "x_resolution=31 #[0,300]\n",
    "y_resolution=31   #[0,1]\n",
    "x = collect(range(minimum(dflow_map[1][\"mesh2d_node_x\"][:]), maximum(dflow_map[1][\"mesh2d_node_x\"][:]), length=x_resolution))\n",
    "y = collect(range(minimum(dflow_map[1][\"mesh2d_node_y\"][:]), maximum(dflow_map[1][\"mesh2d_node_y\"][:]), length=y_resolution))\n",
    "\n",
    "xs=kron(x,ones(length(y)))\n",
    "ys=kron(ones(length(x)),y)\n",
    "Plots.default(:size, d[\"plot_maps_size\"])\n",
    "u_plot = zeros(length(x)*length(y))\n",
    "v_plot = zeros(length(x)*length(y))\n",
    "for i = 1:length(x)\n",
    "    for j = 1:length(y)\n",
    "        u_plot[(i-1)*length(y)+j] = u(x[i], y[j], 0.0, 30.0)\n",
    "        v_plot[(i-1)*length(y)+j] = v(x[i], y[j], 0.0, 30.0)\n",
    "    end\n",
    "end\n",
    "quiver(xs,ys,quiver=(scale*u_plot,scale*v_plot))\n",
    "savefig(\"bkimg.png\")\n"
   ]
  },
  {
   "cell_type": "code",
   "execution_count": 22,
   "metadata": {},
   "outputs": [
    {
     "data": {
      "text/plain": [
       "f1! (generic function with 1 method)"
      ]
     },
     "metadata": {},
     "output_type": "display_data"
    }
   ],
   "source": [
    "###### Velocity function for the particles ######\n",
    "function f1!(ds, s, t, i, d)\n",
    "   x, y, z, age = s\n",
    "   z = 0.0\n",
    "   up = 0\n",
    "   vp = 0\n",
    "   dt = d[\"dt\"]\n",
    "   uw = u(x, y, z, t)\n",
    "   vw = v(x, y, z, t)\n",
    "\n",
    "   # The model with :\n",
    "   # 1: Only flow velocities\n",
    "   up = uw\n",
    "   vp = vw\n",
    "   # original computation for computing the particle velocity\n",
    "   #(K, Kdx, Kdy) = estimate_viscosity_smag(interp, x, y, t, u, v)\n",
    "   #if !(uw == vw == ua == va == 0.0)\n",
    "   #   # https://doi.org/10.1016/j.ocemod.2017.11.008 eq. 27\n",
    "   #   up += Kdy + randn() * sqrt(2 * K * dt) / dt\n",
    "   #   vp += Kdx + randn() * sqrt(2 * K * dt) / dt\n",
    "   #end\n",
    "   \n",
    "   epsx = 0#1\n",
    "   epsz = 0#1e-5\n",
    "   up += randn()*sqrt(2*epsx*dt)/dt\n",
    "   vp += randn()*sqrt(2*epsz*dt)/dt\n",
    "\n",
    "   ds.x = up\n",
    "   ds.y = vp\n",
    "   ds.z = 0.0\n",
    "   ds.t = 1.0\n",
    "\n",
    "\n",
    "   if d[\"time_direction\"] == :backwards\n",
    "      up *= -1\n",
    "      vp *= -1\n",
    "   end\n",
    "end\n",
    "d[\"f\"]=f1!"
   ]
  },
  {
   "cell_type": "code",
   "execution_count": 23,
   "metadata": {},
   "outputs": [
    {
     "data": {
      "text/plain": [
       "plot_background (generic function with 1 method)"
      ]
     },
     "metadata": {},
     "output_type": "display_data"
    }
   ],
   "source": [
    "# use streamfunction as background for plotting\n",
    "function plot_background(d)\n",
    "    scale = 10\n",
    "    x_resolution=91 #[0,300]\n",
    "    y_resolution=31   #[0,1]\n",
    "    x = collect(range(minimum(dflow_map[1][\"mesh2d_node_x\"][:]), maximum(dflow_map[1][\"mesh2d_node_x\"][:]), length=x_resolution))\n",
    "    y = collect(range(minimum(dflow_map[1][\"mesh2d_node_y\"][:]), maximum(dflow_map[1][\"mesh2d_node_y\"][:]), length=y_resolution))\n",
    "    xs=kron(x,ones(length(y)))\n",
    "    ys=kron(ones(length(x)),y)\n",
    "    Plots.default(:size, d[\"plot_maps_size\"])\n",
    "    u_plot = u.(xs, ys, 0, 0)\n",
    "    v_plot = v.(xs, ys, 0, 0)\n",
    "    f = quiver(xs,ys,quiver=(scale*u_plot,scale*v_plot))\n",
    "    return(f)\n",
    " end\n",
    " d[\"plot_maps_background\"] = plot_background\n",
    " "
   ]
  },
  {
   "cell_type": "code",
   "execution_count": 24,
   "metadata": {},
   "outputs": [
    {
     "name": "stdout",
     "output_type": "stream",
     "text": [
      "plotting output at t=Any[0.0, 30.00000000000005, 59.99999999999979, 89.9999999999995, 119.99999999999922, 149.99999999999997, 180.0000000000011, 210.00000000000225, 240.00000000000338, 270.0000000000045  …  330.00000000000676, 360.0000000000079, 390.00000000000904, 420.0000000000102, 450.0000000000113, 480.00000000001245, 510.0000000000136, 540.0000000000094, 570.0000000000049, 600.0]\n"
     ]
    },
    {
     "ename": "MethodError",
     "evalue": "MethodError: no method matching getindex(::Int64, ::Int64, ::Colon)\nClosest candidates are:\n  getindex(::Number, ::Integer) at number.jl:96\n  getindex(::Number, !Matched::Integer...) at number.jl:101\n  getindex(::Number) at number.jl:95\n  ...",
     "output_type": "error",
     "traceback": [
      "MethodError: no method matching getindex(::Int64, ::Int64, ::Colon)\n",
      "Closest candidates are:\n",
      "  getindex(::Number, ::Integer) at number.jl:96\n",
      "  getindex(::Number, !Matched::Integer...) at number.jl:101\n",
      "  getindex(::Number) at number.jl:95\n",
      "  ...\n",
      "\n",
      "Stacktrace:\n",
      " [1] plot_maps_xy(fig::Plots.Plot{Plots.GRBackend}, d::Dict{String, Any}, p::Int64)\n",
      "   @ Particles e:\\Master_Thesis\\particles.jl\\src\\particles_core.jl:277\n",
      " [2] run_simulation(d::Dict{String, Any})\n",
      "   @ Particles e:\\Master_Thesis\\particles.jl\\src\\particles_core.jl:97\n",
      " [3] top-level scope\n",
      "   @ .\\timing.jl:262 [inlined]\n",
      " [4] top-level scope\n",
      "   @ e:\\Master_Thesis\\particles.jl\\case_lock_exchange\\locxx.ipynb:0"
     ]
    }
   ],
   "source": [
    "#run the actual particle model\n",
    "@time run_simulation(d)"
   ]
  },
  {
   "cell_type": "code",
   "execution_count": null,
   "metadata": {},
   "outputs": [],
   "source": [
    "function plot_maps_xy(fig, d, p)\n",
    "    if \"x\" in d[\"variables\"]\n",
    "        x_index = index(\"x\", d[\"variables\"])\n",
    "        y_index = index(\"y\", d[\"variables\"])\n",
    "    elseif \"lon\" in d[\"variables\"]\n",
    "        x_index = index(\"lon\", d[\"variables\"])\n",
    "        y_index = index(\"lat\", d[\"variables\"])\n",
    "    else\n",
    "        error(\"plot_maps_xy: no spatial variables x,y or lat,lon found\")\n",
    "    end\n",
    "    scatter!(fig, p[x_index, :], p[y_index, :], markercolor = :black, legend = false)\n",
    "end"
   ]
  },
  {
   "cell_type": "code",
   "execution_count": null,
   "metadata": {},
   "outputs": [],
   "source": []
  },
  {
   "cell_type": "code",
   "execution_count": 25,
   "metadata": {},
   "outputs": [],
   "source": [
    "# # screenshot of particles\n",
    "# t_plot=d[\"keep_particle_times\"]\n",
    "# p=d[\"all_particles\"]\n",
    "# for i in 1:length(t_all)\n",
    "#     fig = d[\"plot_maps_background\"](d)\n",
    "#     fname = \"vortex\\\\screenshot_time\"*\"$(t_plot[i])\"*\".png\"\n",
    "#     d[\"plot_maps_func\"](fig, d, p[i])\n",
    "#     savefig(fig, fname)\n",
    "# end\n"
   ]
  },
  {
   "cell_type": "code",
   "execution_count": 26,
   "metadata": {},
   "outputs": [
    {
     "data": {
      "text/plain": [
       "4-element Vector{String}:\n",
       " \"x\"\n",
       " \"y\"\n",
       " \"z\"\n",
       " \"age\""
      ]
     },
     "metadata": {},
     "output_type": "display_data"
    },
    {
     "ename": "UndefVarError",
     "evalue": "UndefVarError: t_plot not defined",
     "output_type": "error",
     "traceback": [
      "UndefVarError: t_plot not defined\n",
      "\n",
      "Stacktrace:\n",
      " [1] top-level scope\n",
      "   @ e:\\Master_Thesis\\particles.jl\\case_lock_exchange\\locxx.ipynb:3"
     ]
    }
   ],
   "source": [
    "# obtain the location data\n",
    "display(d[\"variables\"])\n",
    "display(length(t_plot))\n",
    "display(\"Particle number\")\n",
    "display(n)"
   ]
  },
  {
   "cell_type": "code",
   "execution_count": 27,
   "metadata": {},
   "outputs": [],
   "source": [
    "# p_x = zeros(length(t_plot), n)\n",
    "# p_y = zeros(length(t_plot), n)\n",
    "# for i in 1:length(t_plot)\n",
    "#     p_x[i, :] = p[i][1,:]\n",
    "#     p_y[i, :] = p[i][2,:]\n",
    "# end\n",
    "\n",
    "# # prepare the data for plotting\n",
    "# # note that the data points at the first and the end are used once\n",
    "# indices = reduce(vcat, [[j for i in 1:2] for j in 1:length(t_plot)])\n",
    "# indices = indices[begin+1:end-1]\n",
    "# fig = d[\"plot_maps_background\"](d)\n",
    "# dname = \"loccx.png\"\n",
    "\n",
    "# for i in 1:n\n",
    "#     plot!(fig, p_x[indices, i], p_y[indices, i], legend=egend =:outerright, size = (1400, 800))\n",
    "# end\n",
    "\n",
    "# savefig(fig, fname)\n"
   ]
  }
 ],
 "metadata": {
  "kernelspec": {
   "display_name": "Julia 1.8.3",
   "language": "julia",
   "name": "julia-1.8"
  },
  "language_info": {
   "file_extension": ".jl",
   "mimetype": "application/julia",
   "name": "julia",
   "version": "1.8.3"
  },
  "orig_nbformat": 4
 },
 "nbformat": 4,
 "nbformat_minor": 2
}
