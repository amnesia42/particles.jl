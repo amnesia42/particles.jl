{
 "cells": [
  {
   "cell_type": "markdown",
   "metadata": {},
   "source": [
    "# Lock exchange flow example\n",
    "This is a test case with particles released in a simple looping flow field \n",
    "The background flow velocity is given by a lock exchange flow."
   ]
  },
  {
   "cell_type": "code",
   "execution_count": 22,
   "metadata": {},
   "outputs": [
    {
     "name": "stderr",
     "output_type": "stream",
     "text": [
      "\u001b[32m\u001b[1m  Activating\u001b[22m\u001b[39m project at `i:\\Master_Thesis\\particles.jl`\n"
     ]
    }
   ],
   "source": [
    "# Load required libraries\n",
    "using Pkg\n",
    "Pkg.instantiate()\n",
    "Pkg.activate(\"..\")\n",
    "using Particles\n",
    "using Plots\n",
    "using Random\n",
    "\n",
    "randpool = MersenneTwister(0) #Generate same random numbers every time\n",
    "\n",
    "nothing"
   ]
  },
  {
   "cell_type": "code",
   "execution_count": 23,
   "metadata": {},
   "outputs": [
    {
     "name": "stdout",
     "output_type": "stream",
     "text": [
      "compute index:\n",
      "- i:\\Master_Thesis\\particles.jl\\case_lock_exchange\\locxx_map.nc\n"
     ]
    },
    {
     "name": "stderr",
     "output_type": "stream",
     "text": [
      "┌ Info: i:\\Master_Thesis\\particles.jl\\case_lock_exchange\\locxx_map.nc\n",
      "└ @ Particles i:\\Master_Thesis\\particles.jl\\src\\dflow.jl:27\n"
     ]
    }
   ],
   "source": [
    "# load useful default settings \n",
    "d=default_userdata()\n",
    "n=0 #number of particles\n",
    "\n",
    "d[\"nparticles\"]=n\n",
    "d[\"plot_maps_size\"] = (2000,300)\n",
    "d[\"time_direction\"] = :forwards # :forwards or :backwards\n",
    "\n",
    "dflow_map = load_nc_info(@__DIR__, r\"locxx_map.nc\")\n",
    "\n",
    "# does the following function calculate the whole grid with same resolution\n",
    "# in each direction?\n",
    "interp = load_dflow_grid(dflow_map, 50, false);\n",
    "\n",
    "# keep some output in memory\n",
    "# no clue why a 1 should be used here; disk array indexing\n",
    "d[\"keep_particles\"] = true #keep results in memory (bad idea for a large run)\n",
    "d[\"keep_particle_times\"] = dflow_map[1][\"time\"][:]\n",
    "nothing\n"
   ]
  },
  {
   "cell_type": "code",
   "execution_count": 30,
   "metadata": {},
   "outputs": [
    {
     "data": {
      "text/plain": [
       "Particles.var\"#f#20\"{Interpolator, Float64, Symbol, Particles.var\"#weights#19\", Particles.var\"#update_cache_backwards#17\"{Vector{Any}}, Particles.var\"#update_cache_forwards#14\"{Vector{Int64}, Vector{Any}, Bool, Int64}, Vector{Any}}"
      ]
     },
     "metadata": {},
     "output_type": "display_data"
    },
    {
     "name": "stdout",
     "output_type": "stream",
     "text": [
      "initialize caching for i:\\Master_Thesis\\particles.jl\\case_lock_exchange\\locxx_map.nc mesh2d_ucx...\n",
      "initialize caching for i:\\Master_Thesis\\particles.jl\\case_lock_exchange\\locxx_map.nc mesh2d_ucy...\n"
     ]
    }
   ],
   "source": [
    "# set the reference(starting) time with default setting\n",
    "# no need for the 3rd dimension \n",
    "u = initialize_interpolation(dflow_map, interp, \"mesh2d_ucx\", d[\"reftime\"], 0.0, d[\"time_direction\"]);\n",
    "v = initialize_interpolation(dflow_map, interp, \"mesh2d_ucy\", d[\"reftime\"], 0.0, d[\"time_direction\"]);\n",
    "display(typeof(u))\n"
   ]
  },
  {
   "cell_type": "code",
   "execution_count": 29,
   "metadata": {},
   "outputs": [
    {
     "ename": "ErrorException",
     "evalue": "Trying to access before first map t=0.0 < 3.16224e7",
     "output_type": "error",
     "traceback": [
      "Trying to access before first map t=0.0 < 3.16224e7\n",
      "\n",
      "Stacktrace:\n",
      " [1] error(s::String)\n",
      "   @ Base .\\error.jl:35\n",
      " [2] (::Particles.var\"#update_cache_forwards#14\"{Vector{Int64}, Vector{Any}, Bool, Int64})(t::Float64, domainnr::Int64)\n",
      "   @ Particles i:\\Master_Thesis\\particles.jl\\src\\dflow.jl:302\n",
      " [3] (::Particles.var\"#f#20\"{Interpolator, Float64, Symbol, Particles.var\"#weights#19\", Particles.var\"#update_cache_backwards#17\"{Vector{Any}}, Particles.var\"#update_cache_forwards#14\"{Vector{Int64}, Vector{Any}, Bool, Int64}, Vector{Any}})(x::Float64, y::Float64, z::Float64, t::Float64)\n",
      "   @ Particles i:\\Master_Thesis\\particles.jl\\src\\dflow.jl:383\n",
      " [4] top-level scope\n",
      "   @ i:\\Master_Thesis\\particles.jl\\case_lock_exchange\\locxx.ipynb:16"
     ]
    }
   ],
   "source": [
    "# prepare the grid for ploting\n",
    "# use square grid\n",
    "x_resolution=601 #[0,300]\n",
    "y_resolution=3   #[0,1]\n",
    "x = collect(range(minimum(dflow_map[1][\"mesh2d_node_x\"][:]), maximum(dflow_map[1][\"mesh2d_node_x\"][:]), length=x_resolution))\n",
    "y = collect(range(minimum(dflow_map[1][\"mesh2d_node_y\"][:]), maximum(dflow_map[1][\"mesh2d_node_y\"][:]), length=y_resolution))\n",
    "\n",
    "xs=kron(x,ones(length(y)))\n",
    "ys=kron(ones(length(x)),y)\n",
    "Plots.default(:size, d[\"plot_maps_size\"])\n",
    "u_plot = zeros(length(x)*length(y))\n",
    "v_plot = zeros(length(x)*length(y))\n",
    "for i = 1:length(x)\n",
    "    for j = 1:length(y)\n",
    "        u_plot[(i-1)*length(y)+j] = u(x[i], y[j], 0.0, 0.0)\n",
    "        v_plot[(i-1)*length(y)+j] = v(x[i], y[j], 0.0, 0.0)\n",
    "    end\n",
    "end\n",
    "quiver(xs,ys,quiver=(u_plot,v_plot))\n",
    "savefig(\"bkg.png\")"
   ]
  },
  {
   "cell_type": "code",
   "execution_count": 6,
   "metadata": {},
   "outputs": [
    {
     "data": {
      "text/plain": [
       "f!"
      ]
     },
     "metadata": {},
     "output_type": "display_data"
    }
   ],
   "source": [
    "# Here is the equation that we want to solve for the particles\n",
    "\n",
    "\"\"\"\n",
    "   !f(ds,s,t,i,d)\n",
    "\n",
    "Dynamic model, computes time derivative ds of s at current time t\n",
    "for particle i and possibly using data/functions from d of type userdata.\n",
    "\"\"\"\n",
    "function f!(∂s, s, t, i, d)\n",
    "   x, y, z, age = s\n",
    "   # dx/dt=u\n",
    "    ∂s.x = u(x, y, z, t)\n",
    "   # dy/dt=v\n",
    "    ∂s.y = v(x, y, z, t)\n",
    "   # dz/dt=0\n",
    "    ∂s.z = 0.0\n",
    "   # age=(t-t0)\n",
    "    ∂s.t = 1.0\n",
    "end\n",
    "#d[\"f\"] = f!"
   ]
  },
  {
   "cell_type": "code",
   "execution_count": 7,
   "metadata": {},
   "outputs": [
    {
     "data": {
      "text/plain": [
       "f1! (generic function with 1 method)"
      ]
     },
     "metadata": {},
     "output_type": "display_data"
    }
   ],
   "source": [
    "###### Velocity function for the particles ######\n",
    "function f1!(ds, s, t, i, d)\n",
    "   x, y, z, age = s\n",
    "   z = 0.0\n",
    "                                                             # Converts radians to degrees\n",
    "   up = 0\n",
    "   vp = 0\n",
    "   dt = d[\"dt\"]\n",
    "   uw = u(x, y, z, t)\n",
    "   vw = v(x, y, z, t)\n",
    "\n",
    "   # Various models:\n",
    "   # 0: Use drifer data\n",
    "   # track_of_drifter!(ds,s,t,d[\"reftime\"],d[\"dt\"],drifter)\n",
    "   # 1: Only flow velocities\n",
    "   up = uw\n",
    "   vp = vw\n",
    "   # 2: Flow plus a factor times wind\n",
    "   # up = uw+0.016*ua*0.9\n",
    "   # vp = vw+0.016*va*0.9\n",
    "   # 3: Add stokes drift to flow velocity\n",
    "   # usJ, vsJ = uv_sJ(wh(x,y,z,t),wp(x,y,z,t),wd(x,y,z,t))\n",
    "   # up = uw+usJ\n",
    "   # vp = vw+vsJ\n",
    "   # 4: Combine flow, stokes drift and wind in an equilibrium for the particle velocity\n",
    "   # usJ, vsJ = uv_sJ(wh(x,y,z,t),wp(x,y,z,t),wd(x,y,z,t))\n",
    "   # (up,vp) = water_stokes_wind(ua,va, uw,vw,usJ,vsJ)\n",
    "\n",
    "   # Calculate and add turbulent diffusivity, using Pr=1\n",
    "   # Estimate the Eddy viscosity and its derivates, using a Smagorinsky model\n",
    "   # This is only because the horizontal diffusion is not in the flow output files\n",
    "   \n",
    "   # original computation for computing the particle velocity\n",
    "   #(K, Kdx, Kdy) = estimate_viscosity_smag(interp, x, y, t, u, v)\n",
    "   #if !(uw == vw == ua == va == 0.0)\n",
    "   #   # https://doi.org/10.1016/j.ocemod.2017.11.008 eq. 27\n",
    "   #   up += Kdy + randn() * sqrt(2 * K * dt) / dt\n",
    "   #   vp += Kdx + randn() * sqrt(2 * K * dt) / dt\n",
    "   #end\n",
    "   epsx = 1\n",
    "   epsz = 1e-5\n",
    "   up += randn()*sqrt(2*epsx*dt)/dt\n",
    "   vp += randn()*sqrt(2*epsz*dt)/dt\n",
    "\n",
    "   ds.x = up\n",
    "   ds.y = vp\n",
    "   ds.z = 0.0\n",
    "   ds.t = 1.0\n",
    "\n",
    "\n",
    "   if d[\"time_direction\"] == :backwards\n",
    "      up *= -1\n",
    "      vp *= -1\n",
    "   end\n",
    "end\n",
    "d[\"f\"]=f1!"
   ]
  },
  {
   "cell_type": "code",
   "execution_count": 8,
   "metadata": {},
   "outputs": [
    {
     "data": {
      "text/plain": [
       "plot_background (generic function with 1 method)"
      ]
     },
     "metadata": {},
     "output_type": "display_data"
    }
   ],
   "source": [
    "# use streamfunction as background for plotting\n",
    "\n",
    "function plot_background(d)\n",
    "    x = 0:5:100\n",
    "    y = 0:5:50\n",
    "    xs=kron(x,ones(length(y)))\n",
    "    ys=kron(ones(length(x)),y)\n",
    "    Plots.default(:size, d[\"plot_maps_size\"])\n",
    "    scale = 5\n",
    "    u_plot = zeros(length(x)*length(y))\n",
    "    v_plot = zeros(length(x)*length(y))\n",
    "    for i = 1:length(x)\n",
    "        for j = 1:length(y)\n",
    "            u_plot[(i-1)*length(y)+j] = u(x[i], y[j], 0.0, 0.0)\n",
    "            v_plot[(i-1)*length(y)+j] = v(x[i], y[j], 0.0, 0.0)\n",
    "        end\n",
    "    end\n",
    "    f = quiver(xs,ys,quiver=(scale*u_plot,scale*v_plot))\n",
    "    return(f)\n",
    " end\n",
    " d[\"plot_maps_background\"] = plot_background\n",
    " "
   ]
  },
  {
   "cell_type": "code",
   "execution_count": null,
   "metadata": {},
   "outputs": [],
   "source": [
    "#run the actual particle model\n",
    "\n",
    "@time run_simulation(d)"
   ]
  },
  {
   "cell_type": "code",
   "execution_count": 10,
   "metadata": {},
   "outputs": [
    {
     "data": {
      "text/plain": [
       "plot_maps_xy (generic function with 1 method)"
      ]
     },
     "metadata": {},
     "output_type": "display_data"
    }
   ],
   "source": [
    "d[\"plot_maps_func\"]"
   ]
  },
  {
   "cell_type": "code",
   "execution_count": 20,
   "metadata": {},
   "outputs": [],
   "source": [
    "# screenshot of particles\n",
    "t_plot=d[\"keep_particle_times\"]\n",
    "p=d[\"all_particles\"]\n",
    "for i in 1:length(t_all)\n",
    "    fig = d[\"plot_maps_background\"](d)\n",
    "    fname = \"vortex\\\\screenshot_time\"*\"$(t_plot[i])\"*\".png\"\n",
    "    d[\"plot_maps_func\"](fig, d, p[i])\n",
    "    savefig(fig, fname)\n",
    "end\n"
   ]
  },
  {
   "cell_type": "code",
   "execution_count": 51,
   "metadata": {},
   "outputs": [
    {
     "data": {
      "text/plain": [
       "(101,)"
      ]
     },
     "metadata": {},
     "output_type": "display_data"
    },
    {
     "data": {
      "text/plain": [
       "Vector{Any}\u001b[90m (alias for \u001b[39m\u001b[90mArray{Any, 1}\u001b[39m\u001b[90m)\u001b[39m"
      ]
     },
     "metadata": {},
     "output_type": "display_data"
    },
    {
     "data": {
      "text/plain": [
       "(4, 30)"
      ]
     },
     "metadata": {},
     "output_type": "display_data"
    },
    {
     "data": {
      "text/plain": [
       "(101,)"
      ]
     },
     "metadata": {},
     "output_type": "display_data"
    },
    {
     "data": {
      "text/plain": [
       "(4, 30)"
      ]
     },
     "metadata": {},
     "output_type": "display_data"
    },
    {
     "data": {
      "text/plain": [
       "Matrix{Float64}\u001b[90m (alias for \u001b[39m\u001b[90mArray{Float64, 2}\u001b[39m\u001b[90m)\u001b[39m"
      ]
     },
     "metadata": {},
     "output_type": "display_data"
    },
    {
     "data": {
      "text/plain": [
       "(30,)"
      ]
     },
     "metadata": {},
     "output_type": "display_data"
    },
    {
     "data": {
      "text/plain": [
       "Vector{Float64}\u001b[90m (alias for \u001b[39m\u001b[90mArray{Float64, 1}\u001b[39m\u001b[90m)\u001b[39m"
      ]
     },
     "metadata": {},
     "output_type": "display_data"
    }
   ],
   "source": [
    "display(size(p))\n",
    "display(typeof(p))\n",
    "display(size(p[1]))\n",
    "display(size(p[:][:,1]))\n",
    "display(size(p[:][1,1]))\n",
    "display(typeof(p[:][1,1]))\n",
    "\n",
    "display(size(p[1][1,:]))\n",
    "display(typeof(p[1][1,:]))"
   ]
  },
  {
   "cell_type": "code",
   "execution_count": 29,
   "metadata": {},
   "outputs": [
    {
     "data": {
      "text/plain": [
       "4-element Vector{String}:\n",
       " \"x\"\n",
       " \"y\"\n",
       " \"z\"\n",
       " \"age\""
      ]
     },
     "metadata": {},
     "output_type": "display_data"
    },
    {
     "data": {
      "text/plain": [
       "101"
      ]
     },
     "metadata": {},
     "output_type": "display_data"
    },
    {
     "data": {
      "text/plain": [
       "\"Particle number\""
      ]
     },
     "metadata": {},
     "output_type": "display_data"
    },
    {
     "data": {
      "text/plain": [
       "30"
      ]
     },
     "metadata": {},
     "output_type": "display_data"
    }
   ],
   "source": [
    "# obtain the location data\n",
    "display(d[\"variables\"])\n",
    "display(length(t_plot))\n",
    "display(\"Particle number\")\n",
    "display(n)"
   ]
  },
  {
   "cell_type": "code",
   "execution_count": 59,
   "metadata": {},
   "outputs": [
    {
     "data": {
      "text/plain": [
       "\"i:\\\\Master_Thesis\\\\particles.jl\\\\example_notebooks\\\\vortex\\\\trajectories.png\""
      ]
     },
     "metadata": {},
     "output_type": "display_data"
    }
   ],
   "source": [
    "p_x = zeros(length(t_plot), n)\n",
    "p_y = zeros(length(t_plot), n)\n",
    "for i in 1:length(t_plot)\n",
    "    p_x[i, :] = p[i][1,:]\n",
    "    p_y[i, :] = p[i][2,:]\n",
    "end\n",
    "\n",
    "# prepare the data for plotting\n",
    "# note that the data points at the first and the end are used once\n",
    "indices = reduce(vcat, [[j for i in 1:2] for j in 1:length(t_plot)])\n",
    "indices = indices[begin+1:end-1]\n",
    "fig = d[\"plot_maps_background\"](d)\n",
    "dname = \"loccx.png\"\n",
    "\n",
    "for i in 1:n\n",
    "    plot!(fig, p_x[indices, i], p_y[indices, i], legend=egend =:outerright, size = (1400, 800))\n",
    "end\n",
    "\n",
    "savefig(fig, fname)\n"
   ]
  }
 ],
 "metadata": {
  "kernelspec": {
   "display_name": "Julia 1.8.2",
   "language": "julia",
   "name": "julia-1.8"
  },
  "language_info": {
   "file_extension": ".jl",
   "mimetype": "application/julia",
   "name": "julia",
   "version": "1.8.2"
  },
  "orig_nbformat": 4
 },
 "nbformat": 4,
 "nbformat_minor": 2
}
