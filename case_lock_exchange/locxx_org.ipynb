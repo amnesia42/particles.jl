{
 "cells": [
  {
   "cell_type": "markdown",
   "metadata": {},
   "source": [
    "# Lock exchange flow example\n",
    "This is a test case with particles released in a simple looping flow field \n",
    "The background flow velocity is given by a lock exchange flow."
   ]
  },
  {
   "cell_type": "code",
   "execution_count": 1,
   "metadata": {},
   "outputs": [
    {
     "name": "stderr",
     "output_type": "stream",
     "text": [
      "\u001b[32m\u001b[1m  Activating\u001b[22m\u001b[39m project at `j:\\Master_Thesis\\particles.jl`\n"
     ]
    }
   ],
   "source": [
    "# Load required libraries\n",
    "using Pkg\n",
    "Pkg.instantiate()\n",
    "Pkg.activate(\"..\")\n",
    "using Plots\n",
    "using Particles\n",
    "using Random\n",
    "using NetCDF\n",
    "nothing"
   ]
  },
  {
   "cell_type": "code",
   "execution_count": 3,
   "metadata": {},
   "outputs": [
    {
     "name": "stdout",
     "output_type": "stream",
     "text": [
      "compute index:"
     ]
    },
    {
     "name": "stderr",
     "output_type": "stream",
     "text": [
      "┌ Info: j:\\Master_Thesis\\particles.jl\\case_lock_exchange\\locxx_map.nc\n",
      "└ @ Particles J:\\Master_Thesis\\particles.jl\\src\\dflow.jl:27\n"
     ]
    },
    {
     "name": "stdout",
     "output_type": "stream",
     "text": [
      "\n",
      "- j:\\Master_Thesis\\particles.jl\\case_lock_exchange\\locxx_map.nc\n"
     ]
    },
    {
     "data": {
      "text/plain": [
       "true"
      ]
     },
     "metadata": {},
     "output_type": "display_data"
    }
   ],
   "source": [
    "randpool = MersenneTwister(0) #Generate same random numbers every time\n",
    "\n",
    "# load useful default settings \n",
    "d=default_userdata()\n",
    "n=10 #number of particles\n",
    "\n",
    "# general setting\n",
    "d[\"coordinates\"] = \"projected\"\n",
    "d[\"nparticles\"]= 10 #number of particles\n",
    "d[\"time_direction\"] = :forwards # :forwards or :backwards\n",
    "d[\"variables\"] = [\"x\",\"y\",\"z\",\"age\"] # if not stated otherwise explicitly\n",
    "\n",
    "# load data from nc file \n",
    "dflow_map = load_nc_info(@__DIR__, r\"locxx_map.nc\")\n",
    "# construct a grid for interpolation\n",
    "# 2nd argument is number of grid points per dimension\n",
    "# 3rd argument to supress spherical coordinates\n",
    "interp = load_dflow_grid(dflow_map, 50, false); \n",
    "\n",
    "# set simulation time\n",
    "# read the reftime from the file\n",
    "d[\"reftime\"] = get_reftime(dflow_map)\n",
    "t_ref = get_reftime(dflow_map)\n",
    "rel_times = get_times(dflow_map, t_ref)\n",
    "d[\"dt\"] = rel_times[2] - rel_times[1]\n",
    "d[\"tstart\"] = rel_times[begin]\n",
    "d[\"tend\"] = rel_times[end]\n",
    "\n",
    "# particle settings\n",
    "xnodes = dflow_map[1].vars[\"mesh2d_node_x\"]\n",
    "ynodes = dflow_map[1].vars[\"mesh2d_node_y\"]\n",
    "xmin = minimum(xnodes); xmax = maximum(xnodes);\n",
    "ymin = minimum(ynodes); ymax = maximum(ynodes);\n",
    "p0 = zeros(length(d[\"variables\"]), d[\"nparticles\"])\n",
    "p0[1, :] = 0.5*(xmin+xmax)*(1 .+ rand(randpool, d[\"nparticles\"])) \n",
    "p0[2, :] = 0.5*(ymin+ymax)*(1 .+ rand(randpool, d[\"nparticles\"]))\n",
    "d[\"particles\"] = copy(p0)\n",
    "\n",
    "# record grid range in each dimension\n",
    "d[\"bbox\"] = (xmin, ymin, xmax, ymax)\n",
    "\n",
    "# plot map times \n",
    "d[\"plot_maps_times\"] = rel_times                        # Time at which plot should be made\n",
    "d[\"plot_maps\"] = false # background flow is time evolving\n",
    "                       # not suitable for using background function anymore\n",
    "d[\"plot_maps_folder\"] = \"maps\"\n",
    "d[\"plot_maps_size\"]=(2000,600)\n",
    "\n",
    "# plot particle times\n",
    "d[\"keep_particle_times\"] = rel_times                        # Time at which plot should be made\n",
    "d[\"keep_particles\"] = true\n"
   ]
  },
  {
   "cell_type": "code",
   "execution_count": 4,
   "metadata": {},
   "outputs": [
    {
     "data": {
      "text/plain": [
       "\"mesh2d_nNodes\""
      ]
     },
     "metadata": {},
     "output_type": "display_data"
    },
    {
     "data": {
      "text/plain": [
       "\"Two\""
      ]
     },
     "metadata": {},
     "output_type": "display_data"
    },
    {
     "data": {
      "text/plain": [
       "\"mesh2d_nInterfaces\""
      ]
     },
     "metadata": {},
     "output_type": "display_data"
    },
    {
     "data": {
      "text/plain": [
       "\"time\""
      ]
     },
     "metadata": {},
     "output_type": "display_data"
    },
    {
     "data": {
      "text/plain": [
       "\"mesh2d_nMax_face_nodes\""
      ]
     },
     "metadata": {},
     "output_type": "display_data"
    },
    {
     "data": {
      "text/plain": [
       "\"mesh2d_nFaces\""
      ]
     },
     "metadata": {},
     "output_type": "display_data"
    },
    {
     "data": {
      "text/plain": [
       "\"mesh2d_nLayers\""
      ]
     },
     "metadata": {},
     "output_type": "display_data"
    },
    {
     "data": {
      "text/plain": [
       "\"mesh2d_nEdges\""
      ]
     },
     "metadata": {},
     "output_type": "display_data"
    },
    {
     "data": {
      "text/plain": [
       "Dict{Any, Any} with 8 entries:\n",
       "  \"mesh2d_nNodes\"          => 802\n",
       "  \"Two\"                    => 2\n",
       "  \"mesh2d_nInterfaces\"     => 41\n",
       "  \"time\"                   => 21\n",
       "  \"mesh2d_nMax_face_nodes\" => 4\n",
       "  \"mesh2d_nFaces\"          => 400\n",
       "  \"mesh2d_nLayers\"         => 40\n",
       "  \"mesh2d_nEdges\"          => 1201"
      ]
     },
     "metadata": {},
     "output_type": "display_data"
    }
   ],
   "source": [
    "function load_nc_dims(ncFile_name)\n",
    "    nc = NetCDF.open(ncFile_name, readdimvar=true)\n",
    "    dims = Dict()\n",
    "    for k in keys(nc.dim)\n",
    "        display(k)\n",
    "        dims[k] = Int(nc.dim[k].dimlen)\n",
    "    end\n",
    "    return dims\n",
    "end\n",
    "# return a dict that stores the name and length of different dimensions\n",
    "nc_dims = load_nc_dims(\"locxx_map.nc\") \n"
   ]
  },
  {
   "cell_type": "code",
   "execution_count": 5,
   "metadata": {},
   "outputs": [
    {
     "data": {
      "text/plain": [
       "Dict{String, NcDim} with 8 entries:\n",
       "  \"mesh2d_nNodes\"          => NcDim(196608, 2, -1, \"mesh2d_nNodes\", 0x000000000…\n",
       "  \"Two\"                    => NcDim(196608, 0, -1, \"Two\", 0x0000000000000002, A…\n",
       "  \"mesh2d_nInterfaces\"     => NcDim(196608, 6, -1, \"mesh2d_nInterfaces\", 0x0000…\n",
       "  \"time\"                   => NcDim(196608, 7, 19, \"time\", 0x0000000000000015, …\n",
       "  \"mesh2d_nMax_face_nodes\" => NcDim(196608, 4, -1, \"mesh2d_nMax_face_nodes\", 0x…\n",
       "  \"mesh2d_nFaces\"          => NcDim(196608, 3, -1, \"mesh2d_nFaces\", 0x000000000…\n",
       "  \"mesh2d_nLayers\"         => NcDim(196608, 5, -1, \"mesh2d_nLayers\", 0x00000000…\n",
       "  \"mesh2d_nEdges\"          => NcDim(196608, 1, -1, \"mesh2d_nEdges\", 0x000000000…"
      ]
     },
     "metadata": {},
     "output_type": "display_data"
    },
    {
     "data": {
      "text/plain": [
       "\"mesh2d_nNodes\""
      ]
     },
     "metadata": {},
     "output_type": "display_data"
    },
    {
     "data": {
      "text/plain": [
       "\"Two\""
      ]
     },
     "metadata": {},
     "output_type": "display_data"
    },
    {
     "data": {
      "text/plain": [
       "\"mesh2d_nInterfaces\""
      ]
     },
     "metadata": {},
     "output_type": "display_data"
    },
    {
     "data": {
      "text/plain": [
       "\"time\""
      ]
     },
     "metadata": {},
     "output_type": "display_data"
    },
    {
     "data": {
      "text/plain": [
       "\"mesh2d_nMax_face_nodes\""
      ]
     },
     "metadata": {},
     "output_type": "display_data"
    },
    {
     "data": {
      "text/plain": [
       "\"mesh2d_nFaces\""
      ]
     },
     "metadata": {},
     "output_type": "display_data"
    },
    {
     "data": {
      "text/plain": [
       "\"mesh2d_nLayers\""
      ]
     },
     "metadata": {},
     "output_type": "display_data"
    },
    {
     "data": {
      "text/plain": [
       "\"mesh2d_nEdges\""
      ]
     },
     "metadata": {},
     "output_type": "display_data"
    },
    {
     "data": {
      "text/plain": [
       "Dict{String, NcVar} with 46 entries:\n",
       "  \"mesh2d_ucx\"                  => Disk Array with size 40 x 400 x 21…\n",
       "  \"mesh2d_taus\"                 => Disk Array with size 400 x 21…\n",
       "  \"mesh2d_edge_nodes\"           => Disk Array with size 2 x 1201…\n",
       "  \"mesh2d_u0\"                   => Disk Array with size 40 x 1201 x 21…\n",
       "  \"mesh2d_Numlimdt\"             => Disk Array with size 400 x 21…\n",
       "  \"mesh2d_tureps1\"              => Disk Array with size 41 x 1201 x 21…\n",
       "  \"mesh2d_q1\"                   => Disk Array with size 40 x 1201 x 21…\n",
       "  \"mesh2d_interface_z\"          => Disk Array with size 41…\n",
       "  \"mesh2d_edge_y\"               => Disk Array with size 1201…\n",
       "  \"mesh2d_face_y\"               => Disk Array with size 400…\n",
       "  \"mesh2d_edge_faces\"           => Disk Array with size 2 x 1201…\n",
       "  \"projected_coordinate_system\" => Disk Array with size …\n",
       "  \"mesh2d_u1\"                   => Disk Array with size 40 x 1201 x 21…\n",
       "  \"mesh2d_s0\"                   => Disk Array with size 400 x 21…\n",
       "  \"time\"                        => Disk Array with size 21…\n",
       "  \"mesh2d_face_x\"               => Disk Array with size 400…\n",
       "  \"mesh2d_node_x\"               => Disk Array with size 802…\n",
       "  \"mesh2d_face_x_bnd\"           => Disk Array with size 4 x 400…\n",
       "  \"mesh2d_face_nodes\"           => Disk Array with size 4 x 400…\n",
       "  ⋮                             => ⋮"
      ]
     },
     "metadata": {},
     "output_type": "display_data"
    }
   ],
   "source": [
    "ncFile_name = \"locxx_map.nc\"\n",
    "nc = NetCDF.open(ncFile_name, readdimvar=true)\n",
    "display(nc.dim) # a dict with a key of String type and a value of NcDim type\n",
    "# return a dict that stores the name and length of different dimensions using user-defined functions\n",
    "nc_dims = load_nc_dims(\"locxx_map.nc\") \n",
    "display(nc.vars) # a dict with a key of String type and an array of values"
   ]
  },
  {
   "cell_type": "code",
   "execution_count": 6,
   "metadata": {},
   "outputs": [
    {
     "data": {
      "text/plain": [
       ":forwards"
      ]
     },
     "metadata": {},
     "output_type": "display_data"
    }
   ],
   "source": [
    "d[\"time_direction\"] = :forwards # :forwards or :backwards\n"
   ]
  },
  {
   "cell_type": "code",
   "execution_count": 11,
   "metadata": {},
   "outputs": [
    {
     "data": {
      "text/plain": [
       "-999.0"
      ]
     },
     "metadata": {},
     "output_type": "display_data"
    },
    {
     "data": {
      "text/plain": [
       "Disk Array with size 802\n"
      ]
     },
     "metadata": {},
     "output_type": "display_data"
    }
   ],
   "source": [
    "display(maximum(dflow_map[1].vars[\"mesh2d_node_z\"]))\n",
    "minimum(dflow_map[1].vars[\"mesh2d_node_z\"])\n",
    "dflow_map[1].vars[\"mesh2d_node_z\"]\n"
   ]
  },
  {
   "cell_type": "code",
   "execution_count": 12,
   "metadata": {},
   "outputs": [
    {
     "data": {
      "text/plain": [
       "400-element Vector{Float64}:\n",
       " 299.62500000000006\n",
       " 298.87500000000006\n",
       " 298.12500000000006\n",
       " 297.37500000000006\n",
       " 296.62500000000006\n",
       " 295.87500000000006\n",
       " 295.12500000000006\n",
       " 294.37500000000006\n",
       " 293.62500000000006\n",
       " 292.87500000000006\n",
       "   ⋮\n",
       "   6.375000000000001\n",
       "   5.625000000000001\n",
       "   4.875000000000001\n",
       "   4.125000000000001\n",
       "   3.3750000000000004\n",
       "   2.6250000000000004\n",
       "   1.8750000000000004\n",
       "   1.1250000000000002\n",
       "   0.37500000000000006"
      ]
     },
     "metadata": {},
     "output_type": "display_data"
    }
   ],
   "source": [
    "display(nc.vars[\"mesh2d_face_x\"][:])"
   ]
  },
  {
   "cell_type": "code",
   "execution_count": 13,
   "metadata": {},
   "outputs": [
    {
     "data": {
      "text/plain": [
       "299.25000000000006"
      ]
     },
     "metadata": {},
     "output_type": "display_data"
    },
    {
     "data": {
      "text/plain": [
       "0.0"
      ]
     },
     "metadata": {},
     "output_type": "display_data"
    }
   ],
   "source": [
    "temp = dflow_map[1].vars[\"mesh2d_node_x\"]\n",
    "\n"
   ]
  },
  {
   "cell_type": "code",
   "execution_count": 9,
   "metadata": {},
   "outputs": [],
   "source": [
    "# # check default reftime\n",
    "# println(d[\"reftime\"])\n",
    "# # read reftime and times using lib functions\n",
    "# t_ref = get_reftime(dflow_map)\n",
    "# println(t_ref)\n",
    "# println(d[\"reftime\"] == t_ref)\n",
    "# times = get_times(dflow_map, t_ref)\n",
    "# # read times, equivalent to using lib functions\n",
    "# time_relative = dflow_map[1].vars[\"time\"]\n",
    "# units = time_relative.atts[\"units\"]\n",
    "# println(time_relative == times)\n",
    "# println(time_relative == dflow_map[1][\"time\"][:])"
   ]
  },
  {
   "cell_type": "code",
   "execution_count": 15,
   "metadata": {},
   "outputs": [
    {
     "data": {
      "text/plain": [
       "Particles.var\"#f#25\"{Interpolator, Float64, Symbol, Particles.var\"#weights#24\", Particles.var\"#update_cache_backwards#22\"{Vector{Any}}, Particles.var\"#update_cache_forwards#19\"{Vector{Int64}, Vector{Any}, Bool, Int64}, Vector{Any}}"
      ]
     },
     "metadata": {},
     "output_type": "display_data"
    },
    {
     "name": "stdout",
     "output_type": "stream",
     "text": [
      "initialize caching for j:\\Master_Thesis\\particles.jl\\case_lock_exchange\\locxx_map.nc mesh2d_ucx...\n",
      "initialize caching for j:\\Master_Thesis\\particles.jl\\case_lock_exchange\\locxx_map.nc mesh2d_ucy...\n"
     ]
    }
   ],
   "source": [
    "# prepare the interpolator for velocity field\n",
    "# no need for the 3rd dimension \n",
    "u = initialize_interpolation(dflow_map, interp, \"mesh2d_ucx\", d[\"reftime\"], 0.0, d[\"time_direction\"]);\n",
    "v = initialize_interpolation(dflow_map, interp, \"mesh2d_ucy\", d[\"reftime\"], 0.0, d[\"time_direction\"]);\n",
    "display(typeof(u))\n"
   ]
  },
  {
   "cell_type": "code",
   "execution_count": null,
   "metadata": {},
   "outputs": [
    {
     "ename": "ErrorException",
     "evalue": "syntax: invalid keyword argument syntax \"lc := black\" around j:\\Master_Thesis\\particles.jl\\case_lock_exchange\\locxx_org.ipynb:33",
     "output_type": "error",
     "traceback": [
      "syntax: invalid keyword argument syntax \"lc := black\" around j:\\Master_Thesis\\particles.jl\\case_lock_exchange\\locxx_org.ipynb:33\n",
      "\n",
      "Stacktrace:\n",
      " [1] top-level scope\n",
      "   @ j:\\Master_Thesis\\particles.jl\\case_lock_exchange\\locxx_org.ipynb:32"
     ]
    }
   ],
   "source": [
    "\"\"\"\n",
    "# plot with user defined function\n",
    "# not good becuase it's inefficient\n",
    "gr(legend=false)\n",
    "\n",
    "# as: arrow head size 0-1 (fraction of arrow length)\n",
    "# la: arrow alpha transparency 0-1\n",
    "function arrow0!(x, y, u, v; as=0.07, lc=:black, la=1)\n",
    "    nuv = sqrt(u^2 + v^2)\n",
    "    v1, v2 = [u;v] / nuv,  [-v;u] / nuv\n",
    "    v4 = (3*v1 + v2)/3.1623  # sqrt(10) to get unit vector\n",
    "    v5 = v4 - 2*(v4'*v2)*v2\n",
    "    v4, v5 = as*nuv*v4, as*nuv*v5\n",
    "    plot!([x,x+u], [y,y+v], lc=lc,la=la)\n",
    "    plot!([x+u,x+u-v5[1]], [y+v,y+v-v5[2]], lc=lc, la=la)\n",
    "    plot!([x+u,x+u-v4[1]], [y+v,y+v-v4[2]], lc=lc, la=la)\n",
    "end\n",
    "\n",
    "# explicitly prepare the grid for ploting\n",
    "scale = 10\n",
    "x_resolution=21 #[0,300]\n",
    "y_resolution=11   #[0,1]\n",
    "x = collect(range(minimum(dflow_map[1][\"mesh2d_node_x\"][:]), maximum(dflow_map[1][\"mesh2d_node_x\"][:]), length=x_resolution))\n",
    "y = collect(range(minimum(dflow_map[1][\"mesh2d_node_y\"][:]), maximum(dflow_map[1][\"mesh2d_node_y\"][:]), length=y_resolution))\n",
    "xs=kron(x,ones(length(y)))\n",
    "ys=kron(ones(length(x)),y)\n",
    "\n",
    "Plots.default(:size, d[\"plot_maps_size\"])\n",
    "u_plot = u.(xs, ys, 0, 100)\n",
    "v_plot = v.(xs, ys, 0, 100)\n",
    "#p = quiver(xs, ys, quiver=(scale*u_plot, scale*v_plot))\n",
    "#savefig(p, \"quiver.png\") \n",
    "for (x,y,u,v) in zip(xs, ys, u_plot,v_plot)\n",
    "    display(arrow0!(x,y,u,v;as=0.1, lc:=black, la=1))\n",
    "end\n",
    "\"\"\""
   ]
  },
  {
   "cell_type": "code",
   "execution_count": null,
   "metadata": {},
   "outputs": [],
   "source": [
    "# explicitly prepare the grid for ploting\n",
    "scale = 10\n",
    "x_resolution=31 #[0,300]\n",
    "y_resolution=31   #[0,1]\n",
    "x = collect(range(minimum(dflow_map[1][\"mesh2d_node_x\"][:]), maximum(dflow_map[1][\"mesh2d_node_x\"][:]), length=x_resolution))\n",
    "y = collect(range(minimum(dflow_map[1][\"mesh2d_node_y\"][:]), maximum(dflow_map[1][\"mesh2d_node_y\"][:]), length=y_resolution))\n",
    "xs=kron(x,ones(length(y)))\n",
    "ys=kron(ones(length(x)),y)\n",
    "\n",
    "Plots.default(:size, d[\"plot_maps_size\"])\n",
    "u_plot = u.(xs, ys, 0, 100)\n",
    "v_plot = v.(xs, ys, 0, 100)\n",
    "#p = quiver(xs, ys, quiver=(scale*u_plot, scale*v_plot))\n",
    "#savefig(p, \"quiver.png\") "
   ]
  },
  {
   "cell_type": "code",
   "execution_count": 12,
   "metadata": {},
   "outputs": [
    {
     "data": {
      "text/plain": [
       "f1! (generic function with 1 method)"
      ]
     },
     "metadata": {},
     "output_type": "display_data"
    }
   ],
   "source": [
    "###### Velocity function for the particles ######\n",
    "function f1!(ds, s, t, i, d)\n",
    "   x, y, z, age = s\n",
    "   z = 0.0\n",
    "   up = 0\n",
    "   vp = 0\n",
    "   dt = d[\"dt\"]\n",
    "   uw = u(x, y, z, t)\n",
    "   vw = v(x, y, z, t)\n",
    "\n",
    "   # The model with :\n",
    "   # 1: Only flow velocities\n",
    "   up = uw\n",
    "   vp = vw\n",
    "   # original computation for computing the particle velocity\n",
    "   #(K, Kdx, Kdy) = estimate_viscosity_smag(interp, x, y, t, u, v)\n",
    "   #if !(uw == vw == ua == va == 0.0)\n",
    "   #   # https://doi.org/10.1016/j.ocemod.2017.11.008 eq. 27\n",
    "   #   up += Kdy + randn() * sqrt(2 * K * dt) / dt\n",
    "   #   vp += Kdx + randn() * sqrt(2 * K * dt) / dt\n",
    "   #end\n",
    "   \n",
    "   epsx = 0#1\n",
    "   epsz = 0#1e-5\n",
    "   up += randn()*sqrt(2*epsx*dt)/dt\n",
    "   vp += randn()*sqrt(2*epsz*dt)/dt\n",
    "\n",
    "   ds.x = up\n",
    "   ds.y = vp\n",
    "   ds.z = 0.0\n",
    "   ds.t = 1.0\n",
    "\n",
    "\n",
    "   if d[\"time_direction\"] == :backwards\n",
    "      up *= -1\n",
    "      vp *= -1\n",
    "   end\n",
    "end\n",
    "d[\"f\"]=f1!"
   ]
  },
  {
   "cell_type": "code",
   "execution_count": 13,
   "metadata": {},
   "outputs": [
    {
     "data": {
      "text/plain": [
       "plot_vfield (generic function with 1 method)"
      ]
     },
     "metadata": {},
     "output_type": "display_data"
    }
   ],
   "source": [
    "# use streamfunction as background for plotting\n",
    "function plot_vfield(d,t)\n",
    "    x_resolution=41 #[0,300]\n",
    "    y_resolution=21   #[0,1]\n",
    "    x_min, y_min, x_max, y_max = d[\"bbox\"]\n",
    "    x = collect(range(x_min, x_max, length=x_resolution))\n",
    "    y = collect(range(y_min, y_max, length=y_resolution))\n",
    "    xs=kron(x,ones(length(y)))\n",
    "    ys=kron(ones(length(x)),y)\n",
    "    Plots.default(:size, d[\"plot_maps_size\"])\n",
    "    u_plot = u.(xs, ys, 0, 100)\n",
    "    v_plot = v.(xs, ys, 0, 100)\n",
    "    p = quiver(xs, ys, quiver=(scale*u_plot, scale*v_plot))\n",
    "    return p\n",
    " end\n",
    " d[\"plot_vfield\"] = plot_vfield "
   ]
  },
  {
   "cell_type": "code",
   "execution_count": 14,
   "metadata": {},
   "outputs": [
    {
     "data": {
      "text/plain": [
       "plot_screenshot (generic function with 1 method)"
      ]
     },
     "metadata": {},
     "output_type": "display_data"
    }
   ],
   "source": [
    "using Printf\n",
    "# screenshot of particles\n",
    "function plot_screenshot(d; dirname=\"\", fnametag=\"\")\n",
    "    t_plot=d[\"keep_particle_times\"];\n",
    "    p=d[\"all_particles\"]\n",
    "    for i in 1:length(t_plot)\n",
    "        fig = d[\"plot_vfield\"](d, t_plot[i])\n",
    "        fname = dirname* @sprintf(\"\\\\screenshot_time %.2f\",t_plot[i]) *\".png\"\n",
    "        d[\"plot_maps_func\"](fig, d, p[i])\n",
    "        savefig(fig, fname)\n",
    "    end\n",
    "  end\n",
    "  \n",
    "#   function plot_trajectories(d; dirname=\"\", fnametag=\"\")\n",
    "#       # plot particles' trajectories\n",
    "#       t_plot = d[\"keep_particle_times\"];\n",
    "#       p = d[\"all_particles\"]\n",
    "#       n = d[\"nparticles\"]\n",
    "#       p_x = zeros(length(t_plot), n)\n",
    "#       p_y = zeros(length(t_plot), n)\n",
    "#       for i in 1:length(t_plot)\n",
    "#           p_x[i, :] = p[i][1,:]\n",
    "#           p_y[i, :] = p[i][2,:]\n",
    "#       end\n",
    "  \n",
    "#       # prepare the data for plotting\n",
    "#       # note that the data points at the first and the end are used once\n",
    "#       indices = reduce(vcat, [[j for i in 1:2] for j in 1:length(t_plot)]) #reduce a vector of vectors to a vector\n",
    "#       indices = indices[begin+1:end-1]\n",
    "#       fig = d[\"plot_maps_background\"](d, t_plot[i])\n",
    "#       fname = dirname*\"\\\\trajectories_$(fnametag).png\"\n",
    "  \n",
    "#       for i in 1:n\n",
    "#           plot!(fig, p_x[indices, i], p_y[indices, i], \n",
    "#                  legend=egend =:outerright, \n",
    "#                  size = (1400, 800),\n",
    "#                  linewidth = 2.5,\n",
    "#                  markershape = :circle,\n",
    "#                  markersize = 1.5,\n",
    "#                  markerstrokecolor=:auto,\n",
    "#                  label = \"particle$(i)\")\n",
    "#       end\n",
    "  \n",
    "#       savefig(fig, fname)\n",
    "#   end"
   ]
  },
  {
   "cell_type": "code",
   "execution_count": 15,
   "metadata": {},
   "outputs": [
    {
     "data": {
      "text/plain": [
       "\"j:\\\\Master_Thesis\\\\particles.jl\\\\case_lock_exchange\\\\plots\""
      ]
     },
     "metadata": {},
     "output_type": "display_data"
    }
   ],
   "source": [
    "dirname = \"plots\"\n",
    "if ~isdir(dirname)\n",
    "    mkdir(dirname)\n",
    "end\n",
    "dirname = joinpath(@__DIR__, dirname)"
   ]
  },
  {
   "cell_type": "code",
   "execution_count": 16,
   "metadata": {},
   "outputs": [],
   "source": [
    "open(\"stdout.txt\",\"w\") do io\n",
    "    redirect_stdout(io) do\n",
    "        @time run_simulation(d)\n",
    "        plot_screenshot(d; dirname=dirname)\n",
    "    end\n",
    "end"
   ]
  },
  {
   "cell_type": "code",
   "execution_count": null,
   "metadata": {},
   "outputs": [],
   "source": []
  },
  {
   "cell_type": "code",
   "execution_count": 17,
   "metadata": {},
   "outputs": [
    {
     "data": {
      "text/plain": [
       "4×10 Matrix{Float64}:\n",
       " 273.547     286.553     174.685     …  160.24      204.274   295.982\n",
       "   0.792906    0.769645    0.630018       0.934139    0.9839    0.883845\n",
       "   0.0         0.0         0.0            0.0         0.0       0.0\n",
       "   0.0         0.0         0.0            0.0         0.0       0.0"
      ]
     },
     "metadata": {},
     "output_type": "display_data"
    },
    {
     "data": {
      "text/plain": [
       "4×10 Matrix{Float64}:\n",
       " 273.547     286.553     174.685     …  160.24      204.274   295.982\n",
       "   0.792906    0.769645    0.630018       0.934139    0.9839    0.883845\n",
       "   0.0         0.0         0.0            0.0         0.0       0.0\n",
       "  30.0        30.0        30.0           30.0        30.0      30.0"
      ]
     },
     "metadata": {},
     "output_type": "display_data"
    }
   ],
   "source": [
    "display(d[\"all_particles\"][1])\n",
    "display(d[\"all_particles\"][2])"
   ]
  }
 ],
 "metadata": {
  "kernelspec": {
   "display_name": "Julia 1.9.2",
   "language": "julia",
   "name": "julia-1.9"
  },
  "language_info": {
   "file_extension": ".jl",
   "mimetype": "application/julia",
   "name": "julia",
   "version": "1.9.2"
  },
  "orig_nbformat": 4
 },
 "nbformat": 4,
 "nbformat_minor": 2
}
