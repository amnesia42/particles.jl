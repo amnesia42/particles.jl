{
 "cells": [
  {
   "cell_type": "markdown",
   "metadata": {},
   "source": [
    "# Lock exchange flow example\n",
    "This is a test case with particles released in a simple looping flow field \n",
    "The background flow velocity is given by a lock exchange flow."
   ]
  },
  {
   "cell_type": "code",
   "execution_count": 1,
   "metadata": {},
   "outputs": [
    {
     "name": "stderr",
     "output_type": "stream",
     "text": [
      "\u001b[32m\u001b[1m  Activating\u001b[22m\u001b[39m project at `j:\\Master_Thesis\\particles.jl`"
     ]
    },
    {
     "name": "stderr",
     "output_type": "stream",
     "text": [
      "\n"
     ]
    }
   ],
   "source": [
    "# Load required libraries\n",
    "using Pkg\n",
    "Pkg.instantiate()\n",
    "Pkg.activate(\"..\")\n",
    "using Plots\n",
    "using Particles\n",
    "using Random\n",
    "nothing"
   ]
  },
  {
   "cell_type": "code",
   "execution_count": 2,
   "metadata": {},
   "outputs": [
    {
     "name": "stderr",
     "output_type": "stream",
     "text": [
      "┌ Info: j:\\Master_Thesis\\particles.jl\\case_lock_exchange\\locxx_map.nc\n",
      "└ @ Particles J:\\Master_Thesis\\particles.jl\\src\\dflow.jl:27\n"
     ]
    },
    {
     "name": "stdout",
     "output_type": "stream",
     "text": [
      "compute index:\n"
     ]
    },
    {
     "name": "stdout",
     "output_type": "stream",
     "text": [
      "- j:\\Master_Thesis\\particles.jl\\case_lock_exchange\\locxx_map.nc\n"
     ]
    },
    {
     "data": {
      "text/plain": [
       "true"
      ]
     },
     "metadata": {},
     "output_type": "display_data"
    }
   ],
   "source": [
    "randpool = MersenneTwister(0) #Generate same random numbers every time\n",
    "\n",
    "# load useful default settings \n",
    "d=default_userdata()\n",
    "n=10 #number of particles\n",
    "\n",
    "# general setting\n",
    "d[\"coordinates\"] = \"projected\"\n",
    "d[\"nparticles\"]= 10 #number of particles\n",
    "d[\"time_direction\"] = :forwards # :forwards or :backwards\n",
    "d[\"variables\"] = [\"x\",\"y\",\"z\",\"age\"] # if not stated otherwise explicitly\n",
    "\n",
    "# load data from nc file \n",
    "dflow_map = load_nc_info(@__DIR__, r\"locxx_map.nc\")\n",
    "# construct a grid for interpolation\n",
    "# 2nd argument is number of grid points per dimension\n",
    "# 3rd argument to supress spherical coordinates\n",
    "interp = load_dflow_grid(dflow_map, 50, false); \n",
    "\n",
    "# set simulation time\n",
    "# read the reftime from the file\n",
    "d[\"reftime\"] = get_reftime(dflow_map)\n",
    "t_ref = get_reftime(dflow_map)\n",
    "rel_times = get_times(dflow_map, t_ref)\n",
    "d[\"dt\"] = rel_times[2] - rel_times[1]\n",
    "d[\"tstart\"] = rel_times[begin]\n",
    "d[\"tend\"] = rel_times[end]\n",
    "\n",
    "# particle settings\n",
    "xnodes = dflow_map[1].vars[\"mesh2d_node_x\"]\n",
    "ynodes = dflow_map[1].vars[\"mesh2d_node_y\"]\n",
    "xmin = minimum(xnodes); xmax = maximum(xnodes);\n",
    "ymin = minimum(ynodes); ymax = maximum(ynodes);\n",
    "p0 = zeros(length(d[\"variables\"]), d[\"nparticles\"])\n",
    "p0[1, :] = 0.5*(xmin+xmax)*(1 .+ rand(randpool, d[\"nparticles\"])) \n",
    "p0[2, :] = 0.5*(ymin+ymax)*(1 .+ rand(randpool, d[\"nparticles\"]))\n",
    "d[\"particles\"] = copy(p0)\n",
    "\n",
    "# record grid range in each dimension\n",
    "d[\"bbox\"] = (xmin, ymin, xmax, ymax)\n",
    "\n",
    "# plot map times \n",
    "d[\"plot_maps_times\"] = rel_times                        # Time at which plot should be made\n",
    "d[\"plot_maps\"] = false # background flow is time evolving\n",
    "                       # not suitable for using background function anymore\n",
    "d[\"plot_maps_folder\"] = \"maps\"\n",
    "d[\"plot_maps_size\"]=(2000,600)\n",
    "\n",
    "# plot particle times\n",
    "d[\"keep_particle_times\"] = rel_times                        # Time at which plot should be made\n",
    "d[\"keep_particles\"] = true\n"
   ]
  },
  {
   "cell_type": "code",
   "execution_count": 3,
   "metadata": {},
   "outputs": [
    {
     "name": "stdout",
     "output_type": "stream",
     "text": [
      "initialize caching for j:\\Master_Thesis\\particles.jl\\case_lock_exchange\\locxx_map.nc mesh2d_ucx...\n"
     ]
    },
    {
     "data": {
      "text/plain": [
       "Particles.var\"#f#25\"{Interpolator, Float64, Symbol, Particles.var\"#weights#24\", Particles.var\"#update_cache_backwards#22\"{Vector{Any}}, Particles.var\"#update_cache_forwards#19\"{Vector{Int64}, Vector{Any}, Bool, Int64}, Vector{Any}}"
      ]
     },
     "metadata": {},
     "output_type": "display_data"
    },
    {
     "name": "stdout",
     "output_type": "stream",
     "text": [
      "initialize caching for j:\\Master_Thesis\\particles.jl\\case_lock_exchange\\locxx_map.nc mesh2d_ucy...\n"
     ]
    }
   ],
   "source": [
    "# prepare the interpolator for velocity field\n",
    "# no need for the 3rd dimension \n",
    "u = initialize_interpolation(dflow_map, interp, \"mesh2d_ucx\", d[\"reftime\"], 0.0, d[\"time_direction\"]);\n",
    "v = initialize_interpolation(dflow_map, interp, \"mesh2d_ucy\", d[\"reftime\"], 0.0, d[\"time_direction\"]);\n",
    "display(typeof(u))\n"
   ]
  },
  {
   "cell_type": "code",
   "execution_count": 5,
   "metadata": {},
   "outputs": [
    {
     "data": {
      "text/plain": [
       "\"j:\\\\Master_Thesis\\\\particles.jl\\\\case_lock_exchange\\\\quiver.png\""
      ]
     },
     "metadata": {},
     "output_type": "display_data"
    }
   ],
   "source": [
    "# explicitly prepare the grid for ploting\n",
    "scale = 5\n",
    "x_resolution=31 #[0,300]\n",
    "y_resolution=31   #[0,1]\n",
    "x = collect(range(minimum(dflow_map[1][\"mesh2d_node_x\"][:]), maximum(dflow_map[1][\"mesh2d_node_x\"][:]), length=x_resolution))\n",
    "y = collect(range(minimum(dflow_map[1][\"mesh2d_node_y\"][:]), maximum(dflow_map[1][\"mesh2d_node_y\"][:]), length=y_resolution))\n",
    "xs=kron(x,ones(length(y)))\n",
    "ys=kron(ones(length(x)),y)\n",
    "\n",
    "u_plot = u.(xs, ys, 0, 100)\n",
    "v_plot = v.(xs, ys, 0, 100)\n",
    "ar = arrow(0.03, 0.01)\n",
    "p = quiver(xs, ys, quiver=(scale*u_plot, scale*v_plot), size=d[\"plot_maps_size\"])\n",
    "savefig(p, \"quiver.png\") "
   ]
  },
  {
   "cell_type": "code",
   "execution_count": 6,
   "metadata": {},
   "outputs": [
    {
     "data": {
      "text/plain": [
       "f1! (generic function with 1 method)"
      ]
     },
     "metadata": {},
     "output_type": "display_data"
    }
   ],
   "source": [
    "###### Velocity function for the particles ######\n",
    "function f1!(ds, s, t, i, d)\n",
    "   x, y, z, age = s\n",
    "   z = 0.0\n",
    "   up = 0\n",
    "   vp = 0\n",
    "   dt = d[\"dt\"]\n",
    "   uw = u(x, y, z, t)\n",
    "   vw = v(x, y, z, t)\n",
    "\n",
    "   # The model with :\n",
    "   # 1: Only flow velocities\n",
    "   up = uw\n",
    "   vp = vw\n",
    "   # original computation for computing the particle velocity\n",
    "   #(K, Kdx, Kdy) = estimate_viscosity_smag(interp, x, y, t, u, v)\n",
    "   #if !(uw == vw == ua == va == 0.0)\n",
    "   #   # https://doi.org/10.1016/j.ocemod.2017.11.008 eq. 27\n",
    "   #   up += Kdy + randn() * sqrt(2 * K * dt) / dt\n",
    "   #   vp += Kdx + randn() * sqrt(2 * K * dt) / dt\n",
    "   #end\n",
    "   \n",
    "   epsx = 0#1\n",
    "   epsz = 0#1e-5\n",
    "   up += randn()*sqrt(2*epsx*dt)/dt\n",
    "   vp += randn()*sqrt(2*epsz*dt)/dt\n",
    "\n",
    "   ds.x = up\n",
    "   ds.y = vp\n",
    "   ds.z = 0.0\n",
    "   ds.t = 1.0\n",
    "\n",
    "\n",
    "   if d[\"time_direction\"] == :backwards\n",
    "      up *= -1\n",
    "      vp *= -1\n",
    "   end\n",
    "end\n",
    "d[\"f\"]=f1!"
   ]
  },
  {
   "cell_type": "code",
   "execution_count": 7,
   "metadata": {},
   "outputs": [
    {
     "data": {
      "text/plain": [
       "plot_vfield (generic function with 1 method)"
      ]
     },
     "metadata": {},
     "output_type": "display_data"
    }
   ],
   "source": [
    "# use streamfunction as background for plotting\n",
    "function plot_vfield(d,t)\n",
    "    x_resolution=41 #[0,300]\n",
    "    y_resolution=21   #[0,1]\n",
    "    x_min, y_min, x_max, y_max = d[\"bbox\"]\n",
    "    x = collect(range(x_min, x_max, length=x_resolution))\n",
    "    y = collect(range(y_min, y_max, length=y_resolution))\n",
    "    xs=kron(x,ones(length(y)))\n",
    "    ys=kron(ones(length(x)),y)\n",
    "    Plots.default(:size, d[\"plot_maps_size\"])\n",
    "    u_plot = u.(xs, ys, 0, 100)\n",
    "    v_plot = v.(xs, ys, 0, 100)\n",
    "    p = quiver(xs, ys, quiver=(scale*u_plot, scale*v_plot))\n",
    "    return p\n",
    " end\n",
    " d[\"plot_vfield\"] = plot_vfield "
   ]
  },
  {
   "cell_type": "code",
   "execution_count": 8,
   "metadata": {},
   "outputs": [
    {
     "data": {
      "text/plain": [
       "plot_screenshot (generic function with 1 method)"
      ]
     },
     "metadata": {},
     "output_type": "display_data"
    }
   ],
   "source": [
    "using Printf\n",
    "# screenshot of particles\n",
    "function plot_screenshot(d; dirname=\"\", fnametag=\"\")\n",
    "    t_plot=d[\"keep_particle_times\"];\n",
    "    p=d[\"all_particles\"]\n",
    "    for i in 1:length(t_plot)\n",
    "        fig = d[\"plot_vfield\"](d, t_plot[i])\n",
    "        fname = dirname* @sprintf(\"\\\\screenshot_time %.2f\",t_plot[i]) *\".png\"\n",
    "        d[\"plot_maps_func\"](fig, d, p[i])\n",
    "        savefig(fig, fname)\n",
    "    end\n",
    "  end"
   ]
  },
  {
   "cell_type": "code",
   "execution_count": 9,
   "metadata": {},
   "outputs": [
    {
     "data": {
      "text/plain": [
       "\"j:\\\\Master_Thesis\\\\particles.jl\\\\case_lock_exchange\\\\plots\""
      ]
     },
     "metadata": {},
     "output_type": "display_data"
    }
   ],
   "source": [
    "dirname = \"plots\"\n",
    "if ~isdir(dirname)\n",
    "    mkdir(dirname)\n",
    "end\n",
    "dirname = joinpath(@__DIR__, dirname)"
   ]
  },
  {
   "cell_type": "code",
   "execution_count": 11,
   "metadata": {},
   "outputs": [],
   "source": [
    "open(\"stdout.txt\",\"w\") do io\n",
    "    redirect_stdout(io) do\n",
    "        @time run_simulation(d)\n",
    "        plot_screenshot(d; dirname=dirname)\n",
    "    end\n",
    "end"
   ]
  }
 ],
 "metadata": {
  "kernelspec": {
   "display_name": "Julia 1.9.2",
   "language": "julia",
   "name": "julia-1.9"
  },
  "language_info": {
   "file_extension": ".jl",
   "mimetype": "application/julia",
   "name": "julia",
   "version": "1.9.2"
  },
  "orig_nbformat": 4
 },
 "nbformat": 4,
 "nbformat_minor": 2
}
