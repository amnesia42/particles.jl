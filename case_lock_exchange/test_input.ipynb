{
 "cells": [
  {
   "cell_type": "code",
   "execution_count": 7,
   "metadata": {},
   "outputs": [
    {
     "name": "stderr",
     "output_type": "stream",
     "text": [
      "\u001b[32m\u001b[1m  Activating\u001b[22m\u001b[39m environment at `/mnt/d/verlaan_shared/src/julia/particles.jl.git_sicong/Project.toml`\n"
     ]
    },
    {
     "ename": "LoadError",
     "evalue": "importing Particles into Main conflicts with an existing identifier",
     "output_type": "error",
     "traceback": [
      "importing Particles into Main conflicts with an existing identifier",
      ""
     ]
    }
   ],
   "source": [
    "# Initialize the notebook\n",
    "using Pkg\n",
    "Pkg.activate(\"..\")\n",
    "#include(\"../src/Particles.jl\")\n",
    "using Particles\n",
    "using Plots\n",
    "using NetCDF\n",
    "\n",
    "nothing"
   ]
  },
  {
   "cell_type": "code",
   "execution_count": 33,
   "metadata": {},
   "outputs": [
    {
     "name": "stdout",
     "output_type": "stream",
     "text": [
      "d.vars = Dict{String, NcVar}(\"mesh2d_ucx\" => Disk Array with size 40 x 400 x 21\n",
      ", \"mesh2d_taus\" => Disk Array with size 400 x 21\n",
      ", \"mesh2d_edge_nodes\" => Disk Array with size 2 x 1201\n",
      ", \"mesh2d_u0\" => Disk Array with size 40 x 1201 x 21\n",
      ", \"mesh2d_Numlimdt\" => Disk Array with size 400 x 21\n",
      ", \"mesh2d_tureps1\" => Disk Array with size 41 x 1201 x 21\n",
      ", \"mesh2d_q1\" => Disk Array with size 40 x 1201 x 21\n",
      ", \"mesh2d_interface_z\" => Disk Array with size 41\n",
      ", \"mesh2d_edge_y\" => Disk Array with size 1201\n",
      ", \"mesh2d_face_y\" => Disk Array with size 400\n",
      ", \"mesh2d_edge_faces\" => Disk Array with size 2 x 1201\n",
      ", \"projected_coordinate_system\" => Disk Array with size \n",
      ", \"mesh2d_u1\" => Disk Array with size 40 x 1201 x 21\n",
      ", \"mesh2d_s0\" => Disk Array with size 400 x 21\n",
      ", \"time\" => Disk Array with size 21\n",
      ", \"mesh2d_face_x\" => Disk Array with size 400\n",
      ", \"mesh2d_node_x\" => Disk Array with size 802\n",
      ", \"mesh2d_face_x_bnd\" => Disk Array with size 4 x 400\n",
      ", \"mesh2d_face_nodes\" => Disk Array with size 4 x 400\n",
      ", \"mesh2d_sa1\" => Disk Array with size 40 x 400 x 21\n",
      ", \"mesh2d_s1\" => Disk Array with size 400 x 21\n",
      ", \"mesh2d_waterdepth\" => Disk Array with size 400 x 21\n",
      ", \"mesh2d_face_y_bnd\" => Disk Array with size 4 x 400\n",
      ", \"mesh2d_diu\" => Disk Array with size 40 x 1201 x 21\n",
      ", \"mesh2d_vicwwu\" => Disk Array with size 41 x 1201 x 21\n",
      ", \"mesh2d\" => Disk Array with size \n",
      ", \"mesh2d_rho\" => Disk Array with size 40 x 400 x 21\n",
      ", \"mesh2d_czs\" => Disk Array with size 400 x 21\n",
      ", \"timestep\" => Disk Array with size 21\n",
      ", \"mesh2d_edge_x\" => Disk Array with size 1201\n",
      ", \"mesh2d_czu\" => Disk Array with size 1201 x 21\n",
      ", \"mesh2d_layer_z\" => Disk Array with size 40\n",
      ", \"mesh2d_viu\" => Disk Array with size 40 x 1201 x 21\n",
      ", \"mesh2d_flowelem_ba\" => Disk Array with size 400\n",
      ", \"mesh2d_ucmag\" => Disk Array with size 40 x 400 x 21\n",
      ", \"mesh2d_ucy\" => Disk Array with size 40 x 400 x 21\n",
      ", \"mesh2d_ucz\" => Disk Array with size 40 x 400 x 21\n",
      ", \"mesh2d_ucxa\" => Disk Array with size 400 x 21\n",
      ", \"mesh2d_flowelem_bl\" => Disk Array with size 400\n",
      ", \"mesh2d_ucmaga\" => Disk Array with size 400 x 21\n",
      ", \"mesh2d_node_z\" => Disk Array with size 802\n",
      ", \"mesh2d_turkin1\" => Disk Array with size 41 x 1201 x 21\n",
      ", \"mesh2d_ww1\" => Disk Array with size 41 x 400 x 21\n",
      ", \"mesh2d_edge_type\" => Disk Array with size 1201\n",
      ", \"mesh2d_ucya\" => Disk Array with size 400 x 21\n",
      ", \"mesh2d_node_y\" => Disk Array with size 802\n",
      ")\n",
      "z' = [-9.875 -9.625 -9.375 -9.125 -8.875 -8.625 -8.375 -8.125 -7.875 -7.625 -7.375 -7.125 -6.875 -6.625 -6.375 -6.125 -5.875 -5.625 -5.375 -5.125 -4.875 -4.625 -4.375 -4.125 -3.875 -3.625 -3.375 -3.125 -2.875 -2.625 -2.375 -2.125 -1.875 -1.625 -1.375 -1.125 -0.875 -0.625 -0.375 -0.125]\n",
      "ts' = [0.0 30.00000000000005 59.99999999999979 89.9999999999995 119.99999999999922 149.99999999999997 180.0000000000011 210.00000000000225 240.00000000000338 270.0000000000045 300.0000000000056 330.00000000000676 360.0000000000079 390.00000000000904 420.0000000000102 450.0000000000113 480.00000000001245 510.0000000000136 540.0000000000094 570.0000000000049 600.0]\n"
     ]
    },
    {
     "data": {
      "text/plain": [
       "1×21 adjoint(::Vector{Float64}) with eltype Float64:\n",
       " 0.0  30.0  60.0  90.0  120.0  150.0  …  480.0  510.0  540.0  570.0  600.0"
      ]
     },
     "execution_count": 33,
     "metadata": {},
     "output_type": "execute_result"
    }
   ],
   "source": [
    "using NetCDF\n",
    "d=NetCDF.open(\"data/locxx_map.nc\")\n",
    "@show d.vars\n",
    "z= d[\"mesh2d_layer_z\"][:]\n",
    "@show z' # z is a 1D array from -10 to 0\n",
    "ts = d[\"time\"][:] # d[\"time\"].atts\n",
    "@show ts' # ts is a 1D array with the time steps in seconds"
   ]
  },
  {
   "cell_type": "code",
   "execution_count": 34,
   "metadata": {},
   "outputs": [
    {
     "name": "stderr",
     "output_type": "stream",
     "text": [
      "\u001b[36m\u001b[1m[ \u001b[22m\u001b[39m\u001b[36m\u001b[1mInfo: \u001b[22m\u001b[39mdata/locxx_map.nc\n"
     ]
    },
    {
     "name": "stdout",
     "output_type": "stream",
     "text": [
      "times' = Any[0.0 30.00000000000005 59.99999999999979 89.9999999999995 119.99999999999922 149.99999999999997 180.0000000000011 210.00000000000225 240.00000000000338 270.0000000000045 300.0000000000056 330.00000000000676 360.0000000000079 390.00000000000904 420.0000000000102 450.0000000000113 480.00000000001245 510.0000000000136 540.0000000000094 570.0000000000049 600.0]\n"
     ]
    }
   ],
   "source": [
    "# open the netcdf file with dflow.jl\n",
    "dflow_map=load_nc_info(\"data\",r\"locxx_map.nc\")\n",
    "t0=get_reftime(dflow_map)\n",
    "itime=10\n",
    "u_velocity=load_nc_map_slice(dflow_map,\"mesh2d_ucx\",itime)\n",
    "v_velocity=load_nc_map_slice(dflow_map,\"mesh2d_ucy\",itime)\n",
    "times = get_times(dflow_map,t0)\n",
    "@show times' # 0 to 600 seconds\n",
    "\n",
    "nothing"
   ]
  },
  {
   "cell_type": "code",
   "execution_count": null,
   "metadata": {},
   "outputs": [],
   "source": [
    "# now with interpolation\n",
    "interp=load_dflow_grid(dflow_map,50,false)\n",
    "u1,v1=initialize_interpolation(dflow_map,interp,t0)"
   ]
  },
  {
   "cell_type": "code",
   "execution_count": 36,
   "metadata": {},
   "outputs": [
    {
     "name": "stdout",
     "output_type": "stream",
     "text": [
      "((interp.grids[1]).bbox)' = [0.0 300.00000000000006 0.0 1.0]\n"
     ]
    }
   ],
   "source": [
    "# investigate the input\n",
    "@show interp.grids[1].bbox' #boundng box in xy coordinates \n",
    "\n",
    "xs = interp.grids[1].xnodes\n",
    "ys = interp.grids[1].ynodes\n",
    "\n",
    "nothing"
   ]
  },
  {
   "cell_type": "code",
   "execution_count": 35,
   "metadata": {},
   "outputs": [
    {
     "name": "stdout",
     "output_type": "stream",
     "text": [
      "u = -0.3334079305027215, -0.3334079305027215, -0.3334079305027215 at z=0.0, -5.0, -10.0 at t=20.0 s\n"
     ]
    }
   ],
   "source": [
    "x_middle = 150.0\n",
    "y_middle = 0.5\n",
    "z_surface = 0.0\n",
    "z_middle = -5.0\n",
    "z_bottom = -10.0\n",
    "t=20.0\n",
    "u_surface = u1(x_middle,y_middle,z_surface,t) #x y z t\n",
    "u_middle = u1(x_middle,y_middle,z_middle,t)\n",
    "u_bottom = u1(x_middle,y_middle,z_bottom,t)\n",
    "println(\"u = $(u_surface), $(u_middle), $(u_bottom) at z=$(z_surface), $(z_middle), $(z_bottom) at t=$(t) s\")\n",
    "# TODO PROBLEM: u is same at all depths --> probably all at the surface"
   ]
  },
  {
   "cell_type": "code",
   "execution_count": null,
   "metadata": {},
   "outputs": [],
   "source": []
  }
 ],
 "metadata": {
  "kernelspec": {
   "display_name": "Julia 1.6.7",
   "language": "julia",
   "name": "julia-1.6"
  },
  "language_info": {
   "file_extension": ".jl",
   "mimetype": "application/julia",
   "name": "julia",
   "version": "1.6.7"
  },
  "orig_nbformat": 4,
  "vscode": {
   "interpreter": {
    "hash": "916dbcbb3f70747c44a77c7bcd40155683ae19c65e1c03b4aa3499c5328201f1"
   }
  }
 },
 "nbformat": 4,
 "nbformat_minor": 2
}
