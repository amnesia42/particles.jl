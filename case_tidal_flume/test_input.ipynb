{
 "cells": [
  {
   "cell_type": "code",
   "execution_count": 1,
   "metadata": {},
   "outputs": [
    {
     "name": "stderr",
     "output_type": "stream",
     "text": [
      "\u001b[32m\u001b[1m  Activating\u001b[22m\u001b[39m project at `~/src_nobackup/particles.jl.git_3dflow`\n"
     ]
    }
   ],
   "source": [
    "# Initialize the notebook\n",
    "using Pkg\n",
    "Pkg.activate(\"..\")\n",
    "#include(\"../src/Particles.jl\")\n",
    "using Particles\n",
    "using Plots\n",
    "using Zarr\n",
    "using ZipFile\n",
    "\n",
    "nothing"
   ]
  },
  {
   "cell_type": "code",
   "execution_count": 2,
   "metadata": {},
   "outputs": [
    {
     "ename": "Base.IOError",
     "evalue": "IOError: mkdir(\"/home/verlaan/src_nobackup/particles.jl.git_3dflow/case_tidal_flume/./data/tidal_flume_map.zarr/\"; mode=0o777): file already exists (EEXIST)",
     "output_type": "error",
     "traceback": [
      "IOError: mkdir(\"/home/verlaan/src_nobackup/particles.jl.git_3dflow/case_tidal_flume/./data/tidal_flume_map.zarr/\"; mode=0o777): file already exists (EEXIST)\n",
      "\n",
      "Stacktrace:\n",
      " [1] uv_error\n",
      "   @ ./libuv.jl:100 [inlined]\n",
      " [2] mkdir(path::String; mode::UInt16)\n",
      "   @ Base.Filesystem ./file.jl:185\n",
      " [3] mkdir\n",
      "   @ ./file.jl:177 [inlined]\n",
      " [4] unzip(file::String, exdir::String)\n",
      "   @ Main ~/src_nobackup/particles.jl.git_3dflow/case_tidal_flume/test_input.ipynb:14\n",
      " [5] top-level scope\n",
      "   @ ~/src_nobackup/particles.jl.git_3dflow/case_tidal_flume/test_input.ipynb:22"
     ]
    }
   ],
   "source": [
    "# unzip the test data\n",
    "\n",
    "# function unzip(file,exdir=\"\")\n",
    "# extract all files from zip file to exdir\n",
    "function unzip(file,exdir=\"\")\n",
    "    fileFullPath = isabspath(file) ?  file : joinpath(pwd(),file)\n",
    "    basePath = dirname(fileFullPath)\n",
    "    outPath = (exdir == \"\" ? basePath : (isabspath(exdir) ? exdir : joinpath(pwd(),exdir)))\n",
    "    isdir(outPath) ? \"\" : mkdir(outPath)\n",
    "    zarchive = ZipFile.Reader(fileFullPath)\n",
    "    for f in zarchive.files\n",
    "        fullFilePath = joinpath(outPath,f.name)\n",
    "        if (endswith(f.name,\"/\") || endswith(f.name,\"\\\\\"))\n",
    "            mkdir(fullFilePath)\n",
    "        else\n",
    "            write(fullFilePath, read(f))\n",
    "        end\n",
    "    end\n",
    "    close(zarchive)\n",
    "end\n",
    "\n",
    "unzip(\"./data/tidal_flume_map.zip\",\"./data\")"
   ]
  },
  {
   "cell_type": "code",
   "execution_count": 3,
   "metadata": {},
   "outputs": [],
   "source": [
    "Zarr_data = ZarrData(\"./data\",\"tidal_flume_map.zarr\")\n",
    "t0=get_reftime(Zarr_data)\n",
    "h=initialize_interpolation(Zarr_data,\"waterlevel\",t0)\n",
    "u=initialize_interpolation(Zarr_data,\"x_velocity\",t0)\n",
    "s=initialize_interpolation(Zarr_data,\"salinity\",t0)\n",
    "\n",
    "nothing"
   ]
  },
  {
   "cell_type": "code",
   "execution_count": 7,
   "metadata": {},
   "outputs": [
    {
     "data": {
      "text/plain": [
       "(128, 1, 21, 1001)"
      ]
     },
     "metadata": {},
     "output_type": "display_data"
    }
   ],
   "source": [
    "# find the extent of the data\n",
    "xy_bbox=Zarr_data.xy_grid.bbox\n",
    "z=Zarr_data.zgrid\n",
    "minz = minimum(z) #scaled\n",
    "#maxx = maximum(x)\n",
    "#minx,\n",
    "#z[1,1,:,1]\n",
    "size(z)"
   ]
  },
  {
   "cell_type": "code",
   "execution_count": 18,
   "metadata": {},
   "outputs": [
    {
     "ename": "MethodError",
     "evalue": "MethodError: no method matching -(::Nothing, ::Int64)\n\nClosest candidates are:\n  -(!Matched::T, ::T) where T<:Union{Int128, Int16, Int32, Int64, Int8, UInt128, UInt16, UInt32, UInt64, UInt8}\n   @ Base int.jl:86\n  -(!Matched::ForwardDiff.Dual{Tx}, ::Integer) where Tx\n   @ ForwardDiff ~/.julia/packages/ForwardDiff/vXysl/src/dual.jl:144\n  -(!Matched::ForwardDiff.Dual{Tx}, ::Real) where Tx\n   @ ForwardDiff ~/.julia/packages/ForwardDiff/vXysl/src/dual.jl:144\n  ...\n",
     "output_type": "error",
     "traceback": [
      "MethodError: no method matching -(::Nothing, ::Int64)\n",
      "\n",
      "Closest candidates are:\n",
      "  -(!Matched::T, ::T) where T<:Union{Int128, Int16, Int32, Int64, Int8, UInt128, UInt16, UInt32, UInt64, UInt8}\n",
      "   @ Base int.jl:86\n",
      "  -(!Matched::ForwardDiff.Dual{Tx}, ::Integer) where Tx\n",
      "   @ ForwardDiff ~/.julia/packages/ForwardDiff/vXysl/src/dual.jl:144\n",
      "  -(!Matched::ForwardDiff.Dual{Tx}, ::Real) where Tx\n",
      "   @ ForwardDiff ~/.julia/packages/ForwardDiff/vXysl/src/dual.jl:144\n",
      "  ...\n",
      "\n",
      "\n",
      "Stacktrace:\n",
      " [1] update_cache(xyzt::CartesianXYZTGrid, t::Float64)\n",
      "   @ Particles ~/src_nobackup/particles.jl.git_3dflow/src/cartesian_grid.jl:571\n",
      " [2] interpolate(xyzt::CartesianXYZTGrid, xpoint::Float64, ypoint::Float64, zpoint::Float64, time::Float64, dummy::Float64)\n",
      "   @ Particles ~/src_nobackup/particles.jl.git_3dflow/src/cartesian_grid.jl:656\n",
      " [3] (::Particles.var\"#f_xyzt#30\"{Float64, CartesianXYZTGrid})(x::Float64, y::Float64, z::Float64, t::Float64)\n",
      "   @ Particles ~/src_nobackup/particles.jl.git_3dflow/src/zarr_grid.jl:207\n",
      " [4] (::var\"#51#53\"{Float64})(::Tuple{Float64, Float64})\n",
      "   @ Main ./none:0\n",
      " [5] iterate\n",
      "   @ ./generator.jl:47 [inlined]\n",
      " [6] collect(itr::Base.Generator{Base.Iterators.ProductIterator{Tuple{StepRangeLen{Float64, Base.TwicePrecision{Float64}, Base.TwicePrecision{Float64}, Int64}, StepRangeLen{Float64, Base.TwicePrecision{Float64}, Base.TwicePrecision{Float64}, Int64}}}, var\"#51#53\"{Float64}})\n",
      "   @ Base ./array.jl:782\n",
      " [7] macro expansion\n",
      "   @ ~/src_nobackup/particles.jl.git_3dflow/case_tidal_flume/test_input.ipynb:15 [inlined]\n",
      " [8] top-level scope\n",
      "   @ ~/.julia/packages/Plots/7VQ5h/src/animation.jl:251"
     ]
    }
   ],
   "source": [
    "x_left = 1.0\n",
    "x_right = 130.0\n",
    "y_middle = 1.0\n",
    "z_surface = 0.0\n",
    "z_bottom = -0.2\n",
    "t_start=1200.0\n",
    "t_step=150.0\n",
    "t_stop=6000.0 #max 100minutes=6000s with steps 6s / period is 600s\n",
    "\n",
    "\n",
    "anim = @animate for t in range(t_start, stop = t_stop, step = t_step)\n",
    "    # grid for plotting only\n",
    "    x_points = range(x_left,stop=x_right,length=130)\n",
    "    z_points = range(z_bottom,stop=z_surface,length=100)\n",
    "    u_interp = [u(x,y_middle,z,t) for x in x_points, z in z_points] # x velocity\n",
    "    s_interp = [s(x,y_middle,z,t) for x in x_points, z in z_points] # salinity\n",
    "\n",
    "    l = @layout([a; b])\n",
    "    p1=heatmap(x_points,z_points,u_interp',xlabel=\"x\",ylabel=\"z\",title=\"u velocity time=$(t)\",clims=(-0.5,0.5))\n",
    "    p2=heatmap(x_points,z_points,s_interp',xlabel=\"x\",ylabel=\"z\",title=\"salinity\",clims=(0,12))\n",
    "    plot(p1,p2,layout=l,size=(800,400))\n",
    "end\n",
    "\n",
    "gif(anim, \"./tidal_flume.gif\", fps = 1)\n"
   ]
  },
  {
   "cell_type": "code",
   "execution_count": null,
   "metadata": {},
   "outputs": [],
   "source": []
  },
  {
   "cell_type": "code",
   "execution_count": null,
   "metadata": {},
   "outputs": [],
   "source": []
  }
 ],
 "metadata": {
  "kernelspec": {
   "display_name": "Julia 1.9.0",
   "language": "julia",
   "name": "julia-1.9"
  },
  "language_info": {
   "file_extension": ".jl",
   "mimetype": "application/julia",
   "name": "julia",
   "version": "1.9.0"
  },
  "orig_nbformat": 4,
  "vscode": {
   "interpreter": {
    "hash": "916dbcbb3f70747c44a77c7bcd40155683ae19c65e1c03b4aa3499c5328201f1"
   }
  }
 },
 "nbformat": 4,
 "nbformat_minor": 2
}
