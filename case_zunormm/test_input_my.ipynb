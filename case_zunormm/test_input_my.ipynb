{
 "cells": [
  {
   "cell_type": "code",
   "execution_count": 2,
   "metadata": {},
   "outputs": [
    {
     "name": "stderr",
     "output_type": "stream",
     "text": [
      "\u001b[32m\u001b[1m  Activating\u001b[22m\u001b[39m project at `d:\\Projects\\particles.jl`\n"
     ]
    }
   ],
   "source": [
    "# Initialize the notebook\n",
    "using Pkg\n",
    "Pkg.activate(\"..\")\n",
    "#include(\"../src/Particles.jl\")\n",
    "using Particles\n",
    "using Plots\n",
    "using Zarr\n",
    "using ZipFile\n",
    "\n",
    "nothing"
   ]
  },
  {
   "cell_type": "code",
   "execution_count": 16,
   "metadata": {},
   "outputs": [],
   "source": [
    "# unzip the flow data (if not already done)\n",
    "\n",
    "# function unzip(file,exdir=\"\")\n",
    "# extract all files from zip file to exdir\n",
    "function unzip(file,exdir=\"\")\n",
    "    fileFullPath = isabspath(file) ?  file : joinpath(pwd(),file)\n",
    "    basePath = dirname(fileFullPath)\n",
    "    outPath = (exdir == \"\" ? basePath : (isabspath(exdir) ? exdir : joinpath(pwd(),exdir)))\n",
    "    isdir(outPath) ? \"\" : mkdir(outPath)\n",
    "    zarchive = ZipFile.Reader(fileFullPath)\n",
    "    for f in zarchive.files\n",
    "        fullFilePath = joinpath(outPath,f.name)\n",
    "        if (endswith(f.name,\"/\") || endswith(f.name,\"\\\\\"))\n",
    "            mkdir(fullFilePath)\n",
    "        else\n",
    "            write(fullFilePath, read(f))\n",
    "        end\n",
    "    end\n",
    "    close(zarchive)\n",
    "end\n",
    "\n",
    "if !isdir(\"./ZUNORMM_map_fullgrid_v2.zarr\") \n",
    "    unzip(\"./ZUNORMM_map_fullgrid_v2.zip\",\"\")\n",
    "end\n"
   ]
  },
  {
   "cell_type": "code",
   "execution_count": 17,
   "metadata": {},
   "outputs": [],
   "source": [
    "Zarr_data = ZarrData(\".\",\"ZUNORMM_map_fullgrid_v2.zarr\")\n",
    "t0=get_reftime(Zarr_data)\n",
    "h=initialize_interpolation(Zarr_data,\"waterlevel\",t0)\n",
    "u=initialize_interpolation(Zarr_data,\"x_velocity\",t0)\n",
    "v=initialize_interpolation(Zarr_data,\"y_velocity\",t0)\n",
    "nu=initialize_interpolation(Zarr_data,\"eddy_visc_z\",t0)\n",
    "s=initialize_interpolation(Zarr_data,\"salinity\",t0)\n",
    "\n",
    "nothing"
   ]
  },
  {
   "cell_type": "code",
   "execution_count": 18,
   "metadata": {},
   "outputs": [
    {
     "data": {
      "text/plain": [
       "ZArray{Int16} of size 999 x 499 x 181"
      ]
     },
     "metadata": {},
     "output_type": "display_data"
    }
   ],
   "source": [
    "z0=Zarr_data.file.arrays[\"waterdepth\"]\n",
    "\n"
   ]
  },
  {
   "cell_type": "code",
   "execution_count": 19,
   "metadata": {},
   "outputs": [
    {
     "data": {
      "text/plain": [
       "ZArray{Int16} of size 999 x 499 x 181"
      ]
     },
     "metadata": {},
     "output_type": "display_data"
    }
   ],
   "source": [
    "z0=Zarr_data.file.arrays[\"waterlevel\"]\n"
   ]
  },
  {
   "cell_type": "code",
   "execution_count": 20,
   "metadata": {},
   "outputs": [
    {
     "data": {
      "text/plain": [
       "ZArray{Int16} of size 999 x 499 x 46 x 181"
      ]
     },
     "metadata": {},
     "output_type": "display_data"
    }
   ],
   "source": [
    "z0=Zarr_data.file.arrays[\"x_velocity\"]\n"
   ]
  },
  {
   "cell_type": "code",
   "execution_count": null,
   "metadata": {},
   "outputs": [],
   "source": [
    "z0=Zarr_data.file.arrays[\"z_iface_3d\"]\n"
   ]
  },
  {
   "cell_type": "code",
   "execution_count": 21,
   "metadata": {},
   "outputs": [
    {
     "name": "stdout",
     "output_type": "stream",
     "text": [
      "bbox=[3.4773802907221345, 5.566420993890162, 51.66065856527758, 52.466444933890344]\n",
      "min=0.0max=99.99000000000001"
     ]
    },
    {
     "name": "stdout",
     "output_type": "stream",
     "text": [
      "\n",
      "min=-1.53max=99.99000000000001\n",
      "2022-04-16T00:00:00\n",
      "2.0\n",
      "14.916666666666666\n"
     ]
    },
    {
     "data": {
      "text/plain": [
       "Dict{String, Any} with 12 entries:\n",
       "  \"cell_methods\"      => \"mesh2d_nFaces: mean\"\n",
       "  \"long_name\"         => \"Salinity in flow element\"\n",
       "  \"scale_factor\"      => 0.01\n",
       "  \"location\"          => \"face\"\n",
       "  \"add_offset\"        => 0.0\n",
       "  \"standard_name\"     => \"sea_water_salinity\"\n",
       "  \"coordinates\"       => \"time z_center y_center x_center\"\n",
       "  \"mesh\"              => \"mesh2d\"\n",
       "  \"_FillValue\"        => 9999\n",
       "  \"units\"             => \"1e-3\"\n",
       "  \"_ARRAY_DIMENSIONS\" => Any[\"time\", \"z\", \"y\", \"x\"]\n",
       "  \"grid_mapping\"      => \"wgs84\""
      ]
     },
     "metadata": {},
     "output_type": "display_data"
    }
   ],
   "source": [
    "# find the extent of the data\n",
    "xy_bbox=Zarr_data.xy_grid.bbox\n",
    "println(\"bbox=$(xy_bbox)\") #bbox=[3.4773802907221345, 5.566420993890162, 51.66065856527758, 52.466444933890344]\n",
    "\n",
    "z0=Zarr_data.file.arrays[\"waterdepth\"]\n",
    "z0_scaled=0.01*z0\n",
    "println(\"min=\",minimum(z0_scaled),\"max=\",maximum(z0_scaled))\n",
    "\n",
    "z0=Zarr_data.file.arrays[\"waterlevel\"]\n",
    "z0_scaled=0.01*z0\n",
    "println(\"min=\",minimum(z0_scaled),\"max=\",maximum(z0_scaled))\n",
    "\n",
    "\n",
    "\n",
    "t=Zarr_data.file.arrays[\"time\"][:] #\"seconds since 2022-04-01 00:00:00 +00:00\"\n",
    "println(t0) #\"seconds since 2022-04-16 00:00:00 +00:00\"\n",
    "println( (t[2]-t[1])/3600.0 ) #2022-04-16 step=2hrs until 2022-05-01\n",
    "println( (t[end]-t[2])/3600.0/24.0) #2022-04-16 duraton~=15hrs until 2022-05-01\n",
    "\n",
    "Zarr_data.file.arrays[\"salinity\"].attrs"
   ]
  },
  {
   "cell_type": "code",
   "execution_count": 22,
   "metadata": {},
   "outputs": [
    {
     "data": {
      "text/plain": [
       "Dict{String, Any} with 13 entries:\n",
       "  \"cell_methods\"      => \"mesh2d_nFaces: mean\"\n",
       "  \"long_name\"         => \"Water depth at pressure points\"\n",
       "  \"scale_factor\"      => 0.01\n",
       "  \"location\"          => \"face\"\n",
       "  \"add_offset\"        => 0.0\n",
       "  \"standard_name\"     => \"sea_floor_depth_below_sea_surface\"\n",
       "  \"coordinates\"       => \"time y_center x_center\"\n",
       "  \"cell_measures\"     => \"area: mesh2d_flowelem_ba\"\n",
       "  \"mesh\"              => \"mesh2d\"\n",
       "  \"_FillValue\"        => 9999\n",
       "  \"units\"             => \"m\"\n",
       "  \"_ARRAY_DIMENSIONS\" => Any[\"time\", \"y\", \"x\"]\n",
       "  \"grid_mapping\"      => \"wgs84\""
      ]
     },
     "metadata": {},
     "output_type": "display_data"
    }
   ],
   "source": [
    "Zarr_data.file.arrays[\"waterdepth\"].attrs"
   ]
  },
  {
   "cell_type": "code",
   "execution_count": 23,
   "metadata": {},
   "outputs": [
    {
     "data": {
      "text/plain": [
       "Dict{String, Any} with 13 entries:\n",
       "  \"cell_methods\"      => \"mesh2d_nFaces: mean\"\n",
       "  \"long_name\"         => \"Water level\"\n",
       "  \"scale_factor\"      => 0.01\n",
       "  \"location\"          => \"face\"\n",
       "  \"add_offset\"        => 0.0\n",
       "  \"standard_name\"     => \"sea_surface_height\"\n",
       "  \"coordinates\"       => \"time y_center x_center\"\n",
       "  \"cell_measures\"     => \"area: mesh2d_flowelem_ba\"\n",
       "  \"mesh\"              => \"mesh2d\"\n",
       "  \"_FillValue\"        => 9999\n",
       "  \"units\"             => \"m\"\n",
       "  \"_ARRAY_DIMENSIONS\" => Any[\"time\", \"y\", \"x\"]\n",
       "  \"grid_mapping\"      => \"wgs84\""
      ]
     },
     "metadata": {},
     "output_type": "display_data"
    }
   ],
   "source": [
    "Zarr_data.file.arrays[\"waterlevel\"].attrs"
   ]
  },
  {
   "cell_type": "code",
   "execution_count": 24,
   "metadata": {},
   "outputs": [
    {
     "data": {
      "text/plain": [
       "10800.0"
      ]
     },
     "metadata": {},
     "output_type": "display_data"
    }
   ],
   "source": [
    "x_left = 3.9\n",
    "x_right = 4.6\n",
    "y_bot = 51.7\n",
    "y_top = 52.05\n",
    "z_surface = 0.0\n",
    "z_bottom = -40.0\n",
    "t_start=0.0\n",
    "t_step=3600.0\n",
    "#t_stop=15*24*3600.0 # end of dataset at 15 days\n",
    "t_stop=3*3600.0 # 12 hours\n",
    "\n",
    "# This is using the interpolation functions instead of plotting the data directly, which is much faster.\n",
    "# anim = @animate for t in range(t_start, stop = t_stop, step = t_step)\n",
    "#     if t%1200==0 print(\"t=$(t) \") end\n",
    "#     # grid for plotting only\n",
    "#     x_points = range(x_left,stop=x_right,length=100) #only show 100 points in x\n",
    "#     y_points = range(y_bot,stop=y_top,length=100)\n",
    "#     z        = -2.0\n",
    "#     #u_interp = [u(x,y_middle,z,t) for x in x_points, z in z_points] # x velocity\n",
    "#     h_interp = [h(x,y,z,t) for x in x_points, y in y_points] # water level\n",
    "#     s_interp = [s(x,y,z,t) for x in x_points, y in y_points] # salinity\n",
    "\n",
    "#     l = @layout([a; b])\n",
    "#     p1=heatmap(x_points,y_points,h_interp',xlabel=\"x\",ylabel=\"y\",title=\"waterlevel=$(t)\",clims=(-1.5,1.5))\n",
    "#     p2=heatmap(x_points,y_points,s_interp',xlabel=\"x\",ylabel=\"y\",title=\"salinity\",clims=(0,35))\n",
    "#     plot(p1,p2,layout=l,size=(800,400))\n",
    "# end\n",
    "\n",
    "# gif(anim, \"./rmm.gif\", fps = 3)\n"
   ]
  },
  {
   "cell_type": "code",
   "execution_count": 25,
   "metadata": {},
   "outputs": [
    {
     "data": {
      "image/png": "[encoded data removed]",
      "image/svg+xml": [
       "<?xml version=\"1.0\" encoding=\"utf-8\"?>\n",
       "<svg xmlns=\"http://www.w3.org/2000/svg\" xmlns:xlink=\"http://www.w3.org/1999/xlink\" width=\"600\" height=\"400\" viewBox=\"0 0 2400 1600\">\n",
       "<defs>\n",
       "  <clipPath id=\"clip800\">\n",
       "    <rect x=\"0\" y=\"0\" width=\"2400\" height=\"1600\"/>\n",
       "  </clipPath>\n",
       "</defs>\n",
       "<path clip-path=\"url(#clip800)\" d=\"M0 1600 L2400 1600 L2400 0 L0 0  Z\" fill=\"#ffffff\" fill-rule=\"evenodd\" fill-opacity=\"1\"/>\n",
       "<defs>\n",
       "  <clipPath id=\"clip801\">\n",
       "    <rect x=\"480\" y=\"0\" width=\"1681\" height=\"1600\"/>\n",
       "  </clipPath>\n",
       "</defs>\n",
       "<path clip-path=\"url(#clip800)\" d=\"M178.867 1486.45 L2352.76 1486.45 L2352.76 47.2441 L178.867 47.2441  Z\" fill=\"#ffffff\" fill-rule=\"evenodd\" fill-opacity=\"1\"/>\n",
       "<defs>\n",
       "  <clipPath id=\"clip802\">\n",
       "    <rect x=\"178\" y=\"47\" width=\"2175\" height=\"1440\"/>\n",
       "  </clipPath>\n",
       "</defs>\n",
       "<polyline clip-path=\"url(#clip802)\" style=\"stroke:#000000; stroke-linecap:round; stroke-linejoin:round; stroke-width:2; stroke-opacity:0.1; fill:none\" points=\"465.247,1486.45 465.247,47.2441 \"/>\n",
       "<polyline clip-path=\"url(#clip802)\" style=\"stroke:#000000; stroke-linecap:round; stroke-linejoin:round; stroke-width:2; stroke-opacity:0.1; fill:none\" points=\"912.394,1486.45 912.394,47.2441 \"/>\n",
       "<polyline clip-path=\"url(#clip802)\" style=\"stroke:#000000; stroke-linecap:round; stroke-linejoin:round; stroke-width:2; stroke-opacity:0.1; fill:none\" points=\"1359.54,1486.45 1359.54,47.2441 \"/>\n",
       "<polyline clip-path=\"url(#clip802)\" style=\"stroke:#000000; stroke-linecap:round; stroke-linejoin:round; stroke-width:2; stroke-opacity:0.1; fill:none\" points=\"1806.69,1486.45 1806.69,47.2441 \"/>\n",
       "<polyline clip-path=\"url(#clip802)\" style=\"stroke:#000000; stroke-linecap:round; stroke-linejoin:round; stroke-width:2; stroke-opacity:0.1; fill:none\" points=\"2253.83,1486.45 2253.83,47.2441 \"/>\n",
       "<polyline clip-path=\"url(#clip800)\" style=\"stroke:#000000; stroke-linecap:round; stroke-linejoin:round; stroke-width:4; stroke-opacity:1; fill:none\" points=\"178.867,1486.45 2352.76,1486.45 \"/>\n",
       "<polyline clip-path=\"url(#clip800)\" style=\"stroke:#000000; stroke-linecap:round; stroke-linejoin:round; stroke-width:4; stroke-opacity:1; fill:none\" points=\"465.247,1486.45 465.247,1467.55 \"/>\n",
       "<polyline clip-path=\"url(#clip800)\" style=\"stroke:#000000; stroke-linecap:round; stroke-linejoin:round; stroke-width:4; stroke-opacity:1; fill:none\" points=\"912.394,1486.45 912.394,1467.55 \"/>\n",
       "<polyline clip-path=\"url(#clip800)\" style=\"stroke:#000000; stroke-linecap:round; stroke-linejoin:round; stroke-width:4; stroke-opacity:1; fill:none\" points=\"1359.54,1486.45 1359.54,1467.55 \"/>\n",
       "<polyline clip-path=\"url(#clip800)\" style=\"stroke:#000000; stroke-linecap:round; stroke-linejoin:round; stroke-width:4; stroke-opacity:1; fill:none\" points=\"1806.69,1486.45 1806.69,1467.55 \"/>\n",
       "<polyline clip-path=\"url(#clip800)\" style=\"stroke:#000000; stroke-linecap:round; stroke-linejoin:round; stroke-width:4; stroke-opacity:1; fill:none\" points=\"2253.83,1486.45 2253.83,1467.55 \"/>\n",
       "<path clip-path=\"url(#clip800)\" d=\"M416.393 1530.21 Q419.75 1530.93 421.625 1533.2 Q423.523 1535.47 423.523 1538.8 Q423.523 1543.92 420.004 1546.72 Q416.486 1549.52 410.004 1549.52 Q407.829 1549.52 405.514 1549.08 Q403.222 1548.66 400.768 1547.81 L400.768 1543.29 Q402.713 1544.43 405.028 1545.01 Q407.342 1545.58 409.866 1545.58 Q414.264 1545.58 416.555 1543.85 Q418.87 1542.11 418.87 1538.8 Q418.87 1535.75 416.717 1534.03 Q414.588 1532.3 410.768 1532.3 L406.741 1532.3 L406.741 1528.45 L410.954 1528.45 Q414.403 1528.45 416.231 1527.09 Q418.06 1525.7 418.06 1523.11 Q418.06 1520.45 416.162 1519.03 Q414.287 1517.6 410.768 1517.6 Q408.847 1517.6 406.648 1518.01 Q404.449 1518.43 401.81 1519.31 L401.81 1515.14 Q404.472 1514.4 406.787 1514.03 Q409.125 1513.66 411.185 1513.66 Q416.509 1513.66 419.611 1516.09 Q422.713 1518.5 422.713 1522.62 Q422.713 1525.49 421.069 1527.48 Q419.426 1529.45 416.393 1530.21 Z\" fill=\"#000000\" fill-rule=\"nonzero\" fill-opacity=\"1\" /><path clip-path=\"url(#clip800)\" d=\"M442.389 1517.37 Q438.777 1517.37 436.949 1520.93 Q435.143 1524.47 435.143 1531.6 Q435.143 1538.71 436.949 1542.27 Q438.777 1545.82 442.389 1545.82 Q446.023 1545.82 447.828 1542.27 Q449.657 1538.71 449.657 1531.6 Q449.657 1524.47 447.828 1520.93 Q446.023 1517.37 442.389 1517.37 M442.389 1513.66 Q448.199 1513.66 451.254 1518.27 Q454.333 1522.85 454.333 1531.6 Q454.333 1540.33 451.254 1544.94 Q448.199 1549.52 442.389 1549.52 Q436.578 1549.52 433.5 1544.94 Q430.444 1540.33 430.444 1531.6 Q430.444 1522.85 433.5 1518.27 Q436.578 1513.66 442.389 1513.66 Z\" fill=\"#000000\" fill-rule=\"nonzero\" fill-opacity=\"1\" /><path clip-path=\"url(#clip800)\" d=\"M462.551 1542.97 L467.435 1542.97 L467.435 1548.85 L462.551 1548.85 L462.551 1542.97 Z\" fill=\"#000000\" fill-rule=\"nonzero\" fill-opacity=\"1\" /><path clip-path=\"url(#clip800)\" d=\"M487.62 1517.37 Q484.009 1517.37 482.18 1520.93 Q480.374 1524.47 480.374 1531.6 Q480.374 1538.71 482.18 1542.27 Q484.009 1545.82 487.62 1545.82 Q491.254 1545.82 493.06 1542.27 Q494.888 1538.71 494.888 1531.6 Q494.888 1524.47 493.06 1520.93 Q491.254 1517.37 487.62 1517.37 M487.62 1513.66 Q493.43 1513.66 496.486 1518.27 Q499.564 1522.85 499.564 1531.6 Q499.564 1540.33 496.486 1544.94 Q493.43 1549.52 487.62 1549.52 Q481.81 1549.52 478.731 1544.94 Q475.675 1540.33 475.675 1531.6 Q475.675 1522.85 478.731 1518.27 Q481.81 1513.66 487.62 1513.66 Z\" fill=\"#000000\" fill-rule=\"nonzero\" fill-opacity=\"1\" /><path clip-path=\"url(#clip800)\" d=\"M517.782 1517.37 Q514.171 1517.37 512.342 1520.93 Q510.536 1524.47 510.536 1531.6 Q510.536 1538.71 512.342 1542.27 Q514.171 1545.82 517.782 1545.82 Q521.416 1545.82 523.221 1542.27 Q525.05 1538.71 525.05 1531.6 Q525.05 1524.47 523.221 1520.93 Q521.416 1517.37 517.782 1517.37 M517.782 1513.66 Q523.592 1513.66 526.647 1518.27 Q529.726 1522.85 529.726 1531.6 Q529.726 1540.33 526.647 1544.94 Q523.592 1549.52 517.782 1549.52 Q511.972 1549.52 508.893 1544.94 Q505.837 1540.33 505.837 1531.6 Q505.837 1522.85 508.893 1518.27 Q511.972 1513.66 517.782 1513.66 Z\" fill=\"#000000\" fill-rule=\"nonzero\" fill-opacity=\"1\" /><path clip-path=\"url(#clip800)\" d=\"M864.038 1530.21 Q867.394 1530.93 869.269 1533.2 Q871.167 1535.47 871.167 1538.8 Q871.167 1543.92 867.649 1546.72 Q864.13 1549.52 857.649 1549.52 Q855.473 1549.52 853.158 1549.08 Q850.866 1548.66 848.413 1547.81 L848.413 1543.29 Q850.357 1544.43 852.672 1545.01 Q854.987 1545.58 857.51 1545.58 Q861.908 1545.58 864.2 1543.85 Q866.514 1542.11 866.514 1538.8 Q866.514 1535.75 864.362 1534.03 Q862.232 1532.3 858.413 1532.3 L854.385 1532.3 L854.385 1528.45 L858.598 1528.45 Q862.047 1528.45 863.876 1527.09 Q865.704 1525.7 865.704 1523.11 Q865.704 1520.45 863.806 1519.03 Q861.931 1517.6 858.413 1517.6 Q856.491 1517.6 854.292 1518.01 Q852.093 1518.43 849.454 1519.31 L849.454 1515.14 Q852.116 1514.4 854.431 1514.03 Q856.769 1513.66 858.829 1513.66 Q864.153 1513.66 867.255 1516.09 Q870.357 1518.5 870.357 1522.62 Q870.357 1525.49 868.714 1527.48 Q867.07 1529.45 864.038 1530.21 Z\" fill=\"#000000\" fill-rule=\"nonzero\" fill-opacity=\"1\" /><path clip-path=\"url(#clip800)\" d=\"M890.033 1517.37 Q886.422 1517.37 884.593 1520.93 Q882.788 1524.47 882.788 1531.6 Q882.788 1538.71 884.593 1542.27 Q886.422 1545.82 890.033 1545.82 Q893.667 1545.82 895.473 1542.27 Q897.301 1538.71 897.301 1531.6 Q897.301 1524.47 895.473 1520.93 Q893.667 1517.37 890.033 1517.37 M890.033 1513.66 Q895.843 1513.66 898.899 1518.27 Q901.977 1522.85 901.977 1531.6 Q901.977 1540.33 898.899 1544.94 Q895.843 1549.52 890.033 1549.52 Q884.223 1549.52 881.144 1544.94 Q878.088 1540.33 878.088 1531.6 Q878.088 1522.85 881.144 1518.27 Q884.223 1513.66 890.033 1513.66 Z\" fill=\"#000000\" fill-rule=\"nonzero\" fill-opacity=\"1\" /><path clip-path=\"url(#clip800)\" d=\"M910.195 1542.97 L915.079 1542.97 L915.079 1548.85 L910.195 1548.85 L910.195 1542.97 Z\" fill=\"#000000\" fill-rule=\"nonzero\" fill-opacity=\"1\" /><path clip-path=\"url(#clip800)\" d=\"M929.292 1544.91 L945.611 1544.91 L945.611 1548.85 L923.667 1548.85 L923.667 1544.91 Q926.329 1542.16 930.912 1537.53 Q935.519 1532.88 936.699 1531.53 Q938.945 1529.01 939.824 1527.27 Q940.727 1525.51 940.727 1523.82 Q940.727 1521.07 938.783 1519.33 Q936.861 1517.6 933.759 1517.6 Q931.56 1517.6 929.107 1518.36 Q926.676 1519.13 923.898 1520.68 L923.898 1515.95 Q926.722 1514.82 929.176 1514.24 Q931.63 1513.66 933.667 1513.66 Q939.037 1513.66 942.232 1516.35 Q945.426 1519.03 945.426 1523.52 Q945.426 1525.65 944.616 1527.57 Q943.829 1529.47 941.722 1532.07 Q941.144 1532.74 938.042 1535.95 Q934.94 1539.15 929.292 1544.91 Z\" fill=\"#000000\" fill-rule=\"nonzero\" fill-opacity=\"1\" /><path clip-path=\"url(#clip800)\" d=\"M955.472 1514.29 L973.829 1514.29 L973.829 1518.22 L959.755 1518.22 L959.755 1526.7 Q960.773 1526.35 961.792 1526.19 Q962.81 1526 963.829 1526 Q969.616 1526 972.995 1529.17 Q976.375 1532.34 976.375 1537.76 Q976.375 1543.34 972.903 1546.44 Q969.431 1549.52 963.111 1549.52 Q960.935 1549.52 958.667 1549.15 Q956.421 1548.78 954.014 1548.04 L954.014 1543.34 Q956.097 1544.47 958.32 1545.03 Q960.542 1545.58 963.019 1545.58 Q967.023 1545.58 969.361 1543.48 Q971.699 1541.37 971.699 1537.76 Q971.699 1534.15 969.361 1532.04 Q967.023 1529.94 963.019 1529.94 Q961.144 1529.94 959.269 1530.35 Q957.417 1530.77 955.472 1531.65 L955.472 1514.29 Z\" fill=\"#000000\" fill-rule=\"nonzero\" fill-opacity=\"1\" /><path clip-path=\"url(#clip800)\" d=\"M1310.69 1530.21 Q1314.04 1530.93 1315.92 1533.2 Q1317.82 1535.47 1317.82 1538.8 Q1317.82 1543.92 1314.3 1546.72 Q1310.78 1549.52 1304.3 1549.52 Q1302.12 1549.52 1299.81 1549.08 Q1297.52 1548.66 1295.06 1547.81 L1295.06 1543.29 Q1297.01 1544.43 1299.32 1545.01 Q1301.64 1545.58 1304.16 1545.58 Q1308.56 1545.58 1310.85 1543.85 Q1313.16 1542.11 1313.16 1538.8 Q1313.16 1535.75 1311.01 1534.03 Q1308.88 1532.3 1305.06 1532.3 L1301.03 1532.3 L1301.03 1528.45 L1305.25 1528.45 Q1308.7 1528.45 1310.52 1527.09 Q1312.35 1525.7 1312.35 1523.11 Q1312.35 1520.45 1310.46 1519.03 Q1308.58 1517.6 1305.06 1517.6 Q1303.14 1517.6 1300.94 1518.01 Q1298.74 1518.43 1296.1 1519.31 L1296.1 1515.14 Q1298.77 1514.4 1301.08 1514.03 Q1303.42 1513.66 1305.48 1513.66 Q1310.8 1513.66 1313.9 1516.09 Q1317.01 1518.5 1317.01 1522.62 Q1317.01 1525.49 1315.36 1527.48 Q1313.72 1529.45 1310.69 1530.21 Z\" fill=\"#000000\" fill-rule=\"nonzero\" fill-opacity=\"1\" /><path clip-path=\"url(#clip800)\" d=\"M1336.68 1517.37 Q1333.07 1517.37 1331.24 1520.93 Q1329.44 1524.47 1329.44 1531.6 Q1329.44 1538.71 1331.24 1542.27 Q1333.07 1545.82 1336.68 1545.82 Q1340.32 1545.82 1342.12 1542.27 Q1343.95 1538.71 1343.95 1531.6 Q1343.95 1524.47 1342.12 1520.93 Q1340.32 1517.37 1336.68 1517.37 M1336.68 1513.66 Q1342.49 1513.66 1345.55 1518.27 Q1348.63 1522.85 1348.63 1531.6 Q1348.63 1540.33 1345.55 1544.94 Q1342.49 1549.52 1336.68 1549.52 Q1330.87 1549.52 1327.79 1544.94 Q1324.74 1540.33 1324.74 1531.6 Q1324.74 1522.85 1327.79 1518.27 Q1330.87 1513.66 1336.68 1513.66 Z\" fill=\"#000000\" fill-rule=\"nonzero\" fill-opacity=\"1\" /><path clip-path=\"url(#clip800)\" d=\"M1356.84 1542.97 L1361.73 1542.97 L1361.73 1548.85 L1356.84 1548.85 L1356.84 1542.97 Z\" fill=\"#000000\" fill-rule=\"nonzero\" fill-opacity=\"1\" /><path clip-path=\"url(#clip800)\" d=\"M1371.96 1514.29 L1390.32 1514.29 L1390.32 1518.22 L1376.24 1518.22 L1376.24 1526.7 Q1377.26 1526.35 1378.28 1526.19 Q1379.3 1526 1380.32 1526 Q1386.1 1526 1389.48 1529.17 Q1392.86 1532.34 1392.86 1537.76 Q1392.86 1543.34 1389.39 1546.44 Q1385.92 1549.52 1379.6 1549.52 Q1377.42 1549.52 1375.15 1549.15 Q1372.91 1548.78 1370.5 1548.04 L1370.5 1543.34 Q1372.58 1544.47 1374.81 1545.03 Q1377.03 1545.58 1379.51 1545.58 Q1383.51 1545.58 1385.85 1543.48 Q1388.19 1541.37 1388.19 1537.76 Q1388.19 1534.15 1385.85 1532.04 Q1383.51 1529.94 1379.51 1529.94 Q1377.63 1529.94 1375.76 1530.35 Q1373.9 1530.77 1371.96 1531.65 L1371.96 1514.29 Z\" fill=\"#000000\" fill-rule=\"nonzero\" fill-opacity=\"1\" /><path clip-path=\"url(#clip800)\" d=\"M1412.07 1517.37 Q1408.46 1517.37 1406.64 1520.93 Q1404.83 1524.47 1404.83 1531.6 Q1404.83 1538.71 1406.64 1542.27 Q1408.46 1545.82 1412.07 1545.82 Q1415.71 1545.82 1417.51 1542.27 Q1419.34 1538.71 1419.34 1531.6 Q1419.34 1524.47 1417.51 1520.93 Q1415.71 1517.37 1412.07 1517.37 M1412.07 1513.66 Q1417.88 1513.66 1420.94 1518.27 Q1424.02 1522.85 1424.02 1531.6 Q1424.02 1540.33 1420.94 1544.94 Q1417.88 1549.52 1412.07 1549.52 Q1406.26 1549.52 1403.19 1544.94 Q1400.13 1540.33 1400.13 1531.6 Q1400.13 1522.85 1403.19 1518.27 Q1406.26 1513.66 1412.07 1513.66 Z\" fill=\"#000000\" fill-rule=\"nonzero\" fill-opacity=\"1\" /><path clip-path=\"url(#clip800)\" d=\"M1758.33 1530.21 Q1761.69 1530.93 1763.56 1533.2 Q1765.46 1535.47 1765.46 1538.8 Q1765.46 1543.92 1761.94 1546.72 Q1758.42 1549.52 1751.94 1549.52 Q1749.77 1549.52 1747.45 1549.08 Q1745.16 1548.66 1742.71 1547.81 L1742.71 1543.29 Q1744.65 1544.43 1746.97 1545.01 Q1749.28 1545.58 1751.8 1545.58 Q1756.2 1545.58 1758.49 1543.85 Q1760.81 1542.11 1760.81 1538.8 Q1760.81 1535.75 1758.65 1534.03 Q1756.53 1532.3 1752.71 1532.3 L1748.68 1532.3 L1748.68 1528.45 L1752.89 1528.45 Q1756.34 1528.45 1758.17 1527.09 Q1760 1525.7 1760 1523.11 Q1760 1520.45 1758.1 1519.03 Q1756.22 1517.6 1752.71 1517.6 Q1750.78 1517.6 1748.59 1518.01 Q1746.39 1518.43 1743.75 1519.31 L1743.75 1515.14 Q1746.41 1514.4 1748.72 1514.03 Q1751.06 1513.66 1753.12 1513.66 Q1758.45 1513.66 1761.55 1516.09 Q1764.65 1518.5 1764.65 1522.62 Q1764.65 1525.49 1763.01 1527.48 Q1761.36 1529.45 1758.33 1530.21 Z\" fill=\"#000000\" fill-rule=\"nonzero\" fill-opacity=\"1\" /><path clip-path=\"url(#clip800)\" d=\"M1784.33 1517.37 Q1780.71 1517.37 1778.89 1520.93 Q1777.08 1524.47 1777.08 1531.6 Q1777.08 1538.71 1778.89 1542.27 Q1780.71 1545.82 1784.33 1545.82 Q1787.96 1545.82 1789.77 1542.27 Q1791.59 1538.71 1791.59 1531.6 Q1791.59 1524.47 1789.77 1520.93 Q1787.96 1517.37 1784.33 1517.37 M1784.33 1513.66 Q1790.14 1513.66 1793.19 1518.27 Q1796.27 1522.85 1796.27 1531.6 Q1796.27 1540.33 1793.19 1544.94 Q1790.14 1549.52 1784.33 1549.52 Q1778.52 1549.52 1775.44 1544.94 Q1772.38 1540.33 1772.38 1531.6 Q1772.38 1522.85 1775.44 1518.27 Q1778.52 1513.66 1784.33 1513.66 Z\" fill=\"#000000\" fill-rule=\"nonzero\" fill-opacity=\"1\" /><path clip-path=\"url(#clip800)\" d=\"M1804.49 1542.97 L1809.37 1542.97 L1809.37 1548.85 L1804.49 1548.85 L1804.49 1542.97 Z\" fill=\"#000000\" fill-rule=\"nonzero\" fill-opacity=\"1\" /><path clip-path=\"url(#clip800)\" d=\"M1818.38 1514.29 L1840.6 1514.29 L1840.6 1516.28 L1828.05 1548.85 L1823.17 1548.85 L1834.97 1518.22 L1818.38 1518.22 L1818.38 1514.29 Z\" fill=\"#000000\" fill-rule=\"nonzero\" fill-opacity=\"1\" /><path clip-path=\"url(#clip800)\" d=\"M1849.77 1514.29 L1868.12 1514.29 L1868.12 1518.22 L1854.05 1518.22 L1854.05 1526.7 Q1855.07 1526.35 1856.08 1526.19 Q1857.1 1526 1858.12 1526 Q1863.91 1526 1867.29 1529.17 Q1870.67 1532.34 1870.67 1537.76 Q1870.67 1543.34 1867.2 1546.44 Q1863.72 1549.52 1857.4 1549.52 Q1855.23 1549.52 1852.96 1549.15 Q1850.71 1548.78 1848.31 1548.04 L1848.31 1543.34 Q1850.39 1544.47 1852.61 1545.03 Q1854.83 1545.58 1857.31 1545.58 Q1861.32 1545.58 1863.65 1543.48 Q1865.99 1541.37 1865.99 1537.76 Q1865.99 1534.15 1863.65 1532.04 Q1861.32 1529.94 1857.31 1529.94 Q1855.44 1529.94 1853.56 1530.35 Q1851.71 1530.77 1849.77 1531.65 L1849.77 1514.29 Z\" fill=\"#000000\" fill-rule=\"nonzero\" fill-opacity=\"1\" /><path clip-path=\"url(#clip800)\" d=\"M2204.98 1530.21 Q2208.34 1530.93 2210.21 1533.2 Q2212.11 1535.47 2212.11 1538.8 Q2212.11 1543.92 2208.59 1546.72 Q2205.07 1549.52 2198.59 1549.52 Q2196.41 1549.52 2194.1 1549.08 Q2191.81 1548.66 2189.35 1547.81 L2189.35 1543.29 Q2191.3 1544.43 2193.61 1545.01 Q2195.93 1545.58 2198.45 1545.58 Q2202.85 1545.58 2205.14 1543.85 Q2207.46 1542.11 2207.46 1538.8 Q2207.46 1535.75 2205.3 1534.03 Q2203.17 1532.3 2199.35 1532.3 L2195.33 1532.3 L2195.33 1528.45 L2199.54 1528.45 Q2202.99 1528.45 2204.82 1527.09 Q2206.65 1525.7 2206.65 1523.11 Q2206.65 1520.45 2204.75 1519.03 Q2202.87 1517.6 2199.35 1517.6 Q2197.43 1517.6 2195.23 1518.01 Q2193.04 1518.43 2190.4 1519.31 L2190.4 1515.14 Q2193.06 1514.4 2195.37 1514.03 Q2197.71 1513.66 2199.77 1513.66 Q2205.1 1513.66 2208.2 1516.09 Q2211.3 1518.5 2211.3 1522.62 Q2211.3 1525.49 2209.66 1527.48 Q2208.01 1529.45 2204.98 1530.21 Z\" fill=\"#000000\" fill-rule=\"nonzero\" fill-opacity=\"1\" /><path clip-path=\"url(#clip800)\" d=\"M2221.79 1544.91 L2229.42 1544.91 L2229.42 1518.55 L2221.11 1520.21 L2221.11 1515.95 L2229.38 1514.29 L2234.05 1514.29 L2234.05 1544.91 L2241.69 1544.91 L2241.69 1548.85 L2221.79 1548.85 L2221.79 1544.91 Z\" fill=\"#000000\" fill-rule=\"nonzero\" fill-opacity=\"1\" /><path clip-path=\"url(#clip800)\" d=\"M2251.14 1542.97 L2256.02 1542.97 L2256.02 1548.85 L2251.14 1548.85 L2251.14 1542.97 Z\" fill=\"#000000\" fill-rule=\"nonzero\" fill-opacity=\"1\" /><path clip-path=\"url(#clip800)\" d=\"M2276.21 1517.37 Q2272.59 1517.37 2270.77 1520.93 Q2268.96 1524.47 2268.96 1531.6 Q2268.96 1538.71 2270.77 1542.27 Q2272.59 1545.82 2276.21 1545.82 Q2279.84 1545.82 2281.65 1542.27 Q2283.47 1538.71 2283.47 1531.6 Q2283.47 1524.47 2281.65 1520.93 Q2279.84 1517.37 2276.21 1517.37 M2276.21 1513.66 Q2282.02 1513.66 2285.07 1518.27 Q2288.15 1522.85 2288.15 1531.6 Q2288.15 1540.33 2285.07 1544.94 Q2282.02 1549.52 2276.21 1549.52 Q2270.4 1549.52 2267.32 1544.94 Q2264.26 1540.33 2264.26 1531.6 Q2264.26 1522.85 2267.32 1518.27 Q2270.4 1513.66 2276.21 1513.66 Z\" fill=\"#000000\" fill-rule=\"nonzero\" fill-opacity=\"1\" /><path clip-path=\"url(#clip800)\" d=\"M2306.37 1517.37 Q2302.76 1517.37 2300.93 1520.93 Q2299.12 1524.47 2299.12 1531.6 Q2299.12 1538.71 2300.93 1542.27 Q2302.76 1545.82 2306.37 1545.82 Q2310 1545.82 2311.81 1542.27 Q2313.64 1538.71 2313.64 1531.6 Q2313.64 1524.47 2311.81 1520.93 Q2310 1517.37 2306.37 1517.37 M2306.37 1513.66 Q2312.18 1513.66 2315.23 1518.27 Q2318.31 1522.85 2318.31 1531.6 Q2318.31 1540.33 2315.23 1544.94 Q2312.18 1549.52 2306.37 1549.52 Q2300.56 1549.52 2297.48 1544.94 Q2294.42 1540.33 2294.42 1531.6 Q2294.42 1522.85 2297.48 1518.27 Q2300.56 1513.66 2306.37 1513.66 Z\" fill=\"#000000\" fill-rule=\"nonzero\" fill-opacity=\"1\" /><polyline clip-path=\"url(#clip802)\" style=\"stroke:#000000; stroke-linecap:round; stroke-linejoin:round; stroke-width:2; stroke-opacity:0.1; fill:none\" points=\"178.867,1219.43 2352.76,1219.43 \"/>\n",
       "<polyline clip-path=\"url(#clip802)\" style=\"stroke:#000000; stroke-linecap:round; stroke-linejoin:round; stroke-width:2; stroke-opacity:0.1; fill:none\" points=\"178.867,842.276 2352.76,842.276 \"/>\n",
       "<polyline clip-path=\"url(#clip802)\" style=\"stroke:#000000; stroke-linecap:round; stroke-linejoin:round; stroke-width:2; stroke-opacity:0.1; fill:none\" points=\"178.867,465.126 2352.76,465.126 \"/>\n",
       "<polyline clip-path=\"url(#clip802)\" style=\"stroke:#000000; stroke-linecap:round; stroke-linejoin:round; stroke-width:2; stroke-opacity:0.1; fill:none\" points=\"178.867,87.9763 2352.76,87.9763 \"/>\n",
       "<polyline clip-path=\"url(#clip800)\" style=\"stroke:#000000; stroke-linecap:round; stroke-linejoin:round; stroke-width:4; stroke-opacity:1; fill:none\" points=\"178.867,1486.45 178.867,47.2441 \"/>\n",
       "<polyline clip-path=\"url(#clip800)\" style=\"stroke:#000000; stroke-linecap:round; stroke-linejoin:round; stroke-width:4; stroke-opacity:1; fill:none\" points=\"178.867,1219.43 197.764,1219.43 \"/>\n",
       "<polyline clip-path=\"url(#clip800)\" style=\"stroke:#000000; stroke-linecap:round; stroke-linejoin:round; stroke-width:4; stroke-opacity:1; fill:none\" points=\"178.867,842.276 197.764,842.276 \"/>\n",
       "<polyline clip-path=\"url(#clip800)\" style=\"stroke:#000000; stroke-linecap:round; stroke-linejoin:round; stroke-width:4; stroke-opacity:1; fill:none\" points=\"178.867,465.126 197.764,465.126 \"/>\n",
       "<polyline clip-path=\"url(#clip800)\" style=\"stroke:#000000; stroke-linecap:round; stroke-linejoin:round; stroke-width:4; stroke-opacity:1; fill:none\" points=\"178.867,87.9763 197.764,87.9763 \"/>\n",
       "<path clip-path=\"url(#clip800)\" d=\"M51.9875 1219.88 L81.6633 1219.88 L81.6633 1223.81 L51.9875 1223.81 L51.9875 1219.88 Z\" fill=\"#000000\" fill-rule=\"nonzero\" fill-opacity=\"1\" /><path clip-path=\"url(#clip800)\" d=\"M92.566 1232.77 L100.205 1232.77 L100.205 1206.41 L91.8947 1208.07 L91.8947 1203.81 L100.159 1202.15 L104.834 1202.15 L104.834 1232.77 L112.473 1232.77 L112.473 1236.71 L92.566 1236.71 L92.566 1232.77 Z\" fill=\"#000000\" fill-rule=\"nonzero\" fill-opacity=\"1\" /><path clip-path=\"url(#clip800)\" d=\"M121.964 1202.15 L140.32 1202.15 L140.32 1206.08 L126.246 1206.08 L126.246 1214.55 Q127.265 1214.21 128.283 1214.04 Q129.302 1213.86 130.32 1213.86 Q136.107 1213.86 139.487 1217.03 Q142.867 1220.2 142.867 1225.62 Q142.867 1231.2 139.394 1234.3 Q135.922 1237.38 129.603 1237.38 Q127.427 1237.38 125.158 1237.01 Q122.913 1236.64 120.506 1235.9 L120.506 1231.2 Q122.589 1232.33 124.811 1232.89 Q127.033 1233.44 129.51 1233.44 Q133.515 1233.44 135.853 1231.34 Q138.191 1229.23 138.191 1225.62 Q138.191 1222.01 135.853 1219.9 Q133.515 1217.79 129.51 1217.79 Q127.635 1217.79 125.76 1218.21 Q123.908 1218.63 121.964 1219.51 L121.964 1202.15 Z\" fill=\"#000000\" fill-rule=\"nonzero\" fill-opacity=\"1\" /><path clip-path=\"url(#clip800)\" d=\"M50.9921 842.727 L80.6679 842.727 L80.6679 846.663 L50.9921 846.663 L50.9921 842.727 Z\" fill=\"#000000\" fill-rule=\"nonzero\" fill-opacity=\"1\" /><path clip-path=\"url(#clip800)\" d=\"M91.5706 855.621 L99.2095 855.621 L99.2095 829.255 L90.8993 830.922 L90.8993 826.663 L99.1632 824.996 L103.839 824.996 L103.839 855.621 L111.478 855.621 L111.478 859.556 L91.5706 859.556 L91.5706 855.621 Z\" fill=\"#000000\" fill-rule=\"nonzero\" fill-opacity=\"1\" /><path clip-path=\"url(#clip800)\" d=\"M130.922 828.075 Q127.311 828.075 125.482 831.639 Q123.677 835.181 123.677 842.311 Q123.677 849.417 125.482 852.982 Q127.311 856.524 130.922 856.524 Q134.556 856.524 136.362 852.982 Q138.191 849.417 138.191 842.311 Q138.191 835.181 136.362 831.639 Q134.556 828.075 130.922 828.075 M130.922 824.371 Q136.732 824.371 139.788 828.977 Q142.867 833.561 142.867 842.311 Q142.867 851.037 139.788 855.644 Q136.732 860.227 130.922 860.227 Q125.112 860.227 122.033 855.644 Q118.978 851.037 118.978 842.311 Q118.978 833.561 122.033 828.977 Q125.112 824.371 130.922 824.371 Z\" fill=\"#000000\" fill-rule=\"nonzero\" fill-opacity=\"1\" /><path clip-path=\"url(#clip800)\" d=\"M82.1494 465.578 L111.825 465.578 L111.825 469.513 L82.1494 469.513 L82.1494 465.578 Z\" fill=\"#000000\" fill-rule=\"nonzero\" fill-opacity=\"1\" /><path clip-path=\"url(#clip800)\" d=\"M121.964 447.846 L140.32 447.846 L140.32 451.781 L126.246 451.781 L126.246 460.253 Q127.265 459.906 128.283 459.744 Q129.302 459.559 130.32 459.559 Q136.107 459.559 139.487 462.73 Q142.867 465.902 142.867 471.318 Q142.867 476.897 139.394 479.999 Q135.922 483.077 129.603 483.077 Q127.427 483.077 125.158 482.707 Q122.913 482.337 120.506 481.596 L120.506 476.897 Q122.589 478.031 124.811 478.587 Q127.033 479.142 129.51 479.142 Q133.515 479.142 135.853 477.036 Q138.191 474.929 138.191 471.318 Q138.191 467.707 135.853 465.601 Q133.515 463.494 129.51 463.494 Q127.635 463.494 125.76 463.911 Q123.908 464.328 121.964 465.207 L121.964 447.846 Z\" fill=\"#000000\" fill-rule=\"nonzero\" fill-opacity=\"1\" /><path clip-path=\"url(#clip800)\" d=\"M130.922 73.775 Q127.311 73.775 125.482 77.3398 Q123.677 80.8814 123.677 88.011 Q123.677 95.1174 125.482 98.6822 Q127.311 102.224 130.922 102.224 Q134.556 102.224 136.362 98.6822 Q138.191 95.1174 138.191 88.011 Q138.191 80.8814 136.362 77.3398 Q134.556 73.775 130.922 73.775 M130.922 70.0713 Q136.732 70.0713 139.788 74.6777 Q142.867 79.261 142.867 88.011 Q142.867 96.7378 139.788 101.344 Q136.732 105.928 130.922 105.928 Q125.112 105.928 122.033 101.344 Q118.978 96.7378 118.978 88.011 Q118.978 79.261 122.033 74.6777 Q125.112 70.0713 130.922 70.0713 Z\" fill=\"#000000\" fill-rule=\"nonzero\" fill-opacity=\"1\" /><polyline clip-path=\"url(#clip802)\" style=\"stroke:#009af9; stroke-linecap:round; stroke-linejoin:round; stroke-width:4; stroke-opacity:1; fill:none\" points=\"2291.23,1445.72 2291.23,1370.29 2290.42,1294.86 2289.61,1219.43 2281.48,1144 2273.34,1068.57 2272.53,993.136 2263.59,917.706 2254.65,842.276 2245.7,766.846 2228.63,691.416 2210.74,615.986 2192.86,540.556 2163.12,465.126 2116.12,389.696 2016.19,314.266 1817.94,238.836 1323.44,163.406 240.392,87.9763 \"/>\n",
       "<path clip-path=\"url(#clip800)\" d=\"M251.33 1438.47 L634.69 1438.47 L634.69 1334.79 L251.33 1334.79  Z\" fill=\"#ffffff\" fill-rule=\"evenodd\" fill-opacity=\"1\"/>\n",
       "<polyline clip-path=\"url(#clip800)\" style=\"stroke:#000000; stroke-linecap:round; stroke-linejoin:round; stroke-width:4; stroke-opacity:1; fill:none\" points=\"251.33,1438.47 634.69,1438.47 634.69,1334.79 251.33,1334.79 251.33,1438.47 \"/>\n",
       "<polyline clip-path=\"url(#clip800)\" style=\"stroke:#009af9; stroke-linecap:round; stroke-linejoin:round; stroke-width:4; stroke-opacity:1; fill:none\" points=\"275.484,1386.63 420.41,1386.63 \"/>\n",
       "<path clip-path=\"url(#clip800)\" d=\"M462.99 1378.75 L462.99 1382.78 Q461.184 1381.85 459.24 1381.39 Q457.296 1380.93 455.212 1380.93 Q452.041 1380.93 450.444 1381.9 Q448.87 1382.87 448.87 1384.82 Q448.87 1386.3 450.004 1387.16 Q451.138 1387.99 454.564 1388.75 L456.022 1389.08 Q460.559 1390.05 462.458 1391.83 Q464.379 1393.59 464.379 1396.76 Q464.379 1400.37 461.509 1402.48 Q458.661 1404.59 453.661 1404.59 Q451.578 1404.59 449.31 1404.17 Q447.064 1403.78 444.564 1402.97 L444.564 1398.57 Q446.925 1399.79 449.217 1400.42 Q451.509 1401.02 453.754 1401.02 Q456.763 1401.02 458.384 1400 Q460.004 1398.96 460.004 1397.09 Q460.004 1395.35 458.823 1394.42 Q457.666 1393.5 453.708 1392.64 L452.226 1392.29 Q448.268 1391.46 446.509 1389.75 Q444.749 1388.01 444.749 1385 Q444.749 1381.35 447.342 1379.35 Q449.935 1377.36 454.703 1377.36 Q457.064 1377.36 459.147 1377.71 Q461.231 1378.06 462.99 1378.75 Z\" fill=\"#000000\" fill-rule=\"nonzero\" fill-opacity=\"1\" /><path clip-path=\"url(#clip800)\" d=\"M482.944 1390.88 Q477.782 1390.88 475.791 1392.06 Q473.8 1393.24 473.8 1396.09 Q473.8 1398.36 475.282 1399.7 Q476.786 1401.02 479.356 1401.02 Q482.897 1401.02 485.027 1398.52 Q487.18 1396 487.18 1391.83 L487.18 1390.88 L482.944 1390.88 M491.439 1389.12 L491.439 1403.91 L487.18 1403.91 L487.18 1399.98 Q485.721 1402.34 483.545 1403.47 Q481.37 1404.59 478.221 1404.59 Q474.24 1404.59 471.879 1402.36 Q469.541 1400.12 469.541 1396.37 Q469.541 1391.99 472.458 1389.77 Q475.397 1387.55 481.208 1387.55 L487.18 1387.55 L487.18 1387.13 Q487.18 1384.19 485.235 1382.6 Q483.314 1380.97 479.819 1380.97 Q477.596 1380.97 475.49 1381.51 Q473.384 1382.04 471.439 1383.1 L471.439 1379.17 Q473.777 1378.27 475.976 1377.83 Q478.175 1377.36 480.258 1377.36 Q485.883 1377.36 488.661 1380.28 Q491.439 1383.2 491.439 1389.12 Z\" fill=\"#000000\" fill-rule=\"nonzero\" fill-opacity=\"1\" /><path clip-path=\"url(#clip800)\" d=\"M500.212 1367.9 L504.471 1367.9 L504.471 1403.91 L500.212 1403.91 L500.212 1367.9 Z\" fill=\"#000000\" fill-rule=\"nonzero\" fill-opacity=\"1\" /><path clip-path=\"url(#clip800)\" d=\"M513.383 1377.99 L517.643 1377.99 L517.643 1403.91 L513.383 1403.91 L513.383 1377.99 M513.383 1367.9 L517.643 1367.9 L517.643 1373.29 L513.383 1373.29 L513.383 1367.9 Z\" fill=\"#000000\" fill-rule=\"nonzero\" fill-opacity=\"1\" /><path clip-path=\"url(#clip800)\" d=\"M548.105 1388.27 L548.105 1403.91 L543.846 1403.91 L543.846 1388.41 Q543.846 1384.72 542.411 1382.9 Q540.976 1381.07 538.105 1381.07 Q534.656 1381.07 532.666 1383.27 Q530.675 1385.47 530.675 1389.26 L530.675 1403.91 L526.392 1403.91 L526.392 1377.99 L530.675 1377.99 L530.675 1382.02 Q532.203 1379.68 534.263 1378.52 Q536.346 1377.36 539.054 1377.36 Q543.522 1377.36 545.814 1380.14 Q548.105 1382.9 548.105 1388.27 Z\" fill=\"#000000\" fill-rule=\"nonzero\" fill-opacity=\"1\" /><path clip-path=\"url(#clip800)\" d=\"M556.601 1377.99 L560.86 1377.99 L560.86 1403.91 L556.601 1403.91 L556.601 1377.99 M556.601 1367.9 L560.86 1367.9 L560.86 1373.29 L556.601 1373.29 L556.601 1367.9 Z\" fill=\"#000000\" fill-rule=\"nonzero\" fill-opacity=\"1\" /><path clip-path=\"url(#clip800)\" d=\"M573.985 1370.63 L573.985 1377.99 L582.758 1377.99 L582.758 1381.3 L573.985 1381.3 L573.985 1395.37 Q573.985 1398.54 574.841 1399.45 Q575.721 1400.35 578.383 1400.35 L582.758 1400.35 L582.758 1403.91 L578.383 1403.91 Q573.452 1403.91 571.577 1402.09 Q569.702 1400.23 569.702 1395.37 L569.702 1381.3 L566.577 1381.3 L566.577 1377.99 L569.702 1377.99 L569.702 1370.63 L573.985 1370.63 Z\" fill=\"#000000\" fill-rule=\"nonzero\" fill-opacity=\"1\" /><path clip-path=\"url(#clip800)\" d=\"M599.147 1406.32 Q597.341 1410.95 595.628 1412.36 Q593.915 1413.78 591.045 1413.78 L587.642 1413.78 L587.642 1410.21 L590.142 1410.21 Q591.901 1410.21 592.874 1409.38 Q593.846 1408.54 595.026 1405.44 L595.79 1403.5 L585.304 1377.99 L589.818 1377.99 L597.92 1398.27 L606.022 1377.99 L610.536 1377.99 L599.147 1406.32 Z\" fill=\"#000000\" fill-rule=\"nonzero\" fill-opacity=\"1\" /></svg>\n"
      ],
      "text/html": [
       "<?xml version=\"1.0\" encoding=\"utf-8\"?>\n",
       "<svg xmlns=\"http://www.w3.org/2000/svg\" xmlns:xlink=\"http://www.w3.org/1999/xlink\" width=\"600\" height=\"400\" viewBox=\"0 0 2400 1600\">\n",
       "<defs>\n",
       "  <clipPath id=\"clip850\">\n",
       "    <rect x=\"0\" y=\"0\" width=\"2400\" height=\"1600\"/>\n",
       "  </clipPath>\n",
       "</defs>\n",
       "<path clip-path=\"url(#clip850)\" d=\"M0 1600 L2400 1600 L2400 0 L0 0  Z\" fill=\"#ffffff\" fill-rule=\"evenodd\" fill-opacity=\"1\"/>\n",
       "<defs>\n",
       "  <clipPath id=\"clip851\">\n",
       "    <rect x=\"480\" y=\"0\" width=\"1681\" height=\"1600\"/>\n",
       "  </clipPath>\n",
       "</defs>\n",
       "<path clip-path=\"url(#clip850)\" d=\"M178.867 1486.45 L2352.76 1486.45 L2352.76 47.2441 L178.867 47.2441  Z\" fill=\"#ffffff\" fill-rule=\"evenodd\" fill-opacity=\"1\"/>\n",
       "<defs>\n",
       "  <clipPath id=\"clip852\">\n",
       "    <rect x=\"178\" y=\"47\" width=\"2175\" height=\"1440\"/>\n",
       "  </clipPath>\n",
       "</defs>\n",
       "<polyline clip-path=\"url(#clip852)\" style=\"stroke:#000000; stroke-linecap:round; stroke-linejoin:round; stroke-width:2; stroke-opacity:0.1; fill:none\" points=\"465.247,1486.45 465.247,47.2441 \"/>\n",
       "<polyline clip-path=\"url(#clip852)\" style=\"stroke:#000000; stroke-linecap:round; stroke-linejoin:round; stroke-width:2; stroke-opacity:0.1; fill:none\" points=\"912.394,1486.45 912.394,47.2441 \"/>\n",
       "<polyline clip-path=\"url(#clip852)\" style=\"stroke:#000000; stroke-linecap:round; stroke-linejoin:round; stroke-width:2; stroke-opacity:0.1; fill:none\" points=\"1359.54,1486.45 1359.54,47.2441 \"/>\n",
       "<polyline clip-path=\"url(#clip852)\" style=\"stroke:#000000; stroke-linecap:round; stroke-linejoin:round; stroke-width:2; stroke-opacity:0.1; fill:none\" points=\"1806.69,1486.45 1806.69,47.2441 \"/>\n",
       "<polyline clip-path=\"url(#clip852)\" style=\"stroke:#000000; stroke-linecap:round; stroke-linejoin:round; stroke-width:2; stroke-opacity:0.1; fill:none\" points=\"2253.83,1486.45 2253.83,47.2441 \"/>\n",
       "<polyline clip-path=\"url(#clip850)\" style=\"stroke:#000000; stroke-linecap:round; stroke-linejoin:round; stroke-width:4; stroke-opacity:1; fill:none\" points=\"178.867,1486.45 2352.76,1486.45 \"/>\n",
       "<polyline clip-path=\"url(#clip850)\" style=\"stroke:#000000; stroke-linecap:round; stroke-linejoin:round; stroke-width:4; stroke-opacity:1; fill:none\" points=\"465.247,1486.45 465.247,1467.55 \"/>\n",
       "<polyline clip-path=\"url(#clip850)\" style=\"stroke:#000000; stroke-linecap:round; stroke-linejoin:round; stroke-width:4; stroke-opacity:1; fill:none\" points=\"912.394,1486.45 912.394,1467.55 \"/>\n",
       "<polyline clip-path=\"url(#clip850)\" style=\"stroke:#000000; stroke-linecap:round; stroke-linejoin:round; stroke-width:4; stroke-opacity:1; fill:none\" points=\"1359.54,1486.45 1359.54,1467.55 \"/>\n",
       "<polyline clip-path=\"url(#clip850)\" style=\"stroke:#000000; stroke-linecap:round; stroke-linejoin:round; stroke-width:4; stroke-opacity:1; fill:none\" points=\"1806.69,1486.45 1806.69,1467.55 \"/>\n",
       "<polyline clip-path=\"url(#clip850)\" style=\"stroke:#000000; stroke-linecap:round; stroke-linejoin:round; stroke-width:4; stroke-opacity:1; fill:none\" points=\"2253.83,1486.45 2253.83,1467.55 \"/>\n",
       "<path clip-path=\"url(#clip850)\" d=\"M416.393 1530.21 Q419.75 1530.93 421.625 1533.2 Q423.523 1535.47 423.523 1538.8 Q423.523 1543.92 420.004 1546.72 Q416.486 1549.52 410.004 1549.52 Q407.829 1549.52 405.514 1549.08 Q403.222 1548.66 400.768 1547.81 L400.768 1543.29 Q402.713 1544.43 405.028 1545.01 Q407.342 1545.58 409.866 1545.58 Q414.264 1545.58 416.555 1543.85 Q418.87 1542.11 418.87 1538.8 Q418.87 1535.75 416.717 1534.03 Q414.588 1532.3 410.768 1532.3 L406.741 1532.3 L406.741 1528.45 L410.954 1528.45 Q414.403 1528.45 416.231 1527.09 Q418.06 1525.7 418.06 1523.11 Q418.06 1520.45 416.162 1519.03 Q414.287 1517.6 410.768 1517.6 Q408.847 1517.6 406.648 1518.01 Q404.449 1518.43 401.81 1519.31 L401.81 1515.14 Q404.472 1514.4 406.787 1514.03 Q409.125 1513.66 411.185 1513.66 Q416.509 1513.66 419.611 1516.09 Q422.713 1518.5 422.713 1522.62 Q422.713 1525.49 421.069 1527.48 Q419.426 1529.45 416.393 1530.21 Z\" fill=\"#000000\" fill-rule=\"nonzero\" fill-opacity=\"1\" /><path clip-path=\"url(#clip850)\" d=\"M442.389 1517.37 Q438.777 1517.37 436.949 1520.93 Q435.143 1524.47 435.143 1531.6 Q435.143 1538.71 436.949 1542.27 Q438.777 1545.82 442.389 1545.82 Q446.023 1545.82 447.828 1542.27 Q449.657 1538.71 449.657 1531.6 Q449.657 1524.47 447.828 1520.93 Q446.023 1517.37 442.389 1517.37 M442.389 1513.66 Q448.199 1513.66 451.254 1518.27 Q454.333 1522.85 454.333 1531.6 Q454.333 1540.33 451.254 1544.94 Q448.199 1549.52 442.389 1549.52 Q436.578 1549.52 433.5 1544.94 Q430.444 1540.33 430.444 1531.6 Q430.444 1522.85 433.5 1518.27 Q436.578 1513.66 442.389 1513.66 Z\" fill=\"#000000\" fill-rule=\"nonzero\" fill-opacity=\"1\" /><path clip-path=\"url(#clip850)\" d=\"M462.551 1542.97 L467.435 1542.97 L467.435 1548.85 L462.551 1548.85 L462.551 1542.97 Z\" fill=\"#000000\" fill-rule=\"nonzero\" fill-opacity=\"1\" /><path clip-path=\"url(#clip850)\" d=\"M487.62 1517.37 Q484.009 1517.37 482.18 1520.93 Q480.374 1524.47 480.374 1531.6 Q480.374 1538.71 482.18 1542.27 Q484.009 1545.82 487.62 1545.82 Q491.254 1545.82 493.06 1542.27 Q494.888 1538.71 494.888 1531.6 Q494.888 1524.47 493.06 1520.93 Q491.254 1517.37 487.62 1517.37 M487.62 1513.66 Q493.43 1513.66 496.486 1518.27 Q499.564 1522.85 499.564 1531.6 Q499.564 1540.33 496.486 1544.94 Q493.43 1549.52 487.62 1549.52 Q481.81 1549.52 478.731 1544.94 Q475.675 1540.33 475.675 1531.6 Q475.675 1522.85 478.731 1518.27 Q481.81 1513.66 487.62 1513.66 Z\" fill=\"#000000\" fill-rule=\"nonzero\" fill-opacity=\"1\" /><path clip-path=\"url(#clip850)\" d=\"M517.782 1517.37 Q514.171 1517.37 512.342 1520.93 Q510.536 1524.47 510.536 1531.6 Q510.536 1538.71 512.342 1542.27 Q514.171 1545.82 517.782 1545.82 Q521.416 1545.82 523.221 1542.27 Q525.05 1538.71 525.05 1531.6 Q525.05 1524.47 523.221 1520.93 Q521.416 1517.37 517.782 1517.37 M517.782 1513.66 Q523.592 1513.66 526.647 1518.27 Q529.726 1522.85 529.726 1531.6 Q529.726 1540.33 526.647 1544.94 Q523.592 1549.52 517.782 1549.52 Q511.972 1549.52 508.893 1544.94 Q505.837 1540.33 505.837 1531.6 Q505.837 1522.85 508.893 1518.27 Q511.972 1513.66 517.782 1513.66 Z\" fill=\"#000000\" fill-rule=\"nonzero\" fill-opacity=\"1\" /><path clip-path=\"url(#clip850)\" d=\"M864.038 1530.21 Q867.394 1530.93 869.269 1533.2 Q871.167 1535.47 871.167 1538.8 Q871.167 1543.92 867.649 1546.72 Q864.13 1549.52 857.649 1549.52 Q855.473 1549.52 853.158 1549.08 Q850.866 1548.66 848.413 1547.81 L848.413 1543.29 Q850.357 1544.43 852.672 1545.01 Q854.987 1545.58 857.51 1545.58 Q861.908 1545.58 864.2 1543.85 Q866.514 1542.11 866.514 1538.8 Q866.514 1535.75 864.362 1534.03 Q862.232 1532.3 858.413 1532.3 L854.385 1532.3 L854.385 1528.45 L858.598 1528.45 Q862.047 1528.45 863.876 1527.09 Q865.704 1525.7 865.704 1523.11 Q865.704 1520.45 863.806 1519.03 Q861.931 1517.6 858.413 1517.6 Q856.491 1517.6 854.292 1518.01 Q852.093 1518.43 849.454 1519.31 L849.454 1515.14 Q852.116 1514.4 854.431 1514.03 Q856.769 1513.66 858.829 1513.66 Q864.153 1513.66 867.255 1516.09 Q870.357 1518.5 870.357 1522.62 Q870.357 1525.49 868.714 1527.48 Q867.07 1529.45 864.038 1530.21 Z\" fill=\"#000000\" fill-rule=\"nonzero\" fill-opacity=\"1\" /><path clip-path=\"url(#clip850)\" d=\"M890.033 1517.37 Q886.422 1517.37 884.593 1520.93 Q882.788 1524.47 882.788 1531.6 Q882.788 1538.71 884.593 1542.27 Q886.422 1545.82 890.033 1545.82 Q893.667 1545.82 895.473 1542.27 Q897.301 1538.71 897.301 1531.6 Q897.301 1524.47 895.473 1520.93 Q893.667 1517.37 890.033 1517.37 M890.033 1513.66 Q895.843 1513.66 898.899 1518.27 Q901.977 1522.85 901.977 1531.6 Q901.977 1540.33 898.899 1544.94 Q895.843 1549.52 890.033 1549.52 Q884.223 1549.52 881.144 1544.94 Q878.088 1540.33 878.088 1531.6 Q878.088 1522.85 881.144 1518.27 Q884.223 1513.66 890.033 1513.66 Z\" fill=\"#000000\" fill-rule=\"nonzero\" fill-opacity=\"1\" /><path clip-path=\"url(#clip850)\" d=\"M910.195 1542.97 L915.079 1542.97 L915.079 1548.85 L910.195 1548.85 L910.195 1542.97 Z\" fill=\"#000000\" fill-rule=\"nonzero\" fill-opacity=\"1\" /><path clip-path=\"url(#clip850)\" d=\"M929.292 1544.91 L945.611 1544.91 L945.611 1548.85 L923.667 1548.85 L923.667 1544.91 Q926.329 1542.16 930.912 1537.53 Q935.519 1532.88 936.699 1531.53 Q938.945 1529.01 939.824 1527.27 Q940.727 1525.51 940.727 1523.82 Q940.727 1521.07 938.783 1519.33 Q936.861 1517.6 933.759 1517.6 Q931.56 1517.6 929.107 1518.36 Q926.676 1519.13 923.898 1520.68 L923.898 1515.95 Q926.722 1514.82 929.176 1514.24 Q931.63 1513.66 933.667 1513.66 Q939.037 1513.66 942.232 1516.35 Q945.426 1519.03 945.426 1523.52 Q945.426 1525.65 944.616 1527.57 Q943.829 1529.47 941.722 1532.07 Q941.144 1532.74 938.042 1535.95 Q934.94 1539.15 929.292 1544.91 Z\" fill=\"#000000\" fill-rule=\"nonzero\" fill-opacity=\"1\" /><path clip-path=\"url(#clip850)\" d=\"M955.472 1514.29 L973.829 1514.29 L973.829 1518.22 L959.755 1518.22 L959.755 1526.7 Q960.773 1526.35 961.792 1526.19 Q962.81 1526 963.829 1526 Q969.616 1526 972.995 1529.17 Q976.375 1532.34 976.375 1537.76 Q976.375 1543.34 972.903 1546.44 Q969.431 1549.52 963.111 1549.52 Q960.935 1549.52 958.667 1549.15 Q956.421 1548.78 954.014 1548.04 L954.014 1543.34 Q956.097 1544.47 958.32 1545.03 Q960.542 1545.58 963.019 1545.58 Q967.023 1545.58 969.361 1543.48 Q971.699 1541.37 971.699 1537.76 Q971.699 1534.15 969.361 1532.04 Q967.023 1529.94 963.019 1529.94 Q961.144 1529.94 959.269 1530.35 Q957.417 1530.77 955.472 1531.65 L955.472 1514.29 Z\" fill=\"#000000\" fill-rule=\"nonzero\" fill-opacity=\"1\" /><path clip-path=\"url(#clip850)\" d=\"M1310.69 1530.21 Q1314.04 1530.93 1315.92 1533.2 Q1317.82 1535.47 1317.82 1538.8 Q1317.82 1543.92 1314.3 1546.72 Q1310.78 1549.52 1304.3 1549.52 Q1302.12 1549.52 1299.81 1549.08 Q1297.52 1548.66 1295.06 1547.81 L1295.06 1543.29 Q1297.01 1544.43 1299.32 1545.01 Q1301.64 1545.58 1304.16 1545.58 Q1308.56 1545.58 1310.85 1543.85 Q1313.16 1542.11 1313.16 1538.8 Q1313.16 1535.75 1311.01 1534.03 Q1308.88 1532.3 1305.06 1532.3 L1301.03 1532.3 L1301.03 1528.45 L1305.25 1528.45 Q1308.7 1528.45 1310.52 1527.09 Q1312.35 1525.7 1312.35 1523.11 Q1312.35 1520.45 1310.46 1519.03 Q1308.58 1517.6 1305.06 1517.6 Q1303.14 1517.6 1300.94 1518.01 Q1298.74 1518.43 1296.1 1519.31 L1296.1 1515.14 Q1298.77 1514.4 1301.08 1514.03 Q1303.42 1513.66 1305.48 1513.66 Q1310.8 1513.66 1313.9 1516.09 Q1317.01 1518.5 1317.01 1522.62 Q1317.01 1525.49 1315.36 1527.48 Q1313.72 1529.45 1310.69 1530.21 Z\" fill=\"#000000\" fill-rule=\"nonzero\" fill-opacity=\"1\" /><path clip-path=\"url(#clip850)\" d=\"M1336.68 1517.37 Q1333.07 1517.37 1331.24 1520.93 Q1329.44 1524.47 1329.44 1531.6 Q1329.44 1538.71 1331.24 1542.27 Q1333.07 1545.82 1336.68 1545.82 Q1340.32 1545.82 1342.12 1542.27 Q1343.95 1538.71 1343.95 1531.6 Q1343.95 1524.47 1342.12 1520.93 Q1340.32 1517.37 1336.68 1517.37 M1336.68 1513.66 Q1342.49 1513.66 1345.55 1518.27 Q1348.63 1522.85 1348.63 1531.6 Q1348.63 1540.33 1345.55 1544.94 Q1342.49 1549.52 1336.68 1549.52 Q1330.87 1549.52 1327.79 1544.94 Q1324.74 1540.33 1324.74 1531.6 Q1324.74 1522.85 1327.79 1518.27 Q1330.87 1513.66 1336.68 1513.66 Z\" fill=\"#000000\" fill-rule=\"nonzero\" fill-opacity=\"1\" /><path clip-path=\"url(#clip850)\" d=\"M1356.84 1542.97 L1361.73 1542.97 L1361.73 1548.85 L1356.84 1548.85 L1356.84 1542.97 Z\" fill=\"#000000\" fill-rule=\"nonzero\" fill-opacity=\"1\" /><path clip-path=\"url(#clip850)\" d=\"M1371.96 1514.29 L1390.32 1514.29 L1390.32 1518.22 L1376.24 1518.22 L1376.24 1526.7 Q1377.26 1526.35 1378.28 1526.19 Q1379.3 1526 1380.32 1526 Q1386.1 1526 1389.48 1529.17 Q1392.86 1532.34 1392.86 1537.76 Q1392.86 1543.34 1389.39 1546.44 Q1385.92 1549.52 1379.6 1549.52 Q1377.42 1549.52 1375.15 1549.15 Q1372.91 1548.78 1370.5 1548.04 L1370.5 1543.34 Q1372.58 1544.47 1374.81 1545.03 Q1377.03 1545.58 1379.51 1545.58 Q1383.51 1545.58 1385.85 1543.48 Q1388.19 1541.37 1388.19 1537.76 Q1388.19 1534.15 1385.85 1532.04 Q1383.51 1529.94 1379.51 1529.94 Q1377.63 1529.94 1375.76 1530.35 Q1373.9 1530.77 1371.96 1531.65 L1371.96 1514.29 Z\" fill=\"#000000\" fill-rule=\"nonzero\" fill-opacity=\"1\" /><path clip-path=\"url(#clip850)\" d=\"M1412.07 1517.37 Q1408.46 1517.37 1406.64 1520.93 Q1404.83 1524.47 1404.83 1531.6 Q1404.83 1538.71 1406.64 1542.27 Q1408.46 1545.82 1412.07 1545.82 Q1415.71 1545.82 1417.51 1542.27 Q1419.34 1538.71 1419.34 1531.6 Q1419.34 1524.47 1417.51 1520.93 Q1415.71 1517.37 1412.07 1517.37 M1412.07 1513.66 Q1417.88 1513.66 1420.94 1518.27 Q1424.02 1522.85 1424.02 1531.6 Q1424.02 1540.33 1420.94 1544.94 Q1417.88 1549.52 1412.07 1549.52 Q1406.26 1549.52 1403.19 1544.94 Q1400.13 1540.33 1400.13 1531.6 Q1400.13 1522.85 1403.19 1518.27 Q1406.26 1513.66 1412.07 1513.66 Z\" fill=\"#000000\" fill-rule=\"nonzero\" fill-opacity=\"1\" /><path clip-path=\"url(#clip850)\" d=\"M1758.33 1530.21 Q1761.69 1530.93 1763.56 1533.2 Q1765.46 1535.47 1765.46 1538.8 Q1765.46 1543.92 1761.94 1546.72 Q1758.42 1549.52 1751.94 1549.52 Q1749.77 1549.52 1747.45 1549.08 Q1745.16 1548.66 1742.71 1547.81 L1742.71 1543.29 Q1744.65 1544.43 1746.97 1545.01 Q1749.28 1545.58 1751.8 1545.58 Q1756.2 1545.58 1758.49 1543.85 Q1760.81 1542.11 1760.81 1538.8 Q1760.81 1535.75 1758.65 1534.03 Q1756.53 1532.3 1752.71 1532.3 L1748.68 1532.3 L1748.68 1528.45 L1752.89 1528.45 Q1756.34 1528.45 1758.17 1527.09 Q1760 1525.7 1760 1523.11 Q1760 1520.45 1758.1 1519.03 Q1756.22 1517.6 1752.71 1517.6 Q1750.78 1517.6 1748.59 1518.01 Q1746.39 1518.43 1743.75 1519.31 L1743.75 1515.14 Q1746.41 1514.4 1748.72 1514.03 Q1751.06 1513.66 1753.12 1513.66 Q1758.45 1513.66 1761.55 1516.09 Q1764.65 1518.5 1764.65 1522.62 Q1764.65 1525.49 1763.01 1527.48 Q1761.36 1529.45 1758.33 1530.21 Z\" fill=\"#000000\" fill-rule=\"nonzero\" fill-opacity=\"1\" /><path clip-path=\"url(#clip850)\" d=\"M1784.33 1517.37 Q1780.71 1517.37 1778.89 1520.93 Q1777.08 1524.47 1777.08 1531.6 Q1777.08 1538.71 1778.89 1542.27 Q1780.71 1545.82 1784.33 1545.82 Q1787.96 1545.82 1789.77 1542.27 Q1791.59 1538.71 1791.59 1531.6 Q1791.59 1524.47 1789.77 1520.93 Q1787.96 1517.37 1784.33 1517.37 M1784.33 1513.66 Q1790.14 1513.66 1793.19 1518.27 Q1796.27 1522.85 1796.27 1531.6 Q1796.27 1540.33 1793.19 1544.94 Q1790.14 1549.52 1784.33 1549.52 Q1778.52 1549.52 1775.44 1544.94 Q1772.38 1540.33 1772.38 1531.6 Q1772.38 1522.85 1775.44 1518.27 Q1778.52 1513.66 1784.33 1513.66 Z\" fill=\"#000000\" fill-rule=\"nonzero\" fill-opacity=\"1\" /><path clip-path=\"url(#clip850)\" d=\"M1804.49 1542.97 L1809.37 1542.97 L1809.37 1548.85 L1804.49 1548.85 L1804.49 1542.97 Z\" fill=\"#000000\" fill-rule=\"nonzero\" fill-opacity=\"1\" /><path clip-path=\"url(#clip850)\" d=\"M1818.38 1514.29 L1840.6 1514.29 L1840.6 1516.28 L1828.05 1548.85 L1823.17 1548.85 L1834.97 1518.22 L1818.38 1518.22 L1818.38 1514.29 Z\" fill=\"#000000\" fill-rule=\"nonzero\" fill-opacity=\"1\" /><path clip-path=\"url(#clip850)\" d=\"M1849.77 1514.29 L1868.12 1514.29 L1868.12 1518.22 L1854.05 1518.22 L1854.05 1526.7 Q1855.07 1526.35 1856.08 1526.19 Q1857.1 1526 1858.12 1526 Q1863.91 1526 1867.29 1529.17 Q1870.67 1532.34 1870.67 1537.76 Q1870.67 1543.34 1867.2 1546.44 Q1863.72 1549.52 1857.4 1549.52 Q1855.23 1549.52 1852.96 1549.15 Q1850.71 1548.78 1848.31 1548.04 L1848.31 1543.34 Q1850.39 1544.47 1852.61 1545.03 Q1854.83 1545.58 1857.31 1545.58 Q1861.32 1545.58 1863.65 1543.48 Q1865.99 1541.37 1865.99 1537.76 Q1865.99 1534.15 1863.65 1532.04 Q1861.32 1529.94 1857.31 1529.94 Q1855.44 1529.94 1853.56 1530.35 Q1851.71 1530.77 1849.77 1531.65 L1849.77 1514.29 Z\" fill=\"#000000\" fill-rule=\"nonzero\" fill-opacity=\"1\" /><path clip-path=\"url(#clip850)\" d=\"M2204.98 1530.21 Q2208.34 1530.93 2210.21 1533.2 Q2212.11 1535.47 2212.11 1538.8 Q2212.11 1543.92 2208.59 1546.72 Q2205.07 1549.52 2198.59 1549.52 Q2196.41 1549.52 2194.1 1549.08 Q2191.81 1548.66 2189.35 1547.81 L2189.35 1543.29 Q2191.3 1544.43 2193.61 1545.01 Q2195.93 1545.58 2198.45 1545.58 Q2202.85 1545.58 2205.14 1543.85 Q2207.46 1542.11 2207.46 1538.8 Q2207.46 1535.75 2205.3 1534.03 Q2203.17 1532.3 2199.35 1532.3 L2195.33 1532.3 L2195.33 1528.45 L2199.54 1528.45 Q2202.99 1528.45 2204.82 1527.09 Q2206.65 1525.7 2206.65 1523.11 Q2206.65 1520.45 2204.75 1519.03 Q2202.87 1517.6 2199.35 1517.6 Q2197.43 1517.6 2195.23 1518.01 Q2193.04 1518.43 2190.4 1519.31 L2190.4 1515.14 Q2193.06 1514.4 2195.37 1514.03 Q2197.71 1513.66 2199.77 1513.66 Q2205.1 1513.66 2208.2 1516.09 Q2211.3 1518.5 2211.3 1522.62 Q2211.3 1525.49 2209.66 1527.48 Q2208.01 1529.45 2204.98 1530.21 Z\" fill=\"#000000\" fill-rule=\"nonzero\" fill-opacity=\"1\" /><path clip-path=\"url(#clip850)\" d=\"M2221.79 1544.91 L2229.42 1544.91 L2229.42 1518.55 L2221.11 1520.21 L2221.11 1515.95 L2229.38 1514.29 L2234.05 1514.29 L2234.05 1544.91 L2241.69 1544.91 L2241.69 1548.85 L2221.79 1548.85 L2221.79 1544.91 Z\" fill=\"#000000\" fill-rule=\"nonzero\" fill-opacity=\"1\" /><path clip-path=\"url(#clip850)\" d=\"M2251.14 1542.97 L2256.02 1542.97 L2256.02 1548.85 L2251.14 1548.85 L2251.14 1542.97 Z\" fill=\"#000000\" fill-rule=\"nonzero\" fill-opacity=\"1\" /><path clip-path=\"url(#clip850)\" d=\"M2276.21 1517.37 Q2272.59 1517.37 2270.77 1520.93 Q2268.96 1524.47 2268.96 1531.6 Q2268.96 1538.71 2270.77 1542.27 Q2272.59 1545.82 2276.21 1545.82 Q2279.84 1545.82 2281.65 1542.27 Q2283.47 1538.71 2283.47 1531.6 Q2283.47 1524.47 2281.65 1520.93 Q2279.84 1517.37 2276.21 1517.37 M2276.21 1513.66 Q2282.02 1513.66 2285.07 1518.27 Q2288.15 1522.85 2288.15 1531.6 Q2288.15 1540.33 2285.07 1544.94 Q2282.02 1549.52 2276.21 1549.52 Q2270.4 1549.52 2267.32 1544.94 Q2264.26 1540.33 2264.26 1531.6 Q2264.26 1522.85 2267.32 1518.27 Q2270.4 1513.66 2276.21 1513.66 Z\" fill=\"#000000\" fill-rule=\"nonzero\" fill-opacity=\"1\" /><path clip-path=\"url(#clip850)\" d=\"M2306.37 1517.37 Q2302.76 1517.37 2300.93 1520.93 Q2299.12 1524.47 2299.12 1531.6 Q2299.12 1538.71 2300.93 1542.27 Q2302.76 1545.82 2306.37 1545.82 Q2310 1545.82 2311.81 1542.27 Q2313.64 1538.71 2313.64 1531.6 Q2313.64 1524.47 2311.81 1520.93 Q2310 1517.37 2306.37 1517.37 M2306.37 1513.66 Q2312.18 1513.66 2315.23 1518.27 Q2318.31 1522.85 2318.31 1531.6 Q2318.31 1540.33 2315.23 1544.94 Q2312.18 1549.52 2306.37 1549.52 Q2300.56 1549.52 2297.48 1544.94 Q2294.42 1540.33 2294.42 1531.6 Q2294.42 1522.85 2297.48 1518.27 Q2300.56 1513.66 2306.37 1513.66 Z\" fill=\"#000000\" fill-rule=\"nonzero\" fill-opacity=\"1\" /><polyline clip-path=\"url(#clip852)\" style=\"stroke:#000000; stroke-linecap:round; stroke-linejoin:round; stroke-width:2; stroke-opacity:0.1; fill:none\" points=\"178.867,1219.43 2352.76,1219.43 \"/>\n",
       "<polyline clip-path=\"url(#clip852)\" style=\"stroke:#000000; stroke-linecap:round; stroke-linejoin:round; stroke-width:2; stroke-opacity:0.1; fill:none\" points=\"178.867,842.276 2352.76,842.276 \"/>\n",
       "<polyline clip-path=\"url(#clip852)\" style=\"stroke:#000000; stroke-linecap:round; stroke-linejoin:round; stroke-width:2; stroke-opacity:0.1; fill:none\" points=\"178.867,465.126 2352.76,465.126 \"/>\n",
       "<polyline clip-path=\"url(#clip852)\" style=\"stroke:#000000; stroke-linecap:round; stroke-linejoin:round; stroke-width:2; stroke-opacity:0.1; fill:none\" points=\"178.867,87.9763 2352.76,87.9763 \"/>\n",
       "<polyline clip-path=\"url(#clip850)\" style=\"stroke:#000000; stroke-linecap:round; stroke-linejoin:round; stroke-width:4; stroke-opacity:1; fill:none\" points=\"178.867,1486.45 178.867,47.2441 \"/>\n",
       "<polyline clip-path=\"url(#clip850)\" style=\"stroke:#000000; stroke-linecap:round; stroke-linejoin:round; stroke-width:4; stroke-opacity:1; fill:none\" points=\"178.867,1219.43 197.764,1219.43 \"/>\n",
       "<polyline clip-path=\"url(#clip850)\" style=\"stroke:#000000; stroke-linecap:round; stroke-linejoin:round; stroke-width:4; stroke-opacity:1; fill:none\" points=\"178.867,842.276 197.764,842.276 \"/>\n",
       "<polyline clip-path=\"url(#clip850)\" style=\"stroke:#000000; stroke-linecap:round; stroke-linejoin:round; stroke-width:4; stroke-opacity:1; fill:none\" points=\"178.867,465.126 197.764,465.126 \"/>\n",
       "<polyline clip-path=\"url(#clip850)\" style=\"stroke:#000000; stroke-linecap:round; stroke-linejoin:round; stroke-width:4; stroke-opacity:1; fill:none\" points=\"178.867,87.9763 197.764,87.9763 \"/>\n",
       "<path clip-path=\"url(#clip850)\" d=\"M51.9875 1219.88 L81.6633 1219.88 L81.6633 1223.81 L51.9875 1223.81 L51.9875 1219.88 Z\" fill=\"#000000\" fill-rule=\"nonzero\" fill-opacity=\"1\" /><path clip-path=\"url(#clip850)\" d=\"M92.566 1232.77 L100.205 1232.77 L100.205 1206.41 L91.8947 1208.07 L91.8947 1203.81 L100.159 1202.15 L104.834 1202.15 L104.834 1232.77 L112.473 1232.77 L112.473 1236.71 L92.566 1236.71 L92.566 1232.77 Z\" fill=\"#000000\" fill-rule=\"nonzero\" fill-opacity=\"1\" /><path clip-path=\"url(#clip850)\" d=\"M121.964 1202.15 L140.32 1202.15 L140.32 1206.08 L126.246 1206.08 L126.246 1214.55 Q127.265 1214.21 128.283 1214.04 Q129.302 1213.86 130.32 1213.86 Q136.107 1213.86 139.487 1217.03 Q142.867 1220.2 142.867 1225.62 Q142.867 1231.2 139.394 1234.3 Q135.922 1237.38 129.603 1237.38 Q127.427 1237.38 125.158 1237.01 Q122.913 1236.64 120.506 1235.9 L120.506 1231.2 Q122.589 1232.33 124.811 1232.89 Q127.033 1233.44 129.51 1233.44 Q133.515 1233.44 135.853 1231.34 Q138.191 1229.23 138.191 1225.62 Q138.191 1222.01 135.853 1219.9 Q133.515 1217.79 129.51 1217.79 Q127.635 1217.79 125.76 1218.21 Q123.908 1218.63 121.964 1219.51 L121.964 1202.15 Z\" fill=\"#000000\" fill-rule=\"nonzero\" fill-opacity=\"1\" /><path clip-path=\"url(#clip850)\" d=\"M50.9921 842.727 L80.6679 842.727 L80.6679 846.663 L50.9921 846.663 L50.9921 842.727 Z\" fill=\"#000000\" fill-rule=\"nonzero\" fill-opacity=\"1\" /><path clip-path=\"url(#clip850)\" d=\"M91.5706 855.621 L99.2095 855.621 L99.2095 829.255 L90.8993 830.922 L90.8993 826.663 L99.1632 824.996 L103.839 824.996 L103.839 855.621 L111.478 855.621 L111.478 859.556 L91.5706 859.556 L91.5706 855.621 Z\" fill=\"#000000\" fill-rule=\"nonzero\" fill-opacity=\"1\" /><path clip-path=\"url(#clip850)\" d=\"M130.922 828.075 Q127.311 828.075 125.482 831.639 Q123.677 835.181 123.677 842.311 Q123.677 849.417 125.482 852.982 Q127.311 856.524 130.922 856.524 Q134.556 856.524 136.362 852.982 Q138.191 849.417 138.191 842.311 Q138.191 835.181 136.362 831.639 Q134.556 828.075 130.922 828.075 M130.922 824.371 Q136.732 824.371 139.788 828.977 Q142.867 833.561 142.867 842.311 Q142.867 851.037 139.788 855.644 Q136.732 860.227 130.922 860.227 Q125.112 860.227 122.033 855.644 Q118.978 851.037 118.978 842.311 Q118.978 833.561 122.033 828.977 Q125.112 824.371 130.922 824.371 Z\" fill=\"#000000\" fill-rule=\"nonzero\" fill-opacity=\"1\" /><path clip-path=\"url(#clip850)\" d=\"M82.1494 465.578 L111.825 465.578 L111.825 469.513 L82.1494 469.513 L82.1494 465.578 Z\" fill=\"#000000\" fill-rule=\"nonzero\" fill-opacity=\"1\" /><path clip-path=\"url(#clip850)\" d=\"M121.964 447.846 L140.32 447.846 L140.32 451.781 L126.246 451.781 L126.246 460.253 Q127.265 459.906 128.283 459.744 Q129.302 459.559 130.32 459.559 Q136.107 459.559 139.487 462.73 Q142.867 465.902 142.867 471.318 Q142.867 476.897 139.394 479.999 Q135.922 483.077 129.603 483.077 Q127.427 483.077 125.158 482.707 Q122.913 482.337 120.506 481.596 L120.506 476.897 Q122.589 478.031 124.811 478.587 Q127.033 479.142 129.51 479.142 Q133.515 479.142 135.853 477.036 Q138.191 474.929 138.191 471.318 Q138.191 467.707 135.853 465.601 Q133.515 463.494 129.51 463.494 Q127.635 463.494 125.76 463.911 Q123.908 464.328 121.964 465.207 L121.964 447.846 Z\" fill=\"#000000\" fill-rule=\"nonzero\" fill-opacity=\"1\" /><path clip-path=\"url(#clip850)\" d=\"M130.922 73.775 Q127.311 73.775 125.482 77.3398 Q123.677 80.8814 123.677 88.011 Q123.677 95.1174 125.482 98.6822 Q127.311 102.224 130.922 102.224 Q134.556 102.224 136.362 98.6822 Q138.191 95.1174 138.191 88.011 Q138.191 80.8814 136.362 77.3398 Q134.556 73.775 130.922 73.775 M130.922 70.0713 Q136.732 70.0713 139.788 74.6777 Q142.867 79.261 142.867 88.011 Q142.867 96.7378 139.788 101.344 Q136.732 105.928 130.922 105.928 Q125.112 105.928 122.033 101.344 Q118.978 96.7378 118.978 88.011 Q118.978 79.261 122.033 74.6777 Q125.112 70.0713 130.922 70.0713 Z\" fill=\"#000000\" fill-rule=\"nonzero\" fill-opacity=\"1\" /><polyline clip-path=\"url(#clip852)\" style=\"stroke:#009af9; stroke-linecap:round; stroke-linejoin:round; stroke-width:4; stroke-opacity:1; fill:none\" points=\"2291.23,1445.72 2291.23,1370.29 2290.42,1294.86 2289.61,1219.43 2281.48,1144 2273.34,1068.57 2272.53,993.136 2263.59,917.706 2254.65,842.276 2245.7,766.846 2228.63,691.416 2210.74,615.986 2192.86,540.556 2163.12,465.126 2116.12,389.696 2016.19,314.266 1817.94,238.836 1323.44,163.406 240.392,87.9763 \"/>\n",
       "<path clip-path=\"url(#clip850)\" d=\"M251.33 1438.47 L634.69 1438.47 L634.69 1334.79 L251.33 1334.79  Z\" fill=\"#ffffff\" fill-rule=\"evenodd\" fill-opacity=\"1\"/>\n",
       "<polyline clip-path=\"url(#clip850)\" style=\"stroke:#000000; stroke-linecap:round; stroke-linejoin:round; stroke-width:4; stroke-opacity:1; fill:none\" points=\"251.33,1438.47 634.69,1438.47 634.69,1334.79 251.33,1334.79 251.33,1438.47 \"/>\n",
       "<polyline clip-path=\"url(#clip850)\" style=\"stroke:#009af9; stroke-linecap:round; stroke-linejoin:round; stroke-width:4; stroke-opacity:1; fill:none\" points=\"275.484,1386.63 420.41,1386.63 \"/>\n",
       "<path clip-path=\"url(#clip850)\" d=\"M462.99 1378.75 L462.99 1382.78 Q461.184 1381.85 459.24 1381.39 Q457.296 1380.93 455.212 1380.93 Q452.041 1380.93 450.444 1381.9 Q448.87 1382.87 448.87 1384.82 Q448.87 1386.3 450.004 1387.16 Q451.138 1387.99 454.564 1388.75 L456.022 1389.08 Q460.559 1390.05 462.458 1391.83 Q464.379 1393.59 464.379 1396.76 Q464.379 1400.37 461.509 1402.48 Q458.661 1404.59 453.661 1404.59 Q451.578 1404.59 449.31 1404.17 Q447.064 1403.78 444.564 1402.97 L444.564 1398.57 Q446.925 1399.79 449.217 1400.42 Q451.509 1401.02 453.754 1401.02 Q456.763 1401.02 458.384 1400 Q460.004 1398.96 460.004 1397.09 Q460.004 1395.35 458.823 1394.42 Q457.666 1393.5 453.708 1392.64 L452.226 1392.29 Q448.268 1391.46 446.509 1389.75 Q444.749 1388.01 444.749 1385 Q444.749 1381.35 447.342 1379.35 Q449.935 1377.36 454.703 1377.36 Q457.064 1377.36 459.147 1377.71 Q461.231 1378.06 462.99 1378.75 Z\" fill=\"#000000\" fill-rule=\"nonzero\" fill-opacity=\"1\" /><path clip-path=\"url(#clip850)\" d=\"M482.944 1390.88 Q477.782 1390.88 475.791 1392.06 Q473.8 1393.24 473.8 1396.09 Q473.8 1398.36 475.282 1399.7 Q476.786 1401.02 479.356 1401.02 Q482.897 1401.02 485.027 1398.52 Q487.18 1396 487.18 1391.83 L487.18 1390.88 L482.944 1390.88 M491.439 1389.12 L491.439 1403.91 L487.18 1403.91 L487.18 1399.98 Q485.721 1402.34 483.545 1403.47 Q481.37 1404.59 478.221 1404.59 Q474.24 1404.59 471.879 1402.36 Q469.541 1400.12 469.541 1396.37 Q469.541 1391.99 472.458 1389.77 Q475.397 1387.55 481.208 1387.55 L487.18 1387.55 L487.18 1387.13 Q487.18 1384.19 485.235 1382.6 Q483.314 1380.97 479.819 1380.97 Q477.596 1380.97 475.49 1381.51 Q473.384 1382.04 471.439 1383.1 L471.439 1379.17 Q473.777 1378.27 475.976 1377.83 Q478.175 1377.36 480.258 1377.36 Q485.883 1377.36 488.661 1380.28 Q491.439 1383.2 491.439 1389.12 Z\" fill=\"#000000\" fill-rule=\"nonzero\" fill-opacity=\"1\" /><path clip-path=\"url(#clip850)\" d=\"M500.212 1367.9 L504.471 1367.9 L504.471 1403.91 L500.212 1403.91 L500.212 1367.9 Z\" fill=\"#000000\" fill-rule=\"nonzero\" fill-opacity=\"1\" /><path clip-path=\"url(#clip850)\" d=\"M513.383 1377.99 L517.643 1377.99 L517.643 1403.91 L513.383 1403.91 L513.383 1377.99 M513.383 1367.9 L517.643 1367.9 L517.643 1373.29 L513.383 1373.29 L513.383 1367.9 Z\" fill=\"#000000\" fill-rule=\"nonzero\" fill-opacity=\"1\" /><path clip-path=\"url(#clip850)\" d=\"M548.105 1388.27 L548.105 1403.91 L543.846 1403.91 L543.846 1388.41 Q543.846 1384.72 542.411 1382.9 Q540.976 1381.07 538.105 1381.07 Q534.656 1381.07 532.666 1383.27 Q530.675 1385.47 530.675 1389.26 L530.675 1403.91 L526.392 1403.91 L526.392 1377.99 L530.675 1377.99 L530.675 1382.02 Q532.203 1379.68 534.263 1378.52 Q536.346 1377.36 539.054 1377.36 Q543.522 1377.36 545.814 1380.14 Q548.105 1382.9 548.105 1388.27 Z\" fill=\"#000000\" fill-rule=\"nonzero\" fill-opacity=\"1\" /><path clip-path=\"url(#clip850)\" d=\"M556.601 1377.99 L560.86 1377.99 L560.86 1403.91 L556.601 1403.91 L556.601 1377.99 M556.601 1367.9 L560.86 1367.9 L560.86 1373.29 L556.601 1373.29 L556.601 1367.9 Z\" fill=\"#000000\" fill-rule=\"nonzero\" fill-opacity=\"1\" /><path clip-path=\"url(#clip850)\" d=\"M573.985 1370.63 L573.985 1377.99 L582.758 1377.99 L582.758 1381.3 L573.985 1381.3 L573.985 1395.37 Q573.985 1398.54 574.841 1399.45 Q575.721 1400.35 578.383 1400.35 L582.758 1400.35 L582.758 1403.91 L578.383 1403.91 Q573.452 1403.91 571.577 1402.09 Q569.702 1400.23 569.702 1395.37 L569.702 1381.3 L566.577 1381.3 L566.577 1377.99 L569.702 1377.99 L569.702 1370.63 L573.985 1370.63 Z\" fill=\"#000000\" fill-rule=\"nonzero\" fill-opacity=\"1\" /><path clip-path=\"url(#clip850)\" d=\"M599.147 1406.32 Q597.341 1410.95 595.628 1412.36 Q593.915 1413.78 591.045 1413.78 L587.642 1413.78 L587.642 1410.21 L590.142 1410.21 Q591.901 1410.21 592.874 1409.38 Q593.846 1408.54 595.026 1405.44 L595.79 1403.5 L585.304 1377.99 L589.818 1377.99 L597.92 1398.27 L606.022 1377.99 L610.536 1377.99 L599.147 1406.32 Z\" fill=\"#000000\" fill-rule=\"nonzero\" fill-opacity=\"1\" /></svg>\n"
      ]
     },
     "metadata": {},
     "output_type": "display_data"
    }
   ],
   "source": [
    "# plot a profile \n",
    "xp=4.0\n",
    "yp=52.0\n",
    "tp=2*3600.0\n",
    "z_points=collect(-18.0:1.0:0.0)\n",
    "s_profile = [s(xp,yp,z,tp) for z in z_points] # salinity\n",
    "\n",
    "plot(s_profile,z_points,label=\"salinity\")"
   ]
  },
  {
   "cell_type": "code",
   "execution_count": 26,
   "metadata": {},
   "outputs": [],
   "source": [
    "x=Zarr_data.file.arrays[\"x_center\"][:]\n",
    "y=Zarr_data.file.arrays[\"y_center\"][:]\n",
    "\n",
    "# direct plot of surface salinity at first time step - faster and nicer\n",
    "anim = @animate for t in range(1, stop = 31, step = 3)\n",
    "    s0=Zarr_data.file.arrays[\"salinity\"][:,:,46,t] #999 x 499 x 46 x 181\n",
    "    s0_scaled=0.01*s0\n",
    "    s0_scaled[s0 .> 9990].=NaN\n",
    "    heatmap!(x,y,s0_scaled',aspect_ratio=:equal,clim=(0,40),color=:viridis)\n",
    "end\n",
    "gif(anim, \"./temp/surface_salinity.gif\", fps = 3)\n"
   ]
  },
  {
   "cell_type": "code",
   "execution_count": null,
   "metadata": {},
   "outputs": [],
   "source": []
  },
  {
   "cell_type": "code",
   "execution_count": null,
   "metadata": {},
   "outputs": [],
   "source": [
    "# direct plot of surface salinity at first time step - faster and nicer\n",
    "\n",
    "h0=Zarr_data.file.arrays[\"waterlevel\"] #999 x 499 x 46 x 181\n",
    "# s0_scaled=0.01*s0\n",
    "# s0_scaled[s0 .> 9990].=NaN\n",
    "# x=Zarr_data.file.arrays[\"x_center\"][:]\n",
    "# y=Zarr_data.file.arrays[\"y_center\"][:]\n",
    "\n",
    "# heatmap(x,y,s0_scaled',aspect_ratio=:equal,clim=(0,40),color=:viridis)"
   ]
  },
  {
   "cell_type": "code",
   "execution_count": null,
   "metadata": {},
   "outputs": [],
   "source": []
  }
 ],
 "metadata": {
  "kernelspec": {
   "display_name": "Julia 1.9.2",
   "language": "julia",
   "name": "julia-1.9"
  },
  "language_info": {
   "file_extension": ".jl",
   "mimetype": "application/julia",
   "name": "julia",
   "version": "1.9.2"
  },
  "orig_nbformat": 4,
  "vscode": {
   "interpreter": {
    "hash": "916dbcbb3f70747c44a77c7bcd40155683ae19c65e1c03b4aa3499c5328201f1"
   }
  }
 },
 "nbformat": 4,
 "nbformat_minor": 2
}
