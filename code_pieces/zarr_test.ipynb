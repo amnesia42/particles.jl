{
 "cells": [
  {
   "cell_type": "markdown",
   "metadata": {},
   "source": [
    "# Convert delft3dfm output to zarr format\n"
   ]
  },
  {
   "cell_type": "code",
   "execution_count": null,
   "metadata": {},
   "outputs": [],
   "source": [
    "import xarray as xr \n",
    "import numpy as np \n",
    "import matplotlib.pyplot as plt \n",
    "import zarr"
   ]
  },
  {
   "cell_type": "code",
   "execution_count": null,
   "metadata": {},
   "outputs": [],
   "source": [
    "import xarray as xr\n",
    "inp=xr.open_dataset(\"../test_data/locxxz_his.nc\")\n",
    "# open converted dataset\n",
    "#out=xr.open_dataset(\"../locxxz_his.zarr\",engine=zarr)    #using xarray\n",
    "out=xr.open_zarr(\"../locxxz_his.zarr\",consolidated=True) #using zarr directly\n"
   ]
  },
  {
   "cell_type": "code",
   "execution_count": null,
   "metadata": {},
   "outputs": [],
   "source": [
    "import matplotlib.pyplot as plt\n",
    "import numpy as np\n",
    "plt.plot(out.time,out.waterlevel[:,0])"
   ]
  },
  {
   "cell_type": "code",
   "execution_count": null,
   "metadata": {},
   "outputs": [],
   "source": [
    "import xarray as xr\n",
    "import zarr\n",
    "zfile=xr.open_zarr(\"../locxxz_map.zarr\")\n",
    "zfile"
   ]
  },
  {
   "cell_type": "code",
   "execution_count": null,
   "metadata": {},
   "outputs": [],
   "source": [
    "import xarray as xr\n",
    "import zarr\n",
    "inp=xr.open_dataset(\"../test_data/locxxz_his.nc\")\n",
    "#inp.to_zarr(\"../locxxz_his_xr.zarr\",mode=\"w\")"
   ]
  },
  {
   "cell_type": "code",
   "execution_count": null,
   "metadata": {},
   "outputs": [],
   "source": [
    "out\n"
   ]
  },
  {
   "cell_type": "code",
   "execution_count": null,
   "metadata": {},
   "outputs": [],
   "source": [
    "#ex2=xr.open_dataset(\"example2.zarr\",engine=\"zarr\",consolidated=False)\n",
    "ex2=zarr.open_group(\"example2.zarr\")\n",
    "print(ex2[\"var1_int\"])\n",
    "for ff in ex2:\n",
    "   print(ff)\n",
    "fff=[key for key in ex2.keys()]\n",
    "fff\n",
    "ex2.var2_float.attrs[\"attribute\"]"
   ]
  },
  {
   "cell_type": "code",
   "execution_count": null,
   "metadata": {},
   "outputs": [],
   "source": [
    "import zarr\n",
    "ex3=zarr.open_group(\"../locxxz_his.zarr\")\n",
    "for ff in ex3:\n",
    "   print(ff)\n",
    "ex4=zarr.open_group(\"../locxxz_his_xr.zarr\") #converted using xarray to reverse-engineer added atts\n",
    "ex3"
   ]
  },
  {
   "cell_type": "code",
   "execution_count": null,
   "metadata": {},
   "outputs": [],
   "source": [
    "ex3.time[:]\n",
    "ex3.waterlevel[:,:]\n",
    "ex3.station_y_coordinate[:]\n",
    "#ex3.station_name[:]\n",
    "ex3.salinity[:,:,:]\n",
    "ex3.zcoordinate_c[:,:,:]"
   ]
  },
  {
   "cell_type": "code",
   "execution_count": null,
   "metadata": {},
   "outputs": [],
   "source": [
    "print(dict(ex3.waterlevel.attrs))\n",
    "print(dict(ex4.waterlevel.attrs))\n",
    "\n",
    "print(dict(ex3.salinity.attrs))\n",
    "print(dict(ex4.salinity.attrs))\n",
    "\n",
    "print(dict(ex3.zcoordinate_c.attrs))\n",
    "print(dict(ex4.zcoordinate_c.attrs))\n"
   ]
  },
  {
   "cell_type": "code",
   "execution_count": null,
   "metadata": {},
   "outputs": [],
   "source": [
    "ex3"
   ]
  },
  {
   "cell_type": "code",
   "execution_count": null,
   "metadata": {},
   "outputs": [],
   "source": [
    "# remote data from nextcloud\n",
    "import zarr"
   ]
  },
  {
   "cell_type": "code",
   "execution_count": null,
   "metadata": {},
   "outputs": [],
   "source": [
    "# Note: open_consolidated will read the .zmetadata file instead of trying to read the directory, \n",
    "# which  will fail over https\n",
    "his=zarr.open_consolidated(\"https://nx7384.your-storageshare.de/apps/sharingpath/wetwin/public/zunormm/ZUNO_his.zarr\")\n",
    "print(his.info)"
   ]
  },
  {
   "cell_type": "code",
   "execution_count": null,
   "metadata": {},
   "outputs": [],
   "source": [
    "#\n",
    "import xarray as xr"
   ]
  },
  {
   "cell_type": "code",
   "execution_count": null,
   "metadata": {},
   "outputs": [],
   "source": [
    "xhis=xr.open_zarr(\"https://nx7384.your-storageshare.de/apps/sharingpath/wetwin/public/zunormm/ZUNO_his.zarr\",consolidated=True)\n",
    "xhis"
   ]
  },
  {
   "cell_type": "code",
   "execution_count": null,
   "metadata": {},
   "outputs": [],
   "source": [
    "iloc=0\n",
    "time=his.time[:]\n",
    "sal=his.salinity[:,iloc,:]\n",
    "zloc=his.zcoordinate_c[:,iloc,:]"
   ]
  },
  {
   "cell_type": "code",
   "execution_count": null,
   "metadata": {},
   "outputs": [],
   "source": [
    "zloc"
   ]
  },
  {
   "cell_type": "code",
   "execution_count": null,
   "metadata": {},
   "outputs": [],
   "source": [
    "plt.pcolor(time,his.zcoordinate_c.attrs[\"scale_factor\"]*zloc[0,:],his.salinity.attrs[\"scale_factor\"]*sal.transpose())\n",
    "plt.colorbar()"
   ]
  },
  {
   "cell_type": "code",
   "execution_count": null,
   "metadata": {},
   "outputs": [],
   "source": [
    "plrintln(plt.pcolor.__doc__)"
   ]
  },
  {
   "cell_type": "code",
   "execution_count": null,
   "metadata": {},
   "outputs": [],
   "source": [
    "import xarray as xr\n",
    "import zarr\n",
    "#inp=xr.open_zarr(\"../estuary_map.zarr\") #,consolidated=True)\n",
    "inp=xr.open_zarr(\"../locxx_his.zarr\",consolidated=True) \n",
    "inp\n"
   ]
  },
  {
   "cell_type": "code",
   "execution_count": null,
   "metadata": {},
   "outputs": [],
   "source": [
    "!ls ..\n"
   ]
  },
  {
   "cell_type": "code",
   "execution_count": null,
   "metadata": {},
   "outputs": [],
   "source": []
  }
 ],
 "metadata": {
  "interpreter": {
   "hash": "52a89f5df91fad0984dd77466e275ad1bbd3f3c0a21d3287ac9d08473a9fd829"
  },
  "kernelspec": {
   "display_name": "Python 3.9.12 64-bit ('base': conda)",
   "name": "python3"
  },
  "language_info": {
   "codemirror_mode": {
    "name": "ipython",
    "version": 3
   },
   "file_extension": ".py",
   "mimetype": "text/x-python",
   "name": "python",
   "nbconvert_exporter": "python",
   "pygments_lexer": "ipython3",
   "version": "3.9.12"
  },
  "orig_nbformat": 4
 },
 "nbformat": 4,
 "nbformat_minor": 2
}
