{
 "cells": [
  {
   "cell_type": "markdown",
   "metadata": {},
   "source": [
    "# Loop flow example\n",
    "\n",
    "This is a test case with particles released in a simple looping flow field\n",
    "The mfunction is given by \n",
    "\n",
    "$s=sin(\\pi*x)*sin(\\pi*y)$\n",
    "\n",
    "The domain is $x \\in [0,1], y \\in [0,1]$"
   ]
  },
  {
   "cell_type": "code",
   "execution_count": null,
   "metadata": {},
   "outputs": [],
   "source": [
    "# Load required libraries\n",
    "using Pkg\n",
    "Pkg.instantiate()\n",
    "Pkg.activate(\"..\")\n",
    "using Particles\n",
    "using Plots\n",
    "using Random\n",
    "\n",
    "randpool = MersenneTwister(0) #Generate same random numbers every time\n",
    "\n",
    "nothing"
   ]
  },
  {
   "cell_type": "code",
   "execution_count": null,
   "metadata": {},
   "outputs": [],
   "source": [
    "# Load default settings and adjust\n",
    "\n",
    "# collected configuration is in Dict d\n",
    "d = default_userdata() # start with some defaults\n",
    "# settings for this experiment\n",
    "n = 30 # number of particles\n",
    "d[\"nparticles\"] = n\n",
    "# all variables for one particle are collected in a vector\n",
    "variables = [\"x\", \"y\", \"z\", \"age\"]\n",
    "d[\"variables\"] = variables\n",
    "# initial position of the particles\n",
    "m = length(variables)\n",
    "p = zeros(m, n)\n",
    "p[1, :] = 0.2 .+ 0.02 * randn(randpool, n, 1) # particles are spawned roughly at (0.2,0.2)\n",
    "p[2, :] = 0.2 .+ 0.02 * randn(randpool, n, 1)\n",
    "d[\"particles\"] = p # initial values\n",
    "# simulation time\n",
    "d[\"dt\"] = 0.01     #time-step\n",
    "d[\"tstart\"] = 0.0 \n",
    "d[\"tend\"] = 2.5\n",
    "# write to netcdf\n",
    "d[\"write_maps_times\"] = collect(0.0:0.1:2.5)\n",
    "d[\"write_maps\"] = false #do not write to netcdf\n",
    "d[\"write_maps_filename\"] = \"output_loop.nc\"\n",
    "# write plots to file\n",
    "d[\"plot_maps_times\"] = collect(0.0:0.5:2.5)\n",
    "d[\"plot_maps\"] = false # do not make png figures\n",
    "d[\"plot_maps_size\"]=(600,400)\n",
    "\n",
    "# keep some output in memory\n",
    "d[\"keep_particles\"] = true #keep results in memory (bad idea for a large run)\n",
    "d[\"keep_particle_times\"] = collect(0.0:0.1:2.5)\n",
    "\n",
    "d #show configuration"
   ]
  },
  {
   "cell_type": "code",
   "execution_count": null,
   "metadata": {},
   "outputs": [],
   "source": [
    "# Define the flow field\n",
    "\n",
    "# sign difference from stream function to velocity\n",
    "\n",
    "# forcing currents stream (used only for plotting here) , u and v\n",
    "function stream(x, y, z, t)\n",
    "    sin(pi * x) * sin(pi * y)\n",
    "end\n",
    "# flow in x direction (for now has to be called u)\n",
    "function u(x, y, z, t)\n",
    "   # u=-s_y\n",
    "    -sin(pi * x) * cos(pi * y)\n",
    "end\n",
    "\n",
    "# flow in y direction (for now has to be called v)\n",
    "function v(x, y, z, t)\n",
    "   # v=s_x\n",
    "    cos(pi * x) * sin(pi * y)\n",
    "end\n",
    "\n",
    "nothing"
   ]
  },
  {
   "cell_type": "code",
   "execution_count": null,
   "metadata": {},
   "outputs": [],
   "source": [
    "#plot flow field\n",
    "\n",
    "#grid for plotting\n",
    "mygrid=0:0.05:1.0\n",
    "n=length(mygrid)\n",
    "xs=kron(mygrid,ones(n))\n",
    "ys=kron(ones(n),mygrid)\n",
    "\n",
    "Plots.default(:size, d[\"plot_maps_size\"])\n",
    "scale=0.1\n",
    "quiver(xs,ys,quiver=(scale*u.(xs,ys,0.0,0.0),scale*v.(xs,ys,0.0,0.0)))"
   ]
  },
  {
   "cell_type": "code",
   "execution_count": null,
   "metadata": {},
   "outputs": [],
   "source": [
    "# Here is the equation that we want to solve for the particles\n",
    "\n",
    "\"\"\"\n",
    "   !f(ds,s,t,i,d)\n",
    "\n",
    "Dynamic model, computes time derivative ds of s at current time t\n",
    "for particle i and possibly using data/functions from d of type userdata.\n",
    "\"\"\"\n",
    "function f!(∂s, s, t, i, d)\n",
    "   x, y, z, age = s\n",
    "   # dx/dt=u\n",
    "    ∂s.x = u(x, y, z, t)\n",
    "   # dy/dt=v\n",
    "    ∂s.y = v(x, y, z, t)\n",
    "   # dz/dt=0\n",
    "    ∂s.z = 0.0\n",
    "   # age=(t-t0)\n",
    "    ∂s.t = 1.0\n",
    "end\n",
    "d[\"f\"] = f!"
   ]
  },
  {
   "cell_type": "code",
   "execution_count": null,
   "metadata": {},
   "outputs": [],
   "source": [
    "# use streamfunction as background for plotting\n",
    "\n",
    "function plot_background(d)\n",
    "    # streamfunction for plot\n",
    "     x1 = 0.0:0.01:1.0\n",
    "     y1 = 0.0:0.01:1.0\n",
    "     flow = zeros(length(x1), length(y1))\n",
    "     for i = 1:length(x1)\n",
    "         for j = 1:length(y1)\n",
    "             flow[i,j] = stream(x1[i], y1[j], 0.0, 0.0)\n",
    "         end\n",
    "     end\n",
    "     f = contour(x1, y1, flow', legend=false)\n",
    "     return(f)\n",
    " end\n",
    " d[\"plot_maps_background\"] = plot_background\n",
    " "
   ]
  },
  {
   "cell_type": "code",
   "execution_count": null,
   "metadata": {},
   "outputs": [],
   "source": [
    "#run the actual particle model\n",
    "\n",
    "@time run_simulation(d)"
   ]
  },
  {
   "cell_type": "code",
   "execution_count": null,
   "metadata": {},
   "outputs": [],
   "source": [
    "d[\"plot_maps_func\"]"
   ]
  },
  {
   "cell_type": "code",
   "execution_count": null,
   "metadata": {},
   "outputs": [],
   "source": [
    "t_all=d[\"keep_particle_times\"]\n",
    "fig2 = d[\"plot_maps_background\"](d)\n",
    "# scatter!(fig1,p[1,:],p[2,:],legend=false)\n",
    "for i in 1:3:length(t_all)\n",
    "    p_temp=d[\"all_particles\"]\n",
    "    d[\"plot_maps_func\"](fig2, d, p_temp[i])\n",
    "end\n",
    "display(fig2)"
   ]
  },
  {
   "cell_type": "code",
   "execution_count": null,
   "metadata": {},
   "outputs": [],
   "source": []
  }
 ],
 "metadata": {
  "kernelspec": {
   "display_name": "Julia 1.6.3",
   "language": "julia",
   "name": "julia-1.6"
  },
  "language_info": {
   "file_extension": ".jl",
   "mimetype": "application/julia",
   "name": "julia",
   "version": "1.6.3"
  },
  "orig_nbformat": 4
 },
 "nbformat": 4,
 "nbformat_minor": 2
}
