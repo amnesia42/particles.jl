{
 "cells": [
  {
   "cell_type": "markdown",
   "metadata": {},
   "source": [
    "# Loop flow example - Refer to Nelleka's work\n",
    "This is a test case with particles released in a simple looping flow field \n",
    "The background flow velocity is given by \n",
    "\n",
    "$u=-sin(b*x)*sin(b*y),\\ b=2pi/L$\n",
    "$v=cos(a*x)*sin(a*y), a=pi/H$\n",
    "\n",
    "The domain is $H \\in [0,50], L \\in [0,100]$"
   ]
  },
  {
   "cell_type": "code",
   "execution_count": 1,
   "metadata": {},
   "outputs": [
    {
     "name": "stderr",
     "output_type": "stream",
     "text": [
      "\u001b[32m\u001b[1m  Activating\u001b[22m\u001b[39m project at `d:\\Projects\\particles.jl`\n"
     ]
    }
   ],
   "source": [
    "# Load required libraries\n",
    "using Pkg\n",
    "Pkg.instantiate()\n",
    "Pkg.activate(\"..\")\n",
    "using Particles\n",
    "using Plots\n",
    "using Random\n",
    "\n",
    "randpool = MersenneTwister(0) #Generate same random numbers every time\n",
    "\n",
    "nothing"
   ]
  },
  {
   "cell_type": "code",
   "execution_count": 6,
   "metadata": {},
   "outputs": [],
   "source": [
    "# Define the flow field\n",
    "H=50\n",
    "L=2*H # divergence-free condition\n",
    "a=pi/H\n",
    "b=2*pi/L\n",
    "\n",
    "# sign difference from stream function to velocity\n",
    "\n",
    "# forcing currents stream (used only for plotting here) , u and v\n",
    "# flow in x direction (for now has to be called u)\n",
    "function u(x, y, z, t)\n",
    "    -sin(b * x) * cos(b * y)\n",
    "end\n",
    "\n",
    "# flow in y direction (for now has to be called v)\n",
    "function v(x, y, z, t)\n",
    "    cos(a* x) * sin(a * y)\n",
    "end\n",
    "\n",
    "nothing"
   ]
  },
  {
   "cell_type": "code",
   "execution_count": 7,
   "metadata": {},
   "outputs": [
    {
     "data": {
      "text/plain": [
       "init_setup (generic function with 1 method)"
      ]
     },
     "metadata": {},
     "output_type": "display_data"
    }
   ],
   "source": [
    "function init_setup(d::AbstractDict)\n",
    "    # Load default settings and adjust\n",
    "    # collected configuration is in Dict d\n",
    "    d[\"rng\"] = randpool\n",
    "    # settings for this experiment\n",
    "    n = 15 # number of particles\n",
    "    d[\"nparticles\"] = n\n",
    "    d[\"nparticles_bound\"] = n\n",
    "    # all variables for one particle are collected in a vector\n",
    "    variables = [\"x\", \"y\", \"z\", \"age\"]\n",
    "    d[\"variables\"] = variables\n",
    "    # initial position of the particles\n",
    "    m = length(variables)\n",
    "    p = zeros(m, n)\n",
    "    p[1, :] += 50 .+ 1 * randn(randpool, n, 1) # particles are spawned roughly at the center of the graph\n",
    "    p[2, :] += 25 .+ 1 * randn(randpool, n, 1)\n",
    "    d[\"particles\"] = p # initial values\n",
    "    display(d[\"particles\"])\n",
    "\n",
    "    t = zeros(2,2)\n",
    "    t[1,:] .-= 1\n",
    "    t[2,:] .+= 2\n",
    "    d[\"temp\"] = t\n",
    "    display(d[\"temp\"])\n",
    "\n",
    "    # simulation time\n",
    "    d[\"dt\"] = 0.05     #time-step\n",
    "    d[\"tstart\"] = 0.0 \n",
    "    d[\"tend\"] = 150\n",
    "    # write to netcdf\n",
    "    d[\"write_maps_times\"] = collect(d[\"tstart\"]:d[\"dt\"]:d[\"tend\"])\n",
    "    d[\"write_maps\"] = false #do not write to netcdf\n",
    "    d[\"write_maps_filename\"] = \"output_loop.nc\"\n",
    "    # write plots to file\n",
    "    d[\"plot_maps_times\"] = collect(d[\"tstart\"]:d[\"dt\"]:d[\"tend\"])\n",
    "    d[\"plot_maps\"] = false # do not make png figures\n",
    "    d[\"plot_maps_size\"]=(600,300)\n",
    "\n",
    "    # keep some output in memory\n",
    "    d[\"keep_particles\"] = true #keep results in memory (bad idea for a large run)\n",
    "    d[\"keep_particle_times\"] = collect(d[\"tstart\"]:20*d[\"dt\"]:d[\"tend\"])\n",
    "\n",
    "    #d[\"particles\"] = zeros(length(variables), d[\"nparticles_bound\"])\n",
    "    d[\"is_particles_active\"] = falses(d[\"nparticles_bound\"],)\n",
    "    d[\"is_keep_these_particles\"] = trues(d[\"nparticles_bound\"],)\n",
    "    \n",
    "    # the following options are to be added in the default_userdata() function\n",
    "    # if to apply the algorithm to prevent the algorithm from crossing the boundary or not\n",
    "    d[\"is_cross_bc\"] = false # if added, the algorithm will terminate once the particle is out of the boundary\n",
    "    d[\"is_apply_cross_bc_test\"] = false # if applied, only one particle is used and all virtual trajectories are also recorded\n",
    "    if d[\"is_apply_cross_bc_test\"]\n",
    "        d[\"the_virtual_trajectory\"] = d[\"particles\"]\n",
    "    end\n",
    "    # to be added according to the actual problem\n",
    "    d[\"isactive_particles\"] = trues(d[\"nparticles_bound\"],) # check if particles move out of the is_particle_in_domain\n",
    "    d[\"recursion_depth\"] = 10\n",
    "    \n",
    "    # to be added according to the actual problem\n",
    "    function is_particle_in_domain(x)\n",
    "        return true, false # true-->is_next_inside_domain, false-->is_apply_reflection\n",
    "    end\n",
    "    d[\"is_particle_in_domain\"] = is_particle_in_domain\n",
    "    \n",
    "    # magnitude of the diffusion profile\n",
    "    # set figname\n",
    "    #figbkg=\"single_particle_test_result\\\\bkg_K=$(K_MAG).png\"\n",
    "    #figname=\"single_particle_test_result\\\\selected_results\\\\sprt_K=$(K_MAG).png\"\n",
    "    \n",
    "    # function to implement void IC and forcing conditions: fixed number of particles\n",
    "    d[\"first_active_index\"] = 1\n",
    "    d[\"first_inactive_index\"] = d[\"nparticles_bound\"] + 1\n",
    "    \n",
    "\n",
    "    # code for \n",
    "    function initialize_particles(d,p)\n",
    "        return  p\n",
    "    end\n",
    "    d[\"initialize_particles\"] = initialize_particles\n",
    "    \n",
    "    function release_particles(d,p,t)\n",
    "        return p\n",
    "    end\n",
    "    d[\"release_particles\"] = release_particles\n",
    "\n",
    "    return d #show configuration\n",
    "end"
   ]
  },
  {
   "cell_type": "code",
   "execution_count": 19,
   "metadata": {},
   "outputs": [
    {
     "data": {
      "text/plain": [
       "\"d:\\\\Projects\\\\particles.jl\\\\example_notebooks\\\\vortex\\\\eps1\\\\vortex.png\""
      ]
     },
     "metadata": {},
     "output_type": "display_data"
    }
   ],
   "source": [
    "#plot flow field\n",
    "#grid for plotting\n",
    "x = 0:5:100\n",
    "y = 0:5:50\n",
    "xs=kron(x,ones(length(y)))\n",
    "ys=kron(ones(length(x)),y)\n",
    "Plots.default(:size, (600,300))\n",
    "scale = 5\n",
    "u_plot = zeros(length(x)*length(y))\n",
    "v_plot = zeros(length(x)*length(y))\n",
    "for i = 1:length(x)\n",
    "    for j = 1:length(y)\n",
    "        u_plot[(i-1)*length(y)+j] = u(x[i], y[j], 0.0, 0.0)\n",
    "        v_plot[(i-1)*length(y)+j] = v(x[i], y[j], 0.0, 0.0)\n",
    "    end\n",
    "end\n",
    "quiver(xs,ys,quiver=(scale*u_plot,scale*v_plot))\n",
    "#savefig(\".\\\\vortex\\\\eps1\\\\vortex.png\")"
   ]
  },
  {
   "cell_type": "code",
   "execution_count": 9,
   "metadata": {},
   "outputs": [
    {
     "data": {
      "text/plain": [
       "g!"
      ]
     },
     "metadata": {},
     "output_type": "display_data"
    }
   ],
   "source": [
    "# Here is the equation that we want to solve for the particles\n",
    "\n",
    "\"\"\"\n",
    "   !f(ds,s,t,i,d)\n",
    "\n",
    "Dynamic model, computes time derivative ds of s at current time t\n",
    "for particle i and possibly using data/functions from d of type userdata.\n",
    "\"\"\"\n",
    "function f!(∂s, s, t, i, d)\n",
    "   x, y, z, age = s\n",
    "   # dx/dt=u\n",
    "    ∂s.x = u(x, y, z, t)\n",
    "   # dy/dt=v\n",
    "    ∂s.y = v(x, y, z, t)\n",
    "   # dz/dt=0\n",
    "    ∂s.z = 0.0\n",
    "   # age=(t-t0)\n",
    "    ∂s.t = 1.0\n",
    "end\n",
    "#d[\"f\"] = f!\n",
    "# Here is the equation that we want to solve for the particles\n",
    "\n",
    "\"\"\"\n",
    "   g!(ds,s,t,i,d)\n",
    "\n",
    "Dynamic model, computes time derivative ds of s at current time t\n",
    "for particle i and possibly using data/functions from d of type userdata.\n",
    "\"\"\"\n",
    "function g!(∂s, s, t, i, d)\n",
    "   x, y, z, age = s\n",
    "   # dx/dt=u\n",
    "    ∂s.x = 0.0\n",
    "   # dy/dt=v\n",
    "    ∂s.y = 0.0\n",
    "   # dz/dt=0\n",
    "    ∂s.z = 0.0\n",
    "   # age=(t-t0)\n",
    "    ∂s.t = 0.0\n",
    "end"
   ]
  },
  {
   "cell_type": "code",
   "execution_count": 10,
   "metadata": {},
   "outputs": [
    {
     "data": {
      "text/plain": [
       "f1! (generic function with 1 method)"
      ]
     },
     "metadata": {},
     "output_type": "display_data"
    }
   ],
   "source": [
    "###### Velocity function for the particles ######\n",
    "# some (intermediate) parameters can be precomputed\n",
    "# for the time being all parameters are computed again\n",
    "# construct a struct class named Params to pass keyword arguments locally\n",
    "function f1!(ds, s, t, i, d; bc_treat=\"original\", L=L, H=H)\n",
    "    x, y, z, age = s\n",
    "    z = 0.0\n",
    "    up = 0\n",
    "    vp = 0\n",
    "    dt = d[\"dt\"]\n",
    "    uw = u(x, y, z, t)\n",
    "    vw = v(x, y, z, t)\n",
    " \n",
    "    # add background flow velocity\n",
    "    up += uw\n",
    "    vp += vw\n",
    " \n",
    "    # specify gaussian diffusion parameters\n",
    "    epsx = 1\n",
    "    epsz = 1e-5  \n",
    " \n",
    "    # add bc treament to fix particles diffusion problem\n",
    "    if bc_treat==\"original\"\n",
    "       up += randn()*sqrt(2*epsx*dt)/dt\n",
    "       vp += randn()*sqrt(2*epsz*dt)/dt\n",
    "    elseif bc_treat == \"reflection\"\n",
    "       # assume a wall at the bc some particles will bounce back without losing kinetic energy\n",
    "       up += randn()*sqrt(2*epsx*dt)/dt\n",
    "       vp += randn()*sqrt(2*epsz*dt)/dt\n",
    "       xp = x + up*dt # xp and yp are virtual particle location\n",
    "       yp = y + vp*dt\n",
    "       # reflection in horizontal direction\n",
    "       xsurplus = 0\n",
    "       if xp < 0\n",
    "          xsurplus = xp - 0\n",
    "       elseif xp > L\n",
    "          xsurplus = xp - L\n",
    "       end\n",
    "       up -= 2 * xsurplus / dt\n",
    "       # reflection in vertical direction\n",
    "       ysurplus = 0\n",
    "       if yp < 0\n",
    "          ysurplus = yp - 0\n",
    "       elseif yp > H\n",
    "          ysurplus = yp - H\n",
    "       end\n",
    "       vp -= 2 * ysurplus / dt\n",
    "    elseif bc_treat == \"suppression\"\n",
    "       # supress diffusion near the boundary\n",
    "       # a criterion of 3-sigma is applied\n",
    "       bcx_THICKNESS = sqrt(2*epsx) * (3*sqrt(dt))\n",
    "       bcy_THICKNESS = sqrt(2*epsz) * (3*sqrt(dt))\n",
    "       if abs(x)>bcx_THICKNESS && abs(x-L)>bcx_THICKNESS\n",
    "          up += randn()*sqrt(2*epsx*dt)/dt\n",
    "       end\n",
    "       if abs(y)>bcy_THICKNESS && abs(y-H)>bcy_THICKNESS\n",
    "          vp += randn()*sqrt(2*epsz*dt)/dt\n",
    "       end\n",
    "    end\n",
    "    # record the particle velocity\n",
    "    ds.x = up\n",
    "    ds.y = vp\n",
    "    ds.z = 0.0\n",
    "    ds.t = 1.0\n",
    " \n",
    "    if d[\"time_direction\"] == :backwards\n",
    "       up *= -1\n",
    "       vp *= -1\n",
    "    end\n",
    " end\n",
    " #bc_treat = \"original\"\n",
    " #function fhelp!(ds, s, t, i, d; bc_treat=bc_treat) f1!(ds, s, t, i, d; bc_treat=bc_treat) end\n",
    " #d[\"f\"]= fhelp!"
   ]
  },
  {
   "cell_type": "code",
   "execution_count": 11,
   "metadata": {},
   "outputs": [
    {
     "data": {
      "text/plain": [
       "plot_background (generic function with 1 method)"
      ]
     },
     "metadata": {},
     "output_type": "display_data"
    }
   ],
   "source": [
    "# use streamfunction as background for plotting\n",
    "\n",
    "function plot_background(d)\n",
    "    x = 0:5:100\n",
    "    y = 0:5:50\n",
    "    xs=kron(x,ones(length(y)))\n",
    "    ys=kron(ones(length(x)),y)\n",
    "    Plots.default(:size, d[\"plot_maps_size\"])\n",
    "    scale = 5\n",
    "    u_plot = zeros(length(x)*length(y))\n",
    "    v_plot = zeros(length(x)*length(y))\n",
    "    for i = 1:length(x)\n",
    "        for j = 1:length(y)\n",
    "            u_plot[(i-1)*length(y)+j] = u(x[i], y[j], 0.0, 0.0)\n",
    "            v_plot[(i-1)*length(y)+j] = v(x[i], y[j], 0.0, 0.0)\n",
    "        end\n",
    "    end\n",
    "    f = quiver(xs,ys,quiver=(scale*u_plot,scale*v_plot))\n",
    "    return(f)\n",
    " end\n",
    "# d[\"plot_maps_background\"] = plot_background\n",
    " "
   ]
  },
  {
   "cell_type": "code",
   "execution_count": 12,
   "metadata": {},
   "outputs": [
    {
     "data": {
      "text/plain": [
       "plot_trajectories (generic function with 1 method)"
      ]
     },
     "metadata": {},
     "output_type": "display_data"
    }
   ],
   "source": [
    "# screenshot of particles\n",
    "function plot_screenshot(d; dirname=\"\", fnametag=\"\")\n",
    "  t_plot=d[\"keep_particle_times\"];\n",
    "  p=d[\"all_particles\"]\n",
    "  for i in 1:length(t_plot)\n",
    "      fig = d[\"plot_maps_background\"](d)\n",
    "      fname = dirname*\"\\\\screenshot_time\"*\"$(t_plot[i])\"*\".png\"\n",
    "      d[\"plot_maps_func\"](fig, d, p[i])\n",
    "      savefig(fig, fname)\n",
    "  end\n",
    "  nothing\n",
    "end\n",
    "\n",
    "function plot_trajectories(d; dirname=\"\", fnametag=\"\")\n",
    "    # plot particles' trajectories\n",
    "    t_plot = d[\"keep_particle_times\"];\n",
    "    p = d[\"all_particles\"]\n",
    "    n = d[\"nparticles\"]\n",
    "    p_x = zeros(length(t_plot), n)\n",
    "    p_y = zeros(length(t_plot), n)\n",
    "    for i in 1:length(t_plot)\n",
    "        p_x[i, :] = p[i][1,:]\n",
    "        p_y[i, :] = p[i][2,:]\n",
    "    end\n",
    "\n",
    "    # prepare the data for plotting\n",
    "    # note that the data points at the first and the end are used once\n",
    "    indices = reduce(vcat, [[j for i in 1:2] for j in 1:length(t_plot)]) #reduce a vector of vectors to a vector\n",
    "    indices = indices[begin+1:end-1]\n",
    "    fig = d[\"plot_maps_background\"](d)\n",
    "    fname = dirname*\"\\\\trajectories_$(fnametag).png\"\n",
    "\n",
    "    for i in 1:n\n",
    "        plot!(fig, p_x[indices, i], p_y[indices, i], \n",
    "               legend=egend =:outerright, \n",
    "               size = (1400, 800),\n",
    "               linewidth = 2.5,\n",
    "               markershape = :circle,\n",
    "               markersize = 1.5,\n",
    "               markerstrokecolor=:auto,\n",
    "               label = \"particle$(i)\")\n",
    "    end\n",
    "\n",
    "    savefig(fig, fname)\n",
    "end"
   ]
  },
  {
   "cell_type": "code",
   "execution_count": 13,
   "metadata": {},
   "outputs": [
    {
     "data": {
      "text/plain": [
       "4×15 Matrix{Float64}:\n",
       " 51.423   50.4084  50.5886  49.7037  …  49.6781  50.2463  49.8212  48.5221\n",
       " 24.8146  26.2697  24.8375  24.9328     25.512   24.2413  24.232   24.9697\n",
       "  0.0      0.0      0.0      0.0         0.0      0.0      0.0      0.0\n",
       "  0.0      0.0      0.0      0.0         0.0      0.0      0.0      0.0"
      ]
     },
     "metadata": {},
     "output_type": "display_data"
    }
   ],
   "source": [
    "# compute the initial position of particles\n",
    "function get_p0()\n",
    "    # Load default settings and adjust\n",
    "    # collected configuration is in Dict d\n",
    "    d = default_userdata() # start with some defaults\n",
    "    # settings for this experiment\n",
    "    n = 15 # number of particles\n",
    "    d[\"nparticles\"] = n\n",
    "    # all variables for one particle are collected in a vector\n",
    "    variables = [\"x\", \"y\", \"z\", \"age\"]\n",
    "    d[\"variables\"] = variables\n",
    "    # initial position of the particles\n",
    "    m = length(variables)\n",
    "    p = zeros(m, n)\n",
    "    p[1, :] = 50 .+ 1 * randn(randpool, n, 1) # particles are spawned roughly at the center of the graph\n",
    "    p[2, :] = 25 .+ 1 * randn(randpool, n, 1)\n",
    "    d[\"particles\"] = p # initial values\n",
    "    p;\n",
    "end \n",
    "p0 = get_p0()"
   ]
  },
  {
   "cell_type": "code",
   "execution_count": 14,
   "metadata": {},
   "outputs": [
    {
     "name": "stdout",
     "output_type": "stream",
     "text": [
      "[51.423048580664314 50.40838681696171 50.58862138060246 49.703722302890924 50.69111073411025 50.50687363404227 49.943070123901045 48.22897635462786 51.590622520307406 51.39706144739974 50.48155603952425 49.67805684710403 50.24634263300826 49.82121126768698 48.52211927507813; 24.81457581826701 26.269723691035253 24.837496135667518 24.93281329471806 25.407256743931118 25.57728198659179 25.891315091076542 22.705509656726495 23.826974247731158 24.120084500834714 24.505957340195692 25.511959302312157 24.241299016905078 24.23204016049694 24.96969682367943; 0.0 0.0 0.0 0.0 0.0 0.0 0.0 0.0 0.0 0.0 0.0 0.0 0.0 0.0 0.0; 0.0 0.0 0.0 0.0 0.0 0.0 0.0 0.0 0.0 0.0 0.0 0.0 0.0 0.0 0.0]"
     ]
    }
   ],
   "source": [
    "print(p0)"
   ]
  },
  {
   "cell_type": "code",
   "execution_count": 15,
   "metadata": {},
   "outputs": [
    {
     "data": {
      "text/plain": [
       "\"d:\\\\Projects\\\\particles.jl\\\\example_notebooks\\\\vortex\\\\eps1\""
      ]
     },
     "metadata": {},
     "output_type": "display_data"
    }
   ],
   "source": [
    "dirname = \"vortex\\\\eps$(1)\"\n",
    "if ~isdir(dirname)\n",
    "    mkdir(dirname)\n",
    "end\n",
    "dirname = joinpath(@__DIR__, dirname)"
   ]
  },
  {
   "cell_type": "code",
   "execution_count": 16,
   "metadata": {},
   "outputs": [
    {
     "data": {
      "text/plain": [
       "4×15 Matrix{Float64}:\n",
       " 49.5174  48.8425  49.7858  48.6281  …  50.8162  50.1525  49.6699  51.4443\n",
       " 24.5572  26.0969  24.7489  25.2923     25.5567  24.4311  24.5231  25.1746\n",
       "  0.0      0.0      0.0      0.0         0.0      0.0      0.0      0.0\n",
       "  0.0      0.0      0.0      0.0         0.0      0.0      0.0      0.0"
      ]
     },
     "metadata": {},
     "output_type": "display_data"
    },
    {
     "data": {
      "text/plain": [
       "2×2 Matrix{Float64}:\n",
       " -1.0  -1.0\n",
       "  2.0   2.0"
      ]
     },
     "metadata": {},
     "output_type": "display_data"
    },
    {
     "data": {
      "text/plain": [
       "4×15 Matrix{Float64}:\n",
       " 48.8662  50.3741  51.3054  49.1607  …  49.2601  50.1492  51.7469  48.5526\n",
       " 24.7391  26.1491  23.3555  24.5859     25.1731  26.8887  24.1203  25.8821\n",
       "  0.0      0.0      0.0      0.0         0.0      0.0      0.0      0.0\n",
       "  0.0      0.0      0.0      0.0         0.0      0.0      0.0      0.0"
      ]
     },
     "metadata": {},
     "output_type": "display_data"
    },
    {
     "data": {
      "text/plain": [
       "2×2 Matrix{Float64}:\n",
       " -1.0  -1.0\n",
       "  2.0   2.0"
      ]
     },
     "metadata": {},
     "output_type": "display_data"
    },
    {
     "data": {
      "text/plain": [
       "4×15 Matrix{Float64}:\n",
       " 50.3779  48.9999  49.4358  49.0184  …  48.83    52.2451  50.2471  49.113\n",
       " 23.3432  22.7802  26.6063  25.9533     24.5514  25.4383  24.694   24.0968\n",
       "  0.0      0.0      0.0      0.0         0.0      0.0      0.0      0.0\n",
       "  0.0      0.0      0.0      0.0         0.0      0.0      0.0      0.0"
      ]
     },
     "metadata": {},
     "output_type": "display_data"
    },
    {
     "data": {
      "text/plain": [
       "2×2 Matrix{Float64}:\n",
       " -1.0  -1.0\n",
       "  2.0   2.0"
      ]
     },
     "metadata": {},
     "output_type": "display_data"
    },
    {
     "data": {
      "text/plain": [
       "4×15 Matrix{Float64}:\n",
       " 49.742   51.4522  49.7544  51.0813  …  51.5067  48.3144  49.0319  49.8373\n",
       " 25.8952  25.6129  26.6787  24.5999     25.4128  24.6828  25.7691  23.5951\n",
       "  0.0      0.0      0.0      0.0         0.0      0.0      0.0      0.0\n",
       "  0.0      0.0      0.0      0.0         0.0      0.0      0.0      0.0"
      ]
     },
     "metadata": {},
     "output_type": "display_data"
    },
    {
     "data": {
      "text/plain": [
       "2×2 Matrix{Float64}:\n",
       " -1.0  -1.0\n",
       "  2.0   2.0"
      ]
     },
     "metadata": {},
     "output_type": "display_data"
    },
    {
     "data": {
      "text/plain": [
       "4×15 Matrix{Float64}:\n",
       " 49.9927  49.8323  49.6211  49.8126  …  51.2676  47.9762  49.7277  50.6587\n",
       " 23.8034  25.7244  23.6797  23.6761     25.1359  25.9838  25.6053  24.4204\n",
       "  0.0      0.0      0.0      0.0         0.0      0.0      0.0      0.0\n",
       "  0.0      0.0      0.0      0.0         0.0      0.0      0.0      0.0"
      ]
     },
     "metadata": {},
     "output_type": "display_data"
    },
    {
     "data": {
      "text/plain": [
       "2×2 Matrix{Float64}:\n",
       " -1.0  -1.0\n",
       "  2.0   2.0"
      ]
     },
     "metadata": {},
     "output_type": "display_data"
    },
    {
     "data": {
      "text/plain": [
       "4×15 Matrix{Float64}:\n",
       " 49.1993  49.4438  49.5444  51.0773  …  50.1378  51.6397  50.5625  49.5101\n",
       " 25.8971  25.3904  25.0012  25.1999     24.2487  23.5232  24.6789  23.925\n",
       "  0.0      0.0      0.0      0.0         0.0      0.0      0.0      0.0\n",
       "  0.0      0.0      0.0      0.0         0.0      0.0      0.0      0.0"
      ]
     },
     "metadata": {},
     "output_type": "display_data"
    },
    {
     "data": {
      "text/plain": [
       "2×2 Matrix{Float64}:\n",
       " -1.0  -1.0\n",
       "  2.0   2.0"
      ]
     },
     "metadata": {},
     "output_type": "display_data"
    }
   ],
   "source": [
    "open(\"stdout.txt\",\"w\") do io\n",
    "redirect_stdout(io) do\n",
    "    for cycle_number in 1:2\n",
    "        for bc_treat in [\"original\", \"reflection\", \"suppression\"]\n",
    "            d = default_userdata() # start with some defaults\n",
    "            d = init_setup(d)\n",
    "            #d[\"particles\"] = p0\n",
    "            function fhelp!(ds, s, t, i, d; bc_treat=bc_treat) f1!(ds, s, t, i, d; bc_treat=bc_treat) end\n",
    "            d[\"f\"]= fhelp!\n",
    "            d[\"g\"]= g!\n",
    "            d[\"plot_maps_background\"] = plot_background\n",
    "            @time run_simulation(d)\n",
    "            plot_trajectories(d; dirname=dirname, fnametag=\"$(bc_treat)_cycle$cycle_number\")\n",
    "        end\n",
    "    end\n",
    "end\n",
    "end"
   ]
  },
  {
   "cell_type": "code",
   "execution_count": 17,
   "metadata": {},
   "outputs": [],
   "source": [
    "# t_plot=d[\"keep_particle_times\"];\n",
    "# p=d[\"all_particles\"]\n",
    "\n",
    "# display(size(p))\n",
    "# display(typeof(p))\n",
    "# display(size(p[1]))\n",
    "# display(size(p[:][:,1]))\n",
    "# display(size(p[:][1,1]))\n",
    "# display(typeof(p[:][1,1]))\n",
    "\n",
    "# display(size(p[1][1,:]))\n",
    "# display(typeof(p[1][1,:]))\n",
    "\n",
    "# # obtain the location data\n",
    "# display(d[\"variables\"])\n",
    "# display(length(t_plot))\n",
    "# display(\"Particle number\")\n",
    "# display(n)"
   ]
  }
 ],
 "metadata": {
  "kernelspec": {
   "display_name": "Julia 1.9.2",
   "language": "julia",
   "name": "julia-1.9"
  },
  "language_info": {
   "file_extension": ".jl",
   "mimetype": "application/julia",
   "name": "julia",
   "version": "1.9.2"
  },
  "orig_nbformat": 4
 },
 "nbformat": 4,
 "nbformat_minor": 2
}
